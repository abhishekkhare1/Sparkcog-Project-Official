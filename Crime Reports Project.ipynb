{
 "cells": [
  {
   "cell_type": "code",
   "execution_count": 1,
   "metadata": {},
   "outputs": [
    {
     "ename": "ImportError",
     "evalue": "cannot import name 'train_selection_split'",
     "output_type": "error",
     "traceback": [
      "\u001b[0;31m---------------------------------------------------------------------------\u001b[0m",
      "\u001b[0;31mImportError\u001b[0m                               Traceback (most recent call last)",
      "\u001b[0;32m<ipython-input-1-1e2dec186892>\u001b[0m in \u001b[0;36m<module>\u001b[0;34m()\u001b[0m\n\u001b[1;32m      3\u001b[0m \u001b[0;32mfrom\u001b[0m \u001b[0mamb_sdk\u001b[0m\u001b[0;34m.\u001b[0m\u001b[0msdk\u001b[0m \u001b[0;32mimport\u001b[0m \u001b[0mDarwinSdk\u001b[0m\u001b[0;34m\u001b[0m\u001b[0m\n\u001b[1;32m      4\u001b[0m \u001b[0;32mimport\u001b[0m \u001b[0mpandas\u001b[0m \u001b[0;32mas\u001b[0m \u001b[0mpd\u001b[0m\u001b[0;34m\u001b[0m\u001b[0m\n\u001b[0;32m----> 5\u001b[0;31m \u001b[0;32mfrom\u001b[0m \u001b[0msklearn\u001b[0m\u001b[0;34m.\u001b[0m\u001b[0mmodel_selection\u001b[0m \u001b[0;32mimport\u001b[0m \u001b[0mtrain_selection_split\u001b[0m\u001b[0;34m\u001b[0m\u001b[0m\n\u001b[0m\u001b[1;32m      6\u001b[0m \u001b[0;34m\u001b[0m\u001b[0m\n\u001b[1;32m      7\u001b[0m \u001b[0mds\u001b[0m \u001b[0;34m=\u001b[0m \u001b[0mDarwinSdk\u001b[0m\u001b[0;34m(\u001b[0m\u001b[0;34m)\u001b[0m\u001b[0;34m\u001b[0m\u001b[0m\n",
      "\u001b[0;31mImportError\u001b[0m: cannot import name 'train_selection_split'"
     ]
    }
   ],
   "source": [
    "# Avner Khan, Kirana Raja, Abhishek Khare, Joshua Deng\n",
    "\n",
    "from amb_sdk.sdk import DarwinSdk\n",
    "import pandas as pd\n",
    "from sklearn.model_selection import train_selection_split\n",
    "\n",
    "ds = DarwinSdk()\n",
    "ds.set_url('https://amb-demo-api.sparkcognition.com/v1/')\n"
   ]
  },
  {
   "cell_type": "code",
   "execution_count": null,
   "metadata": {},
   "outputs": [],
   "source": [
    "\n",
    "#Create a new user\n",
    "status, msg = ds.auth_login_user('AVNERKHAN@UTEXAS.edu', 'xcGPvw7VMm')\n",
    "if not status:\n",
    "    print(msg)\n",
    "print(status)"
   ]
  },
  {
   "cell_type": "code",
   "execution_count": 3,
   "metadata": {},
   "outputs": [
    {
     "name": "stderr",
     "output_type": "stream",
     "text": [
      "/anaconda3/lib/python3.6/site-packages/IPython/core/interactiveshell.py:2785: DtypeWarning: Columns (16) have mixed types. Specify dtype option on import or set low_memory=False.\n",
      "  interactivity=interactivity, compiler=compiler, result=result)\n"
     ]
    },
    {
     "name": "stdout",
     "output_type": "stream",
     "text": [
      "2120771\n",
      "   Incident Number Highest Offense Description  Highest Offense Code  \\\n",
      "0      20172571868   AGG ROBBERY/DEADLY WEAPON                   300   \n",
      "1      20145045267         BURGLARY OF VEHICLE                   601   \n",
      "2      20155006575         FORGERY AND PASSING                  1000   \n",
      "3      20182741878  POSS OF DRUG PARAPHERNALIA                  1818   \n",
      "4      20033270128  POSS OF DRUG PARAPHERNALIA                  1818   \n",
      "\n",
      "  Family Violence      Occurred Date Time Occurred Date  Occurred Time  \\\n",
      "0               N  09/14/2017 10:37:00 PM    09/14/2017         2237.0   \n",
      "1               N  10/11/2014 05:00:00 PM    10/11/2014         1700.0   \n",
      "2               N  02/11/2015 03:29:00 PM    02/11/2015         1529.0   \n",
      "3               N  10/01/2018 11:51:00 PM    10/01/2018         2351.0   \n",
      "4               N  11/23/2003 01:06:00 AM    11/23/2003          106.0   \n",
      "\n",
      "         Report Date Time Report Date  Report Time  \\\n",
      "0  09/14/2017 10:37:00 PM  09/14/2017       2237.0   \n",
      "1  10/12/2014 04:13:00 AM  10/12/2014        413.0   \n",
      "2  02/15/2015 03:29:00 PM  02/15/2015       1529.0   \n",
      "3  10/01/2018 11:51:00 PM  10/01/2018       2351.0   \n",
      "4  11/23/2003 01:06:00 AM  11/23/2003        106.0   \n",
      "\n",
      "              ...              Census Tract Clearance Status  Clearance Date  \\\n",
      "0             ...                     18.04                O      09/20/2017   \n",
      "1             ...                     11.00                N      11/04/2014   \n",
      "2             ...                      9.02                N      02/17/2015   \n",
      "3             ...                     17.53                N      10/07/2018   \n",
      "4             ...                     11.00                C      11/24/2003   \n",
      "\n",
      "   UCR Category Category Description X-coordinate Y-coordinate   Latitude  \\\n",
      "0           120              Robbery    3125442.0    3125442.0  30.333542   \n",
      "1           23F                Theft    3115529.0    3115529.0  30.268006   \n",
      "2           NaN                  NaN    3121952.0    3121952.0  30.261677   \n",
      "3           NaN                  NaN    3112827.0    3112827.0  30.398291   \n",
      "4           NaN                  NaN    3116240.0    3116240.0  30.264357   \n",
      "\n",
      "   Longitude                     Location  \n",
      "0 -97.705762  (30.33354183, -97.70576196)  \n",
      "1 -97.738955  (30.26800598, -97.73895531)  \n",
      "2 -97.718775  (30.26167703, -97.71877525)  \n",
      "3 -97.744022  (30.39829057, -97.74402237)  \n",
      "4 -97.736801  (30.26435664, -97.73680064)  \n",
      "\n",
      "[5 rows x 27 columns]\n"
     ]
    }
   ],
   "source": [
    "dataset = pd.read_csv(\"Crime_Reports.csv\")\n",
    "print(len(dataset))\n",
    "print(dataset.head())"
   ]
  },
  {
   "cell_type": "code",
   "execution_count": null,
   "metadata": {},
   "outputs": [],
   "source": []
  }
 ],
 "metadata": {
  "kernelspec": {
   "display_name": "Python 3",
   "language": "python",
   "name": "python3"
  },
  "language_info": {
   "codemirror_mode": {
    "name": "ipython",
    "version": 3
   },
   "file_extension": ".py",
   "mimetype": "text/x-python",
   "name": "python",
   "nbconvert_exporter": "python",
   "pygments_lexer": "ipython3",
   "version": "3.6.5"
  }
 },
 "nbformat": 4,
 "nbformat_minor": 2
}
