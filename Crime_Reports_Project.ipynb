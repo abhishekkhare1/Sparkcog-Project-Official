{
 "cells": [
  {
   "cell_type": "code",
   "execution_count": 1,
   "metadata": {},
   "outputs": [],
   "source": [
    "#Instructions\n",
    "#Download Crime_Reports.csv\n",
    "#Use csv_cleaner to change O labels to N and get 80/20 split (TODO) for training/test data\n",
    "#Run cells sequentially\n",
    "#Clean data below\n",
    "#Make sure all names match up"
   ]
  },
  {
   "cell_type": "code",
   "execution_count": 2,
   "metadata": {},
   "outputs": [],
   "source": [
    "# Avner Khan, Kiran Raja, Abhishek Khare, Joshua Deng\n",
    "import matplotlib.pyplot as plt\n",
    "from amb_sdk.sdk import DarwinSdk\n",
    "from time import sleep\n",
    "import pandas as pd\n",
    "import numpy as np\n",
    "import sklearn.model_selection as ms\n",
    "from sklearn.metrics import classification_report\n",
    "import datetime\n",
    "\n",
    "ds = DarwinSdk()\n",
    "ds.set_url('https://amb-demo-api.sparkcognition.com/v1/')\n",
    "ts = '{:%Y%m%d%H%M%S}'.format(datetime.datetime.now())\n"
   ]
  },
  {
   "cell_type": "code",
   "execution_count": 3,
   "metadata": {},
   "outputs": [
    {
     "name": "stdout",
     "output_type": "stream",
     "text": [
      "True\n"
     ]
    }
   ],
   "source": [
    "\n",
    "#Create a new user\n",
    "status, msg = ds.auth_login_user('AVNERKHAN@UTEXAS.edu', 'xcGPvw7VMm')\n",
    "if not status:\n",
    "    print(msg)\n",
    "print(status)"
   ]
  },
  {
   "cell_type": "code",
   "execution_count": 21,
   "metadata": {},
   "outputs": [
    {
     "name": "stdout",
     "output_type": "stream",
     "text": [
      "1516122\n",
      "   Highest Offense Code Family Violence                 Location Type  \\\n",
      "0                  2716               N        GAS / SERVICE STATIONS   \n",
      "1                   600               N              RESIDENCE / HOME   \n",
      "2                   300               N  STREETS / HWY / ROAD / ALLEY   \n",
      "4                  1803               N  STREETS / HWY / ROAD / ALLEY   \n",
      "6                   601               N         PARKING LOTS / GARAGE   \n",
      "\n",
      "   Census Tract Clearance Status  Elapsed Time  \n",
      "0         11.00                C      0.250000  \n",
      "1         21.07                N    213.783333  \n",
      "2         18.04                N      0.000000  \n",
      "4          7.00                C     11.216667  \n",
      "6         11.00                N     75.283333  \n"
     ]
    }
   ],
   "source": [
    "def elapsed_time(oc_date, oc_time, rep_date, rep_time):\n",
    "    oc_date_split_arr = oc_date.split(\"/\")\n",
    "    oc_date_month = oc_date_split_arr[0]\n",
    "    oc_date_day = oc_date_split_arr[1]\n",
    "    oc_date_year = oc_date_split_arr[2]\n",
    "    oc_hr = int(oc_time // 100)\n",
    "    if (oc_hr > 23):\n",
    "        oc_hr = 23\n",
    "    elif (oc_hr < 0):\n",
    "        oc_hr = 0\n",
    "    oc_min = int(oc_time % 100)\n",
    "    if (oc_min > 59):\n",
    "        oc_min = 59\n",
    "    elif (oc_min < 0):\n",
    "        oc_min = 0\n",
    "    oc_datetime = datetime.datetime(int(oc_date_year), int(oc_date_month), int(oc_date_day), oc_hr, oc_min)\n",
    "    rep_date_split_arr = rep_date.split(\"/\")\n",
    "    rep_date_month = rep_date_split_arr[0]\n",
    "    rep_date_day = rep_date_split_arr[1]\n",
    "    rep_date_year = rep_date_split_arr[2]\n",
    "    rep_hr = int(rep_time // 100)\n",
    "    if (rep_hr > 23):\n",
    "        rep_hr = 23\n",
    "    elif (rep_hr < 0):\n",
    "        rep_hr = 0\n",
    "    rep_min = int(rep_time % 100)\n",
    "    if (rep_min > 59):\n",
    "        rep_min = 59\n",
    "    elif (rep_min < 0):\n",
    "        rep_min = 0\n",
    "    rep_datetime = datetime.datetime(int(rep_date_year), int(rep_date_month), int(rep_date_day), rep_hr, rep_min)\n",
    "    elapsed = rep_datetime - oc_datetime\n",
    "    return elapsed.total_seconds() / 3600\n",
    "\n",
    "dataset = pd.read_csv(\"Crime_Reports_Fixed.csv\")\n",
    "# print(len(dataset))\n",
    "dataset = dataset.drop(columns=['Location', 'Category Description', 'UCR Category', 'PRA', 'APD Sector', 'APD District', 'Council District', 'Zip Code', 'Address', 'Incident Number', 'Highest Offense Description', 'Occurred Date Time', 'Report Date Time', 'Clearance Date', 'X-coordinate', 'Y-coordinate', 'Latitude', 'Longitude'])\n",
    "# print(dataset.head())\n",
    "dataset = dataset.dropna()\n",
    "elapsed = []\n",
    "for index, row in dataset.iterrows():\n",
    "#     if (row['Clearance Status'] != 'C'):\n",
    "#         dataset.loc[index, 'Clearance Status'] = 'N'\n",
    "    elapsed.append(elapsed_time(row['Occurred Date'], row['Occurred Time'], row['Report Date'], row['Report Time']))\n",
    "elapsed_df = pd.DataFrame(data=elapsed)\n",
    "dataset['Elapsed Time'] = elapsed_df\n",
    "dataset = dataset.drop(columns=['Occurred Date', 'Occurred Time', 'Report Date', 'Report Time'])\n",
    "print(len(dataset))\n",
    "print(dataset.head())\n",
    "dataset.to_csv('Cleaned_Crime_Reports_Full_2.csv') # Actual TRAINING Data"
   ]
  },
  {
   "cell_type": "code",
   "execution_count": 4,
   "metadata": {},
   "outputs": [
    {
     "name": "stdout",
     "output_type": "stream",
     "text": [
      "True None\n"
     ]
    }
   ],
   "source": [
    "status, message = ds.delete_dataset(\"Cleaned_Crime_Reports_Full_2.csv\")\n",
    "print(status, message)"
   ]
  },
  {
   "cell_type": "code",
   "execution_count": 16,
   "metadata": {},
   "outputs": [
    {
     "name": "stdout",
     "output_type": "stream",
     "text": [
      "         Highest Offense Code Family Violence                 Location Type  \\\n",
      "729732                   2008               N              RESIDENCE / HOME   \n",
      "261916                   2010               N         PARKING LOTS / GARAGE   \n",
      "1203836                  1199               N              RESIDENCE / HOME   \n",
      "706689                    902               Y              RESIDENCE / HOME   \n",
      "1030200                  2406               N  STREETS / HWY / ROAD / ALLEY   \n",
      "\n",
      "         Census Tract Clearance Status  Elapsed Time  \n",
      "729732          13.05                N      0.966667  \n",
      "261916          20.05                N    120.316667  \n",
      "1203836         24.27                N           NaN  \n",
      "706689          23.04                N      2.033333  \n",
      "1030200         11.00                C      0.000000  \n",
      "         Highest Offense Code Family Violence                 Location Type  \\\n",
      "293387                   2707               N  STREETS / HWY / ROAD / ALLEY   \n",
      "851264                   3442               N  STREETS / HWY / ROAD / ALLEY   \n",
      "422011                   2300               N  STREETS / HWY / ROAD / ALLEY   \n",
      "1299447                   610               N  STREETS / HWY / ROAD / ALLEY   \n",
      "866793                   4100               N              RESIDENCE / HOME   \n",
      "\n",
      "         Census Tract Clearance Status  Elapsed Time  \n",
      "293387          17.18                C           5.4  \n",
      "851264          18.22                C           0.0  \n",
      "422011          11.00                C           0.0  \n",
      "1299447       9800.00                N           NaN  \n",
      "866793          18.33                N           0.0  \n"
     ]
    }
   ],
   "source": [
    "#Split Train and Test Data\n",
    "dataset = pd.read_csv(\"Cleaned_Crime_Reports_Full_2.csv\")\n",
    "dataset = dataset.drop(dataset.columns[0], axis=1)\n",
    "dataset = dataset.sample(frac=1)\n",
    "train_data = dataset.iloc[:int(len(dataset)*.8)]\n",
    "test_data = dataset.iloc[int(len(dataset)*.8):]\n",
    "print(train_data.head())\n",
    "print(test_data.head())\n",
    "train_data.to_csv(\"Cleaned_Crime_Reports_Train.csv\")\n",
    "test_data.to_csv(\"Cleaned_Crime_Reports_Test.csv\")"
   ]
  },
  {
   "cell_type": "code",
   "execution_count": 18,
   "metadata": {},
   "outputs": [
    {
     "name": "stdout",
     "output_type": "stream",
     "text": [
      "True None\n",
      "{'status': 'Requested', 'starttime': '2019-04-19T22:09:24.089835', 'endtime': None, 'percent_complete': 0, 'job_type': 'CleanDataTiny', 'loss': None, 'generations': None, 'dataset_names': ['Cleaned_Crime_Reports_Train.csv'], 'artifact_names': ['c8603bd870c945e8a1d29cf4690d0552'], 'model_name': None, 'job_error': None}\n",
      "{'status': 'Running', 'starttime': '2019-04-19T22:09:24.089835', 'endtime': None, 'percent_complete': 0, 'job_type': 'CleanDataTiny', 'loss': None, 'generations': None, 'dataset_names': ['Cleaned_Crime_Reports_Train.csv'], 'artifact_names': ['c8603bd870c945e8a1d29cf4690d0552'], 'model_name': None, 'job_error': ''}\n",
      "{'status': 'Running', 'starttime': '2019-04-19T22:09:24.089835', 'endtime': None, 'percent_complete': 0, 'job_type': 'CleanDataTiny', 'loss': None, 'generations': None, 'dataset_names': ['Cleaned_Crime_Reports_Train.csv'], 'artifact_names': ['c8603bd870c945e8a1d29cf4690d0552'], 'model_name': None, 'job_error': ''}\n",
      "{'status': 'Running', 'starttime': '2019-04-19T22:09:24.089835', 'endtime': None, 'percent_complete': 0, 'job_type': 'CleanDataTiny', 'loss': None, 'generations': None, 'dataset_names': ['Cleaned_Crime_Reports_Train.csv'], 'artifact_names': ['c8603bd870c945e8a1d29cf4690d0552'], 'model_name': None, 'job_error': ''}\n",
      "{'status': 'Running', 'starttime': '2019-04-19T22:09:24.089835', 'endtime': None, 'percent_complete': 0, 'job_type': 'CleanDataTiny', 'loss': None, 'generations': None, 'dataset_names': ['Cleaned_Crime_Reports_Train.csv'], 'artifact_names': ['c8603bd870c945e8a1d29cf4690d0552'], 'model_name': None, 'job_error': ''}\n",
      "{'status': 'Running', 'starttime': '2019-04-19T22:09:24.089835', 'endtime': None, 'percent_complete': 0, 'job_type': 'CleanDataTiny', 'loss': None, 'generations': None, 'dataset_names': ['Cleaned_Crime_Reports_Train.csv'], 'artifact_names': ['c8603bd870c945e8a1d29cf4690d0552'], 'model_name': None, 'job_error': ''}\n",
      "{'status': 'Running', 'starttime': '2019-04-19T22:09:24.089835', 'endtime': None, 'percent_complete': 0, 'job_type': 'CleanDataTiny', 'loss': None, 'generations': None, 'dataset_names': ['Cleaned_Crime_Reports_Train.csv'], 'artifact_names': ['c8603bd870c945e8a1d29cf4690d0552'], 'model_name': None, 'job_error': ''}\n",
      "{'status': 'Running', 'starttime': '2019-04-19T22:09:24.089835', 'endtime': None, 'percent_complete': 0, 'job_type': 'CleanDataTiny', 'loss': None, 'generations': None, 'dataset_names': ['Cleaned_Crime_Reports_Train.csv'], 'artifact_names': ['c8603bd870c945e8a1d29cf4690d0552'], 'model_name': None, 'job_error': ''}\n",
      "{'status': 'Running', 'starttime': '2019-04-19T22:09:24.089835', 'endtime': None, 'percent_complete': 0, 'job_type': 'CleanDataTiny', 'loss': None, 'generations': None, 'dataset_names': ['Cleaned_Crime_Reports_Train.csv'], 'artifact_names': ['c8603bd870c945e8a1d29cf4690d0552'], 'model_name': None, 'job_error': ''}\n",
      "{'status': 'Complete', 'starttime': '2019-04-19T22:09:24.089835', 'endtime': '2019-04-19T22:11:33.679335', 'percent_complete': 100, 'job_type': 'CleanDataTiny', 'loss': None, 'generations': None, 'dataset_names': ['Cleaned_Crime_Reports_Train.csv'], 'artifact_names': ['c8603bd870c945e8a1d29cf4690d0552'], 'model_name': None, 'job_error': ''}\n"
     ]
    }
   ],
   "source": [
    "#Upload Train Data\n",
    "status, message = ds.delete_dataset(\"Cleaned_Crime_Reports_Train.csv\")\n",
    "print(status, message)\n",
    "status, uploaded_dataset = ds.upload_dataset(\"Cleaned_Crime_Reports_Train.csv\")\n",
    "if not status:\n",
    "    print(uploaded_dataset)\n",
    "\n",
    "#Clean Train Data\n",
    "target = \"Clearance Status\"\n",
    "status, job_id = ds.clean_data(\"Cleaned_Crime_Reports_Train.csv\", target = target)\n",
    "if status:\n",
    "    ds.wait_for_job(job_id['job_name'])\n",
    "else:\n",
    "    print(job_id)"
   ]
  },
  {
   "cell_type": "code",
   "execution_count": 19,
   "metadata": {},
   "outputs": [
    {
     "name": "stdout",
     "output_type": "stream",
     "text": [
      "True None\n",
      "{'status': 'Requested', 'starttime': '2019-04-19T22:12:52.181794', 'endtime': None, 'percent_complete': 0, 'job_type': 'TrainModel', 'loss': None, 'generations': 0, 'dataset_names': ['Cleaned_Crime_Reports_Train.csv'], 'artifact_names': None, 'model_name': 'Clearance Status_model220190419212740', 'job_error': None}\n",
      "{'status': 'Running', 'starttime': '2019-04-19T22:12:52.181794', 'endtime': None, 'percent_complete': 0, 'job_type': 'TrainModel', 'loss': None, 'generations': 0, 'dataset_names': ['Cleaned_Crime_Reports_Train.csv'], 'artifact_names': None, 'model_name': 'Clearance Status_model220190419212740', 'job_error': ''}\n",
      "{'status': 'Running', 'starttime': '2019-04-19T22:12:52.181794', 'endtime': None, 'percent_complete': 0, 'job_type': 'TrainModel', 'loss': None, 'generations': 0, 'dataset_names': ['Cleaned_Crime_Reports_Train.csv'], 'artifact_names': None, 'model_name': 'Clearance Status_model220190419212740', 'job_error': ''}\n",
      "{'status': 'Running', 'starttime': '2019-04-19T22:12:52.181794', 'endtime': None, 'percent_complete': 0, 'job_type': 'TrainModel', 'loss': None, 'generations': 0, 'dataset_names': ['Cleaned_Crime_Reports_Train.csv'], 'artifact_names': None, 'model_name': 'Clearance Status_model220190419212740', 'job_error': ''}\n",
      "{'status': 'Running', 'starttime': '2019-04-19T22:12:52.181794', 'endtime': None, 'percent_complete': 0, 'job_type': 'TrainModel', 'loss': None, 'generations': 0, 'dataset_names': ['Cleaned_Crime_Reports_Train.csv'], 'artifact_names': None, 'model_name': 'Clearance Status_model220190419212740', 'job_error': ''}\n",
      "{'status': 'Running', 'starttime': '2019-04-19T22:12:52.181794', 'endtime': None, 'percent_complete': 0, 'job_type': 'TrainModel', 'loss': None, 'generations': 0, 'dataset_names': ['Cleaned_Crime_Reports_Train.csv'], 'artifact_names': None, 'model_name': 'Clearance Status_model220190419212740', 'job_error': ''}\n",
      "{'status': 'Running', 'starttime': '2019-04-19T22:12:52.181794', 'endtime': None, 'percent_complete': 0, 'job_type': 'TrainModel', 'loss': None, 'generations': 0, 'dataset_names': ['Cleaned_Crime_Reports_Train.csv'], 'artifact_names': None, 'model_name': 'Clearance Status_model220190419212740', 'job_error': ''}\n",
      "{'status': 'Running', 'starttime': '2019-04-19T22:12:52.181794', 'endtime': None, 'percent_complete': 0, 'job_type': 'TrainModel', 'loss': None, 'generations': 0, 'dataset_names': ['Cleaned_Crime_Reports_Train.csv'], 'artifact_names': None, 'model_name': 'Clearance Status_model220190419212740', 'job_error': ''}\n",
      "{'status': 'Running', 'starttime': '2019-04-19T22:12:52.181794', 'endtime': None, 'percent_complete': 0, 'job_type': 'TrainModel', 'loss': None, 'generations': 0, 'dataset_names': ['Cleaned_Crime_Reports_Train.csv'], 'artifact_names': None, 'model_name': 'Clearance Status_model220190419212740', 'job_error': ''}\n",
      "{'status': 'Running', 'starttime': '2019-04-19T22:12:52.181794', 'endtime': None, 'percent_complete': 0, 'job_type': 'TrainModel', 'loss': None, 'generations': 0, 'dataset_names': ['Cleaned_Crime_Reports_Train.csv'], 'artifact_names': None, 'model_name': 'Clearance Status_model220190419212740', 'job_error': ''}\n",
      "{'status': 'Running', 'starttime': '2019-04-19T22:12:52.181794', 'endtime': None, 'percent_complete': 0, 'job_type': 'TrainModel', 'loss': None, 'generations': 0, 'dataset_names': ['Cleaned_Crime_Reports_Train.csv'], 'artifact_names': None, 'model_name': 'Clearance Status_model220190419212740', 'job_error': ''}\n",
      "{'status': 'Complete', 'starttime': '2019-04-19T22:12:52.181794', 'endtime': '2019-04-19T22:15:29.446607', 'percent_complete': 100, 'job_type': 'TrainModel', 'loss': None, 'generations': 0, 'dataset_names': ['Cleaned_Crime_Reports_Train.csv'], 'artifact_names': None, 'model_name': 'Clearance Status_model220190419212740', 'job_error': ''}\n"
     ]
    }
   ],
   "source": [
    "#Creating Model\n",
    "model = target + \"_model2\" + ts\n",
    "status, message = ds.delete_model(model)\n",
    "print(status, message)\n",
    "status, job_id = ds.create_model(dataset_names = \"Cleaned_Crime_Reports_Train.csv\", \\\n",
    "                                 model_name =  model, \\\n",
    "                                 max_train_time = '00:02')\n",
    "if status:\n",
    "    ds.wait_for_job(job_id['job_name'])\n",
    "else:\n",
    "    print(job_id)\n",
    "    "
   ]
  },
  {
   "cell_type": "code",
   "execution_count": 20,
   "metadata": {},
   "outputs": [
    {
     "name": "stdout",
     "output_type": "stream",
     "text": [
      "{'status': 'Running', 'starttime': '2019-04-19T22:15:48.794653', 'endtime': None, 'percent_complete': 0, 'job_type': 'AnalyzeModel', 'loss': None, 'generations': 0, 'dataset_names': None, 'artifact_names': ['4292b19733c043519599e566edd17ef7'], 'model_name': 'Clearance Status_model220190419212740', 'job_error': ''}\n",
      "{'status': 'Running', 'starttime': '2019-04-19T22:15:48.794653', 'endtime': None, 'percent_complete': 0, 'job_type': 'AnalyzeModel', 'loss': None, 'generations': 0, 'dataset_names': None, 'artifact_names': ['4292b19733c043519599e566edd17ef7'], 'model_name': 'Clearance Status_model220190419212740', 'job_error': ''}\n",
      "{'status': 'Running', 'starttime': '2019-04-19T22:15:48.794653', 'endtime': None, 'percent_complete': 0, 'job_type': 'AnalyzeModel', 'loss': None, 'generations': 0, 'dataset_names': None, 'artifact_names': ['4292b19733c043519599e566edd17ef7'], 'model_name': 'Clearance Status_model220190419212740', 'job_error': ''}\n",
      "{'status': 'Running', 'starttime': '2019-04-19T22:15:48.794653', 'endtime': None, 'percent_complete': 0, 'job_type': 'AnalyzeModel', 'loss': None, 'generations': 0, 'dataset_names': None, 'artifact_names': ['4292b19733c043519599e566edd17ef7'], 'model_name': 'Clearance Status_model220190419212740', 'job_error': ''}\n",
      "{'status': 'Complete', 'starttime': '2019-04-19T22:15:48.794653', 'endtime': '2019-04-19T22:16:35.95806', 'percent_complete': 100, 'job_type': 'AnalyzeModel', 'loss': None, 'generations': 0, 'dataset_names': None, 'artifact_names': ['4292b19733c043519599e566edd17ef7'], 'model_name': 'Clearance Status_model220190419212740', 'job_error': ''}\n"
     ]
    }
   ],
   "source": [
    "#Analyzing Models\n",
    "status, artifact = ds.analyze_model(model)\n",
    "sleep(1)\n",
    "if status:\n",
    "    ds.wait_for_job(artifact['job_name'])\n",
    "else:\n",
    "    print(artifact)\n",
    "status, feature_importance = ds.download_artifact(artifact['artifact_name'])"
   ]
  },
  {
   "cell_type": "code",
   "execution_count": 21,
   "metadata": {},
   "outputs": [
    {
     "name": "stdout",
     "output_type": "stream",
     "text": [
      "Highest Offense Code                                              4.850628e-01\n",
      "Location Type = STREETS / HWY / ROAD / ALLEY                      1.739797e-01\n",
      "Family Violence = Y                                               1.079453e-01\n",
      "Location Type = RESIDENCE / HOME                                  8.133337e-02\n",
      "Location Type = DEPARTMENT / DISCOUNT STORE                       2.839940e-02\n",
      "Unnamed: 0                                                        2.784878e-02\n",
      "Location Type = COMMERCIAL / OFFICE BUILDING                      1.871048e-02\n",
      "Census Tract                                                      1.588223e-02\n",
      "Location Type = PARKING LOTS / GARAGE                             1.306976e-02\n",
      "Location Type = GROCERY / SUPERMARKET                             1.172214e-02\n",
      "Elapsed Time                                                      8.044940e-03\n",
      "Location Type = GOVERNMENT / PUBLIC BUILDING                      5.643072e-03\n",
      "Location Type = OTHER / UNKNOWN                                   5.283649e-03\n",
      "Location Type = HOTEL / MOTEL / ETC.                              2.544885e-03\n",
      "Location Type = RESTAURANTS                                       2.412781e-03\n",
      "Location Type = DRUG STORE / DR. OFFICE / HOSPITAL                2.069498e-03\n",
      "Location Type = CONVENIENCE STORE                                 1.458543e-03\n",
      "Location Type = BAR / NIGHT CLUB                                  1.296128e-03\n",
      "Location Type = SPECIALTY  STORE (TV  FUR ETC.)                   1.035573e-03\n",
      "Location Type = PARK / PLAYGROUND                                 9.980559e-04\n",
      "Location Type = GAS / SERVICE STATIONS                            7.924524e-04\n",
      "Location Type = FIELD / WOODS                                     7.396903e-04\n",
      "Location Type = TRANSPORTATION (AIR / BUS / TRAIN - TERMINALS)    6.469754e-04\n",
      "Location Type = BANKS / SAVINGS & LOAN                            5.830723e-04\n",
      "Location Type = SCHOOLS / COLLEGES                                5.421610e-04\n",
      "Location Type = LAKE / WATERWAY                                   3.389691e-04\n",
      "Location Type = CHURCH / SYNAGOGUE / TEMPLE / MOSQUE              2.773286e-04\n",
      "Location Type = CONSTRUCTION SITE                                 2.510501e-04\n",
      "Location Type = SHELTER-MISSION / HOMELESS                        2.073365e-04\n",
      "Location Type = SCHOOL - COLLEGE / UNIVERSITY                     1.609610e-04\n",
      "Location Type = LIQUOR STORE                                      1.593235e-04\n",
      "Location Type = SCHOOL - ELEMENTARY / SECONDARY                   1.406235e-04\n",
      "Location Type = DAYCARE FACILITY                                  8.739078e-05\n",
      "Location Type = RENTAL STORAGE FACILITY                           7.394617e-05\n",
      "Location Type = SHOPPING MALL                                     5.863444e-05\n",
      "Location Type = JAIL / PRISON                                     5.549070e-05\n",
      "Location Type = AUTO DEALERSHIP NEW / USED                        4.567704e-05\n",
      "Location Type = GAMBLING FACILITY / CASINO / RACE TRACK           3.850194e-05\n",
      "Location Type = COMMUNITY CENTER                                  2.623662e-05\n",
      "Location Type = CAMP / CAMPGROUND                                 1.192940e-05\n",
      "Location Type = AMUSEMENT PARK                                    7.238349e-06\n",
      "Location Type = ARENA / STADIUM / FAIRGROUNDS / COLISEUM          4.325196e-06\n",
      "Location Type = INDUSTRIAL SITE                                   2.302291e-06\n",
      "Location Type = ATM SEPARATE FROM BANK                            2.241465e-06\n",
      "Location Type = DOCK / WHARF / FREIGHT / MODAL TERMINAL           1.554027e-06\n",
      "Location Type = TRIBAL LANDS                                      1.415009e-06\n",
      "Location Type = REST AREA                                         1.258130e-06\n",
      "Location Type = MILITARY INSTALLATION                             7.433977e-07\n",
      "Location Type = FARM FACILITY                                     1.866282e-09\n",
      "dtype: float64\n"
     ]
    }
   ],
   "source": [
    "print(feature_importance)"
   ]
  },
  {
   "cell_type": "code",
   "execution_count": 22,
   "metadata": {},
   "outputs": [
    {
     "name": "stdout",
     "output_type": "stream",
     "text": [
      "True None\n",
      "{'status': 'Requested', 'starttime': '2019-04-19T22:18:11.884577', 'endtime': None, 'percent_complete': 0, 'job_type': 'CleanDataTiny', 'loss': None, 'generations': None, 'dataset_names': ['Cleaned_Crime_Reports_Test.csv'], 'artifact_names': ['8f5e32cde9cc42f08469b90784aa6a5c'], 'model_name': None, 'job_error': None}\n",
      "{'status': 'Running', 'starttime': '2019-04-19T22:18:11.884577', 'endtime': None, 'percent_complete': 0, 'job_type': 'CleanDataTiny', 'loss': None, 'generations': None, 'dataset_names': ['Cleaned_Crime_Reports_Test.csv'], 'artifact_names': ['8f5e32cde9cc42f08469b90784aa6a5c'], 'model_name': None, 'job_error': ''}\n",
      "{'status': 'Complete', 'starttime': '2019-04-19T22:18:11.884577', 'endtime': '2019-04-19T22:18:41.27928', 'percent_complete': 100, 'job_type': 'CleanDataTiny', 'loss': None, 'generations': None, 'dataset_names': ['Cleaned_Crime_Reports_Test.csv'], 'artifact_names': ['8f5e32cde9cc42f08469b90784aa6a5c'], 'model_name': None, 'job_error': ''}\n",
      "{'status': 'Running', 'starttime': '2019-04-19T22:18:43.150859', 'endtime': None, 'percent_complete': 0, 'job_type': 'RunModel', 'loss': None, 'generations': 0, 'dataset_names': ['Cleaned_Crime_Reports_Test.csv'], 'artifact_names': ['4f217719bc2845759bd48e079c0ee95b'], 'model_name': 'Clearance Status_model220190419212740', 'job_error': ''}\n",
      "{'status': 'Complete', 'starttime': '2019-04-19T22:18:43.150859', 'endtime': '2019-04-19T22:18:51.317864', 'percent_complete': 100, 'job_type': 'RunModel', 'loss': None, 'generations': 0, 'dataset_names': ['Cleaned_Crime_Reports_Test.csv'], 'artifact_names': ['4f217719bc2845759bd48e079c0ee95b'], 'model_name': 'Clearance Status_model220190419212740', 'job_error': ''}\n",
      "              precision    recall  f1-score   support\n",
      "\n",
      "           C       0.85      0.78      0.81    104387\n",
      "           N       0.89      0.93      0.91    198838\n",
      "\n",
      "   micro avg       0.88      0.88      0.88    303225\n",
      "   macro avg       0.87      0.85      0.86    303225\n",
      "weighted avg       0.88      0.88      0.88    303225\n",
      "\n"
     ]
    },
    {
     "data": {
      "image/png": "[encoded data removed]",
      "text/plain": [
       "<Figure size 432x288 with 1 Axes>"
      ]
     },
     "metadata": {
      "needs_background": "light"
     },
     "output_type": "display_data"
    }
   ],
   "source": [
    "# status, artifact = ds.run_model(\"Cleaned_Crime_Reports_Full_2.csv\", model)\n",
    "# sleep(1)\n",
    "# ds.wait_for_job(artifact['job_name'])\n",
    "\n",
    "# status, prediction = ds.download_artifact(artifact['artifact_name'])\n",
    "# print(prediction.head())\n",
    "\n",
    "# unq = prediction[target].unique()[::-1]\n",
    "# p = np.zeros((len(prediction),))\n",
    "# a = np.zeros((len(prediction),))\n",
    "# for i,q in enumerate(unq):\n",
    "#     p += i*(prediction[target] == q).values\n",
    "#     a += i*(dataset[target] == q).values\n",
    "# #Plot predictions vs actual\n",
    "# plt.plot(a)\n",
    "# plt.plot(p)\n",
    "# plt.legend(['Actual','Predicted'])\n",
    "# plt.yticks([i for i in range(len(unq))],[q for q in unq]);\n",
    "# print(classification_report(dataset[target], prediction[target]))\n",
    "\n",
    "#Upload Test Data\n",
    "status, message = ds.delete_dataset(\"Cleaned_Crime_Reports_Test.csv\")\n",
    "print(status, message)\n",
    "status, dataset = ds.upload_dataset(\"Cleaned_Crime_Reports_Test.csv\")\n",
    "if not status:\n",
    "    print(dataset)\n",
    "    \n",
    "#Clean Test Data\n",
    "status, job_id = ds.clean_data(\"Cleaned_Crime_Reports_Test.csv\", target = target, model_name = model)\n",
    "if status:\n",
    "    ds.wait_for_job(job_id['job_name'])\n",
    "else:\n",
    "    print(job_id)\n",
    "    \n",
    "#Run Model on Test Data\n",
    "status, artifact = ds.run_model(\"Cleaned_Crime_Reports_Test.csv\", model)\n",
    "sleep(1)\n",
    "ds.wait_for_job(artifact['job_name'])\n",
    "\n",
    "status, prediction = ds.download_artifact(artifact['artifact_name'])\n",
    "df = pd.read_csv(\"Cleaned_Crime_Reports_Test.csv\")\n",
    "unq = prediction[target].unique()[::-1]\n",
    "p = np.zeros((len(prediction),))\n",
    "a = np.zeros((len(prediction),))\n",
    "for i,q in enumerate(unq):\n",
    "    p += i*(prediction[target] == q).values\n",
    "    a += i*(df[target] == q).values\n",
    "#Plot predictions vs actual\n",
    "plt.plot(a)\n",
    "plt.plot(p)\n",
    "plt.legend(['Actual','Predicted'])\n",
    "plt.yticks([i for i in range(len(unq))],[q for q in unq]);\n",
    "print(classification_report(df[target], prediction[target]))"
   ]
  },
  {
   "cell_type": "code",
   "execution_count": 23,
   "metadata": {},
   "outputs": [
    {
     "name": "stdout",
     "output_type": "stream",
     "text": [
      "{'type': 'XGBClassifier', 'parameters': {'base_score': 0.5, 'colsample_bylevel': 1, 'colsample_bytree': 1, 'gamma': 0, 'learning_rate': 0.1, 'max_delta_step': 0, 'max_depth': 3, 'min_child_weight': 1, 'n_estimators': 100, 'n_jobs': -1, 'reg_alpha': 0, 'reg_lambda': 1, 'scale_pos_weight': 1, 'subsample': 1.0}}\n"
     ]
    }
   ],
   "source": [
    "status, model_type = ds.lookup_model_name(model)\n",
    "print(model_type['description']['best_genome'])"
   ]
  },
  {
   "cell_type": "code",
   "execution_count": 24,
   "metadata": {},
   "outputs": [
    {
     "name": "stdout",
     "output_type": "stream",
     "text": [
      "{'status': 'Requested', 'starttime': '2019-04-19T22:22:10.13842', 'endtime': None, 'percent_complete': 0, 'job_type': 'UpdateModel', 'loss': None, 'generations': 0, 'dataset_names': ['Cleaned_Crime_Reports_Train.csv'], 'artifact_names': None, 'model_name': 'Clearance Status_model220190419212740', 'job_error': None}\n",
      "{'status': 'Running', 'starttime': '2019-04-19T22:22:10.13842', 'endtime': None, 'percent_complete': 0, 'job_type': 'UpdateModel', 'loss': None, 'generations': 0, 'dataset_names': ['Cleaned_Crime_Reports_Train.csv'], 'artifact_names': None, 'model_name': 'Clearance Status_model220190419212740', 'job_error': ''}\n",
      "{'status': 'Running', 'starttime': '2019-04-19T22:22:10.13842', 'endtime': None, 'percent_complete': 0, 'job_type': 'UpdateModel', 'loss': None, 'generations': 0, 'dataset_names': ['Cleaned_Crime_Reports_Train.csv'], 'artifact_names': None, 'model_name': 'Clearance Status_model220190419212740', 'job_error': ''}\n",
      "{'status': 'Running', 'starttime': '2019-04-19T22:22:10.13842', 'endtime': None, 'percent_complete': 0, 'job_type': 'UpdateModel', 'loss': None, 'generations': 0, 'dataset_names': ['Cleaned_Crime_Reports_Train.csv'], 'artifact_names': None, 'model_name': 'Clearance Status_model220190419212740', 'job_error': ''}\n",
      "{'status': 'Running', 'starttime': '2019-04-19T22:22:10.13842', 'endtime': None, 'percent_complete': 0, 'job_type': 'UpdateModel', 'loss': None, 'generations': 0, 'dataset_names': ['Cleaned_Crime_Reports_Train.csv'], 'artifact_names': None, 'model_name': 'Clearance Status_model220190419212740', 'job_error': ''}\n",
      "{'status': 'Running', 'starttime': '2019-04-19T22:22:10.13842', 'endtime': None, 'percent_complete': 0, 'job_type': 'UpdateModel', 'loss': None, 'generations': 0, 'dataset_names': ['Cleaned_Crime_Reports_Train.csv'], 'artifact_names': None, 'model_name': 'Clearance Status_model220190419212740', 'job_error': ''}\n",
      "{'status': 'Running', 'starttime': '2019-04-19T22:22:10.13842', 'endtime': None, 'percent_complete': 0, 'job_type': 'UpdateModel', 'loss': None, 'generations': 0, 'dataset_names': ['Cleaned_Crime_Reports_Train.csv'], 'artifact_names': None, 'model_name': 'Clearance Status_model220190419212740', 'job_error': ''}\n",
      "{'status': 'Running', 'starttime': '2019-04-19T22:22:10.13842', 'endtime': None, 'percent_complete': 0, 'job_type': 'UpdateModel', 'loss': None, 'generations': 0, 'dataset_names': ['Cleaned_Crime_Reports_Train.csv'], 'artifact_names': None, 'model_name': 'Clearance Status_model220190419212740', 'job_error': ''}\n",
      "{'status': 'Running', 'starttime': '2019-04-19T22:22:10.13842', 'endtime': None, 'percent_complete': 0, 'job_type': 'UpdateModel', 'loss': None, 'generations': 0, 'dataset_names': ['Cleaned_Crime_Reports_Train.csv'], 'artifact_names': None, 'model_name': 'Clearance Status_model220190419212740', 'job_error': ''}\n",
      "{'status': 'Running', 'starttime': '2019-04-19T22:22:10.13842', 'endtime': None, 'percent_complete': 0, 'job_type': 'UpdateModel', 'loss': None, 'generations': 0, 'dataset_names': ['Cleaned_Crime_Reports_Train.csv'], 'artifact_names': None, 'model_name': 'Clearance Status_model220190419212740', 'job_error': ''}\n",
      "{'status': 'Running', 'starttime': '2019-04-19T22:22:10.13842', 'endtime': None, 'percent_complete': 0, 'job_type': 'UpdateModel', 'loss': None, 'generations': 0, 'dataset_names': ['Cleaned_Crime_Reports_Train.csv'], 'artifact_names': None, 'model_name': 'Clearance Status_model220190419212740', 'job_error': ''}\n",
      "{'status': 'Running', 'starttime': '2019-04-19T22:22:10.13842', 'endtime': None, 'percent_complete': 0, 'job_type': 'UpdateModel', 'loss': None, 'generations': 0, 'dataset_names': ['Cleaned_Crime_Reports_Train.csv'], 'artifact_names': None, 'model_name': 'Clearance Status_model220190419212740', 'job_error': ''}\n",
      "{'status': 'Running', 'starttime': '2019-04-19T22:22:10.13842', 'endtime': None, 'percent_complete': 0, 'job_type': 'UpdateModel', 'loss': None, 'generations': 0, 'dataset_names': ['Cleaned_Crime_Reports_Train.csv'], 'artifact_names': None, 'model_name': 'Clearance Status_model220190419212740', 'job_error': ''}\n",
      "{'status': 'Running', 'starttime': '2019-04-19T22:22:10.13842', 'endtime': None, 'percent_complete': 0, 'job_type': 'UpdateModel', 'loss': None, 'generations': 0, 'dataset_names': ['Cleaned_Crime_Reports_Train.csv'], 'artifact_names': None, 'model_name': 'Clearance Status_model220190419212740', 'job_error': ''}\n",
      "{'status': 'Running', 'starttime': '2019-04-19T22:22:10.13842', 'endtime': None, 'percent_complete': 0, 'job_type': 'UpdateModel', 'loss': None, 'generations': 0, 'dataset_names': ['Cleaned_Crime_Reports_Train.csv'], 'artifact_names': None, 'model_name': 'Clearance Status_model220190419212740', 'job_error': ''}\n",
      "{'status': 'Running', 'starttime': '2019-04-19T22:22:10.13842', 'endtime': None, 'percent_complete': 0, 'job_type': 'UpdateModel', 'loss': None, 'generations': 0, 'dataset_names': ['Cleaned_Crime_Reports_Train.csv'], 'artifact_names': None, 'model_name': 'Clearance Status_model220190419212740', 'job_error': ''}\n",
      "{'status': 'Running', 'starttime': '2019-04-19T22:22:10.13842', 'endtime': None, 'percent_complete': 0, 'job_type': 'UpdateModel', 'loss': None, 'generations': 0, 'dataset_names': ['Cleaned_Crime_Reports_Train.csv'], 'artifact_names': None, 'model_name': 'Clearance Status_model220190419212740', 'job_error': ''}\n",
      "{'status': 'Running', 'starttime': '2019-04-19T22:22:10.13842', 'endtime': None, 'percent_complete': 0, 'job_type': 'UpdateModel', 'loss': None, 'generations': 0, 'dataset_names': ['Cleaned_Crime_Reports_Train.csv'], 'artifact_names': None, 'model_name': 'Clearance Status_model220190419212740', 'job_error': ''}\n",
      "{'status': 'Running', 'starttime': '2019-04-19T22:22:10.13842', 'endtime': None, 'percent_complete': 0, 'job_type': 'UpdateModel', 'loss': None, 'generations': 0, 'dataset_names': ['Cleaned_Crime_Reports_Train.csv'], 'artifact_names': None, 'model_name': 'Clearance Status_model220190419212740', 'job_error': ''}\n",
      "{'status': 'Running', 'starttime': '2019-04-19T22:22:10.13842', 'endtime': None, 'percent_complete': 25, 'job_type': 'UpdateModel', 'loss': 9000000000.0, 'generations': 1, 'dataset_names': ['Cleaned_Crime_Reports_Train.csv'], 'artifact_names': None, 'model_name': 'Clearance Status_model220190419212740', 'job_error': ''}\n",
      "{'status': 'Running', 'starttime': '2019-04-19T22:22:10.13842', 'endtime': None, 'percent_complete': 25, 'job_type': 'UpdateModel', 'loss': 9000000000.0, 'generations': 1, 'dataset_names': ['Cleaned_Crime_Reports_Train.csv'], 'artifact_names': None, 'model_name': 'Clearance Status_model220190419212740', 'job_error': ''}\n",
      "{'status': 'Running', 'starttime': '2019-04-19T22:22:10.13842', 'endtime': None, 'percent_complete': 25, 'job_type': 'UpdateModel', 'loss': 9000000000.0, 'generations': 1, 'dataset_names': ['Cleaned_Crime_Reports_Train.csv'], 'artifact_names': None, 'model_name': 'Clearance Status_model220190419212740', 'job_error': ''}\n",
      "{'status': 'Running', 'starttime': '2019-04-19T22:22:10.13842', 'endtime': None, 'percent_complete': 25, 'job_type': 'UpdateModel', 'loss': 9000000000.0, 'generations': 1, 'dataset_names': ['Cleaned_Crime_Reports_Train.csv'], 'artifact_names': None, 'model_name': 'Clearance Status_model220190419212740', 'job_error': ''}\n",
      "{'status': 'Running', 'starttime': '2019-04-19T22:22:10.13842', 'endtime': None, 'percent_complete': 25, 'job_type': 'UpdateModel', 'loss': 9000000000.0, 'generations': 1, 'dataset_names': ['Cleaned_Crime_Reports_Train.csv'], 'artifact_names': None, 'model_name': 'Clearance Status_model220190419212740', 'job_error': ''}\n",
      "{'status': 'Running', 'starttime': '2019-04-19T22:22:10.13842', 'endtime': None, 'percent_complete': 25, 'job_type': 'UpdateModel', 'loss': 9000000000.0, 'generations': 1, 'dataset_names': ['Cleaned_Crime_Reports_Train.csv'], 'artifact_names': None, 'model_name': 'Clearance Status_model220190419212740', 'job_error': ''}\n",
      "{'status': 'Running', 'starttime': '2019-04-19T22:22:10.13842', 'endtime': None, 'percent_complete': 25, 'job_type': 'UpdateModel', 'loss': 9000000000.0, 'generations': 1, 'dataset_names': ['Cleaned_Crime_Reports_Train.csv'], 'artifact_names': None, 'model_name': 'Clearance Status_model220190419212740', 'job_error': ''}\n"
     ]
    },
    {
     "name": "stdout",
     "output_type": "stream",
     "text": [
      "{'status': 'Running', 'starttime': '2019-04-19T22:22:10.13842', 'endtime': None, 'percent_complete': 25, 'job_type': 'UpdateModel', 'loss': 9000000000.0, 'generations': 1, 'dataset_names': ['Cleaned_Crime_Reports_Train.csv'], 'artifact_names': None, 'model_name': 'Clearance Status_model220190419212740', 'job_error': ''}\n",
      "{'status': 'Running', 'starttime': '2019-04-19T22:22:10.13842', 'endtime': None, 'percent_complete': 25, 'job_type': 'UpdateModel', 'loss': 9000000000.0, 'generations': 1, 'dataset_names': ['Cleaned_Crime_Reports_Train.csv'], 'artifact_names': None, 'model_name': 'Clearance Status_model220190419212740', 'job_error': ''}\n",
      "{'status': 'Running', 'starttime': '2019-04-19T22:22:10.13842', 'endtime': None, 'percent_complete': 25, 'job_type': 'UpdateModel', 'loss': 9000000000.0, 'generations': 1, 'dataset_names': ['Cleaned_Crime_Reports_Train.csv'], 'artifact_names': None, 'model_name': 'Clearance Status_model220190419212740', 'job_error': ''}\n",
      "{'status': 'Running', 'starttime': '2019-04-19T22:22:10.13842', 'endtime': None, 'percent_complete': 25, 'job_type': 'UpdateModel', 'loss': 9000000000.0, 'generations': 1, 'dataset_names': ['Cleaned_Crime_Reports_Train.csv'], 'artifact_names': None, 'model_name': 'Clearance Status_model220190419212740', 'job_error': ''}\n",
      "{'status': 'Running', 'starttime': '2019-04-19T22:22:10.13842', 'endtime': None, 'percent_complete': 25, 'job_type': 'UpdateModel', 'loss': 9000000000.0, 'generations': 1, 'dataset_names': ['Cleaned_Crime_Reports_Train.csv'], 'artifact_names': None, 'model_name': 'Clearance Status_model220190419212740', 'job_error': ''}\n",
      "{'status': 'Running', 'starttime': '2019-04-19T22:22:10.13842', 'endtime': None, 'percent_complete': 25, 'job_type': 'UpdateModel', 'loss': 9000000000.0, 'generations': 1, 'dataset_names': ['Cleaned_Crime_Reports_Train.csv'], 'artifact_names': None, 'model_name': 'Clearance Status_model220190419212740', 'job_error': ''}\n",
      "{'status': 'Running', 'starttime': '2019-04-19T22:22:10.13842', 'endtime': None, 'percent_complete': 25, 'job_type': 'UpdateModel', 'loss': 9000000000.0, 'generations': 1, 'dataset_names': ['Cleaned_Crime_Reports_Train.csv'], 'artifact_names': None, 'model_name': 'Clearance Status_model220190419212740', 'job_error': ''}\n",
      "{'status': 'Running', 'starttime': '2019-04-19T22:22:10.13842', 'endtime': None, 'percent_complete': 25, 'job_type': 'UpdateModel', 'loss': 9000000000.0, 'generations': 1, 'dataset_names': ['Cleaned_Crime_Reports_Train.csv'], 'artifact_names': None, 'model_name': 'Clearance Status_model220190419212740', 'job_error': ''}\n",
      "{'status': 'Running', 'starttime': '2019-04-19T22:22:10.13842', 'endtime': None, 'percent_complete': 25, 'job_type': 'UpdateModel', 'loss': 9000000000.0, 'generations': 1, 'dataset_names': ['Cleaned_Crime_Reports_Train.csv'], 'artifact_names': None, 'model_name': 'Clearance Status_model220190419212740', 'job_error': ''}\n",
      "{'status': 'Running', 'starttime': '2019-04-19T22:22:10.13842', 'endtime': None, 'percent_complete': 25, 'job_type': 'UpdateModel', 'loss': 9000000000.0, 'generations': 1, 'dataset_names': ['Cleaned_Crime_Reports_Train.csv'], 'artifact_names': None, 'model_name': 'Clearance Status_model220190419212740', 'job_error': ''}\n",
      "{'status': 'Running', 'starttime': '2019-04-19T22:22:10.13842', 'endtime': None, 'percent_complete': 25, 'job_type': 'UpdateModel', 'loss': 9000000000.0, 'generations': 1, 'dataset_names': ['Cleaned_Crime_Reports_Train.csv'], 'artifact_names': None, 'model_name': 'Clearance Status_model220190419212740', 'job_error': ''}\n",
      "{'status': 'Running', 'starttime': '2019-04-19T22:22:10.13842', 'endtime': None, 'percent_complete': 25, 'job_type': 'UpdateModel', 'loss': 9000000000.0, 'generations': 1, 'dataset_names': ['Cleaned_Crime_Reports_Train.csv'], 'artifact_names': None, 'model_name': 'Clearance Status_model220190419212740', 'job_error': ''}\n",
      "{'status': 'Running', 'starttime': '2019-04-19T22:22:10.13842', 'endtime': None, 'percent_complete': 25, 'job_type': 'UpdateModel', 'loss': 9000000000.0, 'generations': 1, 'dataset_names': ['Cleaned_Crime_Reports_Train.csv'], 'artifact_names': None, 'model_name': 'Clearance Status_model220190419212740', 'job_error': ''}\n",
      "{'status': 'Running', 'starttime': '2019-04-19T22:22:10.13842', 'endtime': None, 'percent_complete': 25, 'job_type': 'UpdateModel', 'loss': 9000000000.0, 'generations': 1, 'dataset_names': ['Cleaned_Crime_Reports_Train.csv'], 'artifact_names': None, 'model_name': 'Clearance Status_model220190419212740', 'job_error': ''}\n",
      "{'status': 'Running', 'starttime': '2019-04-19T22:22:10.13842', 'endtime': None, 'percent_complete': 25, 'job_type': 'UpdateModel', 'loss': 9000000000.0, 'generations': 1, 'dataset_names': ['Cleaned_Crime_Reports_Train.csv'], 'artifact_names': None, 'model_name': 'Clearance Status_model220190419212740', 'job_error': ''}\n"
     ]
    }
   ],
   "source": [
    "# Train some more\n",
    "status, job_id = ds.resume_training_model(dataset_names = \"Cleaned_Crime_Reports_Train.csv\",\n",
    "                                          model_name = model,\n",
    "                                          max_train_time = '00:10')\n",
    "                                          \n",
    "if status:\n",
    "    ds.wait_for_job(job_id['job_name'])\n",
    "else:\n",
    "    print(job_id)"
   ]
  },
  {
   "cell_type": "code",
   "execution_count": 25,
   "metadata": {},
   "outputs": [
    {
     "name": "stdout",
     "output_type": "stream",
     "text": [
      "{'status': 'Running', 'starttime': '2019-04-19T22:34:55.876776', 'endtime': None, 'percent_complete': 0, 'job_type': 'RunModel', 'loss': 9000000000.0, 'generations': 1, 'dataset_names': ['Cleaned_Crime_Reports_Test.csv'], 'artifact_names': ['eca3924298a348e791fdc05fbf0476d4'], 'model_name': 'Clearance Status_model220190419212740', 'job_error': ''}\n",
      "{'status': 'Running', 'starttime': '2019-04-19T22:34:55.876776', 'endtime': None, 'percent_complete': 0, 'job_type': 'RunModel', 'loss': 9000000000.0, 'generations': 1, 'dataset_names': ['Cleaned_Crime_Reports_Test.csv'], 'artifact_names': ['eca3924298a348e791fdc05fbf0476d4'], 'model_name': 'Clearance Status_model220190419212740', 'job_error': ''}\n",
      "{'status': 'Complete', 'starttime': '2019-04-19T22:34:55.876776', 'endtime': '2019-04-19T22:35:13.653459', 'percent_complete': 100, 'job_type': 'RunModel', 'loss': 9000000000.0, 'generations': 1, 'dataset_names': ['Cleaned_Crime_Reports_Test.csv'], 'artifact_names': ['eca3924298a348e791fdc05fbf0476d4'], 'model_name': 'Clearance Status_model220190419212740', 'job_error': ''}\n",
      "              precision    recall  f1-score   support\n",
      "\n",
      "           C       0.85      0.78      0.81    104387\n",
      "           N       0.89      0.93      0.91    198838\n",
      "\n",
      "   micro avg       0.88      0.88      0.88    303225\n",
      "   macro avg       0.87      0.85      0.86    303225\n",
      "weighted avg       0.88      0.88      0.88    303225\n",
      "\n"
     ]
    },
    {
     "data": {
      "image/png": "[encoded data removed]",
      "text/plain": [
       "<Figure size 432x288 with 1 Axes>"
      ]
     },
     "metadata": {
      "needs_background": "light"
     },
     "output_type": "display_data"
    }
   ],
   "source": [
    "#Run Model on Test Data\n",
    "status, artifact = ds.run_model(\"Cleaned_Crime_Reports_Test.csv\", model)\n",
    "sleep(1)\n",
    "ds.wait_for_job(artifact['job_name'])\n",
    "\n",
    "status, prediction = ds.download_artifact(artifact['artifact_name'])\n",
    "df = pd.read_csv(\"Cleaned_Crime_Reports_Test.csv\")\n",
    "unq = prediction[target].unique()[::-1]\n",
    "p = np.zeros((len(prediction),))\n",
    "a = np.zeros((len(prediction),))\n",
    "for i,q in enumerate(unq):\n",
    "    p += i*(prediction[target] == q).values\n",
    "    a += i*(df[target] == q).values\n",
    "#Plot predictions vs actual\n",
    "plt.plot(a)\n",
    "plt.plot(p)\n",
    "plt.legend(['Actual','Predicted'])\n",
    "plt.yticks([i for i in range(len(unq))],[q for q in unq]);\n",
    "print(classification_report(df[target], prediction[target]))"
   ]
  },
  {
   "cell_type": "code",
   "execution_count": null,
   "metadata": {},
   "outputs": [],
   "source": []
  }
 ],
 "metadata": {
  "kernelspec": {
   "display_name": "Python 3",
   "language": "python",
   "name": "python3"
  },
  "language_info": {
   "codemirror_mode": {
    "name": "ipython",
    "version": 3
   },
   "file_extension": ".py",
   "mimetype": "text/x-python",
   "name": "python",
   "nbconvert_exporter": "python",
   "pygments_lexer": "ipython3",
   "version": "3.7.1"
  }
 },
 "nbformat": 4,
 "nbformat_minor": 2
}
