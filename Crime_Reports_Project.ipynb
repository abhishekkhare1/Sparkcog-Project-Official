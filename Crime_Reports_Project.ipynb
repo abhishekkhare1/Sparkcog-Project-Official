{
 "cells": [
  {
   "cell_type": "code",
   "execution_count": 1,
   "metadata": {},
   "outputs": [],
   "source": [
    "# Avner Khan, Kiran Raja, Abhishek Khare, Joshua Deng\n",
    "import matplotlib.pyplot as plt\n",
    "from amb_sdk.sdk import DarwinSdk\n",
    "from time import sleep\n",
    "import pandas as pd\n",
    "import numpy as np\n",
    "import sklearn.model_selection as ms\n",
    "from sklearn.metrics import classification_report\n",
    "import datetime\n",
    "\n",
    "ds = DarwinSdk()\n",
    "ds.set_url('https://amb-demo-api.sparkcognition.com/v1/')\n",
    "ts = '{:%Y%m%d%H%M%S}'.format(datetime.datetime.now())\n"
   ]
  },
  {
   "cell_type": "code",
   "execution_count": 2,
   "metadata": {},
   "outputs": [
    {
     "name": "stdout",
     "output_type": "stream",
     "text": [
      "True\n"
     ]
    }
   ],
   "source": [
    "#Create a new user\n",
    "status, msg = ds.auth_login_user('AVNERKHAN@UTEXAS.edu', 'xcGPvw7VMm')\n",
    "if not status:\n",
    "    print(msg)\n",
    "print(status)"
   ]
  },
  {
   "cell_type": "code",
   "execution_count": 3,
   "metadata": {},
   "outputs": [
    {
     "name": "stderr",
     "output_type": "stream",
     "text": [
      "C:\\Users\\kiran\\Anaconda3\\lib\\site-packages\\IPython\\core\\interactiveshell.py:3020: DtypeWarning: Columns (16) have mixed types. Specify dtype option on import or set low_memory=False.\n",
      "  interactivity=interactivity, compiler=compiler, result=result)\n"
     ]
    },
    {
     "name": "stdout",
     "output_type": "stream",
     "text": [
      "Original Length: 2124418\n",
      "Original Features: ['Incident Number', 'Highest Offense Description', 'Highest Offense Code', 'Family Violence', 'Occurred Date Time', 'Occurred Date', 'Occurred Time', 'Report Date Time', 'Report Date', 'Report Time', 'Location Type', 'Address', 'Zip Code', 'Council District', 'APD Sector', 'APD District', 'PRA', 'Census Tract', 'Clearance Status', 'Clearance Date', 'UCR Category', 'Category Description', 'X-coordinate', 'Y-coordinate', 'Latitude', 'Longitude', 'Location', 'Zip Codes', 'Single Member Council Districts', 'BOUNDARIES_single_member_districts', 'Zoning Review Cases_data']\n",
      "\n",
      "Cleaned Length: 1208611\n",
      "Remaining Features: ['Highest Offense Code', 'Family Violence', 'Location Type', 'Census Tract', 'Clearance Status', 'Zip Codes', 'Elapsed Time']\n",
      "    Highest Offense Code Family Violence                 Location Type  \\\n",
      "2                   2716               N                   RESTAURANTS   \n",
      "3                   2716               N   DEPARTMENT / DISCOUNT STORE   \n",
      "19                  1818               N  STREETS / HWY / ROAD / ALLEY   \n",
      "40                  1803               N  STREETS / HWY / ROAD / ALLEY   \n",
      "44                  3295               N  STREETS / HWY / ROAD / ALLEY   \n",
      "\n",
      "    Census Tract Clearance Status  Zip Codes  Elapsed Time  \n",
      "2          24.22                C     3259.0           0.0  \n",
      "3          18.13                C     3642.0           1.0  \n",
      "19         11.00                C     2856.0           0.0  \n",
      "40         13.08                C     2859.0           0.0  \n",
      "44         11.00                C     2856.0           0.0  \n"
     ]
    }
   ],
   "source": [
    "def elapsed_time(oc_date, oc_time, rep_date, rep_time):\n",
    "    oc_date_split_arr = oc_date.split(\"/\")\n",
    "    oc_date_month = oc_date_split_arr[0]\n",
    "    oc_date_day = oc_date_split_arr[1]\n",
    "    oc_date_year = oc_date_split_arr[2]\n",
    "    oc_hr = int(oc_time // 100)\n",
    "    if (oc_hr > 23):\n",
    "        oc_hr = 23\n",
    "    elif (oc_hr < 0):\n",
    "        oc_hr = 0\n",
    "    oc_min = int(oc_time % 100)\n",
    "    if (oc_min > 59):\n",
    "        oc_min = 59\n",
    "    elif (oc_min < 0):\n",
    "        oc_min = 0\n",
    "    oc_datetime = datetime.datetime(int(oc_date_year), int(oc_date_month), int(oc_date_day), oc_hr, oc_min)\n",
    "    rep_date_split_arr = rep_date.split(\"/\")\n",
    "    rep_date_month = rep_date_split_arr[0]\n",
    "    rep_date_day = rep_date_split_arr[1]\n",
    "    rep_date_year = rep_date_split_arr[2]\n",
    "    rep_hr = int(rep_time // 100)\n",
    "    if (rep_hr > 23):\n",
    "        rep_hr = 23\n",
    "    elif (rep_hr < 0):\n",
    "        rep_hr = 0\n",
    "    rep_min = int(rep_time % 100)\n",
    "    if (rep_min > 59):\n",
    "        rep_min = 59\n",
    "    elif (rep_min < 0):\n",
    "        rep_min = 0\n",
    "    rep_datetime = datetime.datetime(int(rep_date_year), int(rep_date_month), int(rep_date_day), rep_hr, rep_min)\n",
    "    elapsed = rep_datetime - oc_datetime\n",
    "    return elapsed.total_seconds() / 3600\n",
    "\n",
    "#Load data\n",
    "dataset = pd.read_csv(\"Crime_Reports_Fixed_Labels.csv\")\n",
    "print('Original Length:', len(dataset))\n",
    "print('Original Features:', list(dataset))\n",
    "#Drop Unused Columns\n",
    "dataset = dataset.drop(columns=['Location', 'Category Description', 'UCR Category', 'PRA', 'APD Sector', 'APD District', 'Council District', 'Zip Code', 'Address', 'Incident Number', 'Highest Offense Description', 'Occurred Date Time', 'Report Date Time', 'Clearance Date', 'X-coordinate', 'Y-coordinate', 'Latitude', 'Longitude', 'Single Member Council Districts', 'BOUNDARIES_single_member_districts', 'Zoning Review Cases_data'])\n",
    "#Drop rows with missing data\n",
    "dataset = dataset.dropna()\n",
    "#Create Elapsed Time Field and add it to our data\n",
    "elapsed = []\n",
    "for index, row in dataset.iterrows():\n",
    "    elapsed.append(elapsed_time(row['Occurred Date'], row['Occurred Time'], row['Report Date'], row['Report Time']))\n",
    "elapsed_df = pd.DataFrame(data=elapsed)\n",
    "dataset['Elapsed Time'] = elapsed_df\n",
    "dataset = dataset.drop(columns=['Occurred Date', 'Occurred Time', 'Report Date', 'Report Time'])\n",
    "#Drop rows with missing data\n",
    "dataset = dataset.dropna()\n",
    "#Print Cleaned Data and save it as csv\n",
    "print()\n",
    "print('Cleaned Length:', len(dataset))\n",
    "print('Remaining Features:', list(dataset))\n",
    "print(dataset.head())\n",
    "dataset.to_csv(\"Crime_Reports_Clean.csv\", index=False)"
   ]
  },
  {
   "cell_type": "code",
   "execution_count": 4,
   "metadata": {},
   "outputs": [
    {
     "name": "stdout",
     "output_type": "stream",
     "text": [
      "Train Data: 966888\n",
      "        Highest Offense Code Family Violence                 Location Type  \\\n",
      "546974                  4100               N              RESIDENCE / HOME   \n",
      "213318                   600               N   DEPARTMENT / DISCOUNT STORE   \n",
      "568073                   600               N              RESIDENCE / HOME   \n",
      "777625                  1800               N  STREETS / HWY / ROAD / ALLEY   \n",
      "973614                  1400               N         PARKING LOTS / GARAGE   \n",
      "\n",
      "        Census Tract Clearance Status  Zip Codes  Elapsed Time  \n",
      "546974         18.05                N     3646.0    132.683333  \n",
      "213318         17.50                N     3638.0      0.033333  \n",
      "568073         17.45                N     3243.0      0.000000  \n",
      "777625         21.05                C     3239.0      0.000000  \n",
      "973614          2.05                N     3644.0      0.000000  \n",
      "\n",
      "Test Data: 241723\n",
      "         Highest Offense Code Family Violence  \\\n",
      "87811                    2704               Y   \n",
      "376892                    610               N   \n",
      "1192002                  3296               N   \n",
      "11097                     900               Y   \n",
      "695578                    900               Y   \n",
      "\n",
      "                              Location Type  Census Tract Clearance Status  \\\n",
      "87811                      RESIDENCE / HOME         17.50                N   \n",
      "376892                PARKING LOTS / GARAGE          8.03                N   \n",
      "1192002        STREETS / HWY / ROAD / ALLEY         24.19                C   \n",
      "11097    DRUG STORE / DR. OFFICE / HOSPITAL          2.03                N   \n",
      "695578                     RESIDENCE / HOME         23.14                C   \n",
      "\n",
      "         Zip Codes  Elapsed Time  \n",
      "87811       3259.0      2.733333  \n",
      "376892      2857.0      0.133333  \n",
      "1192002     3258.0      0.000000  \n",
      "11097       2860.0      1.033333  \n",
      "695578      3256.0    792.750000  \n"
     ]
    }
   ],
   "source": [
    "#Split and Save Train and Test Data\n",
    "dataset = pd.read_csv(\"Crime_Reports_Clean.csv\")\n",
    "dataset = dataset.sample(frac=1)\n",
    "train_data = dataset.iloc[:int(len(dataset)*.8)]\n",
    "test_data = dataset.iloc[int(len(dataset)*.8):]\n",
    "print('Train Data:', len(train_data))\n",
    "print(train_data.head())\n",
    "print()\n",
    "print('Test Data:', len(test_data))\n",
    "print(test_data.head())\n",
    "train_data.to_csv(\"Crime_Reports_Train.csv\", index=False)\n",
    "test_data.to_csv(\"Crime_Reports_Test.csv\", index=False)"
   ]
  },
  {
   "cell_type": "code",
   "execution_count": 5,
   "metadata": {},
   "outputs": [
    {
     "name": "stdout",
     "output_type": "stream",
     "text": [
      "True None\n",
      "{'status': 'Requested', 'starttime': '2019-04-20T14:26:05.315836', 'endtime': None, 'percent_complete': 0, 'job_type': 'CleanDataTiny', 'loss': None, 'generations': None, 'dataset_names': ['Crime_Reports_Train.csv'], 'artifact_names': ['22a0bc6cf84345f6a8c503a2f3506993'], 'model_name': None, 'job_error': None}\n",
      "{'status': 'Running', 'starttime': '2019-04-20T14:26:05.315836', 'endtime': None, 'percent_complete': 0, 'job_type': 'CleanDataTiny', 'loss': None, 'generations': None, 'dataset_names': ['Crime_Reports_Train.csv'], 'artifact_names': ['22a0bc6cf84345f6a8c503a2f3506993'], 'model_name': None, 'job_error': ''}\n",
      "{'status': 'Running', 'starttime': '2019-04-20T14:26:05.315836', 'endtime': None, 'percent_complete': 0, 'job_type': 'CleanDataTiny', 'loss': None, 'generations': None, 'dataset_names': ['Crime_Reports_Train.csv'], 'artifact_names': ['22a0bc6cf84345f6a8c503a2f3506993'], 'model_name': None, 'job_error': ''}\n",
      "{'status': 'Running', 'starttime': '2019-04-20T14:26:05.315836', 'endtime': None, 'percent_complete': 0, 'job_type': 'CleanDataTiny', 'loss': None, 'generations': None, 'dataset_names': ['Crime_Reports_Train.csv'], 'artifact_names': ['22a0bc6cf84345f6a8c503a2f3506993'], 'model_name': None, 'job_error': ''}\n",
      "{'status': 'Running', 'starttime': '2019-04-20T14:26:05.315836', 'endtime': None, 'percent_complete': 0, 'job_type': 'CleanDataTiny', 'loss': None, 'generations': None, 'dataset_names': ['Crime_Reports_Train.csv'], 'artifact_names': ['22a0bc6cf84345f6a8c503a2f3506993'], 'model_name': None, 'job_error': ''}\n",
      "{'status': 'Running', 'starttime': '2019-04-20T14:26:05.315836', 'endtime': None, 'percent_complete': 0, 'job_type': 'CleanDataTiny', 'loss': None, 'generations': None, 'dataset_names': ['Crime_Reports_Train.csv'], 'artifact_names': ['22a0bc6cf84345f6a8c503a2f3506993'], 'model_name': None, 'job_error': ''}\n",
      "{'status': 'Running', 'starttime': '2019-04-20T14:26:05.315836', 'endtime': None, 'percent_complete': 0, 'job_type': 'CleanDataTiny', 'loss': None, 'generations': None, 'dataset_names': ['Crime_Reports_Train.csv'], 'artifact_names': ['22a0bc6cf84345f6a8c503a2f3506993'], 'model_name': None, 'job_error': ''}\n",
      "{'status': 'Complete', 'starttime': '2019-04-20T14:26:05.315836', 'endtime': '2019-04-20T14:27:40.54501', 'percent_complete': 100, 'job_type': 'CleanDataTiny', 'loss': None, 'generations': None, 'dataset_names': ['Crime_Reports_Train.csv'], 'artifact_names': ['22a0bc6cf84345f6a8c503a2f3506993'], 'model_name': None, 'job_error': ''}\n"
     ]
    }
   ],
   "source": [
    "#Upload Train Data\n",
    "status, message = ds.delete_dataset(\"Crime_Reports_Train.csv\")\n",
    "print(status, message)\n",
    "status, uploaded_dataset = ds.upload_dataset(\"Crime_Reports_Train.csv\")\n",
    "if not status:\n",
    "    print(uploaded_dataset)\n",
    "\n",
    "#Clean Train Data\n",
    "target = \"Clearance Status\"\n",
    "status, job_id = ds.clean_data(\"Crime_Reports_Train.csv\", target = target)\n",
    "if status:\n",
    "    ds.wait_for_job(job_id['job_name'])\n",
    "else:\n",
    "    print(job_id)"
   ]
  },
  {
   "cell_type": "code",
   "execution_count": 6,
   "metadata": {},
   "outputs": [
    {
     "name": "stdout",
     "output_type": "stream",
     "text": [
      "False 400: BAD REQUEST - {\"message\": \"Model does not exist\"}\n",
      "\n",
      "{'status': 'Requested', 'starttime': '2019-04-20T14:28:26.710665', 'endtime': None, 'percent_complete': 0, 'job_type': 'TrainModel', 'loss': None, 'generations': 0, 'dataset_names': ['Crime_Reports_Train.csv'], 'artifact_names': None, 'model_name': 'Clearance Status_model20190420142147', 'job_error': None}\n",
      "{'status': 'Requested', 'starttime': '2019-04-20T14:28:26.710665', 'endtime': None, 'percent_complete': 0, 'job_type': 'TrainModel', 'loss': None, 'generations': 0, 'dataset_names': ['Crime_Reports_Train.csv'], 'artifact_names': None, 'model_name': 'Clearance Status_model20190420142147', 'job_error': None}\n",
      "{'status': 'Running', 'starttime': '2019-04-20T14:28:26.710665', 'endtime': None, 'percent_complete': 0, 'job_type': 'TrainModel', 'loss': None, 'generations': 0, 'dataset_names': ['Crime_Reports_Train.csv'], 'artifact_names': None, 'model_name': 'Clearance Status_model20190420142147', 'job_error': ''}\n",
      "{'status': 'Running', 'starttime': '2019-04-20T14:28:26.710665', 'endtime': None, 'percent_complete': 0, 'job_type': 'TrainModel', 'loss': None, 'generations': 0, 'dataset_names': ['Crime_Reports_Train.csv'], 'artifact_names': None, 'model_name': 'Clearance Status_model20190420142147', 'job_error': ''}\n",
      "{'status': 'Running', 'starttime': '2019-04-20T14:28:26.710665', 'endtime': None, 'percent_complete': 0, 'job_type': 'TrainModel', 'loss': None, 'generations': 0, 'dataset_names': ['Crime_Reports_Train.csv'], 'artifact_names': None, 'model_name': 'Clearance Status_model20190420142147', 'job_error': ''}\n",
      "{'status': 'Running', 'starttime': '2019-04-20T14:28:26.710665', 'endtime': None, 'percent_complete': 0, 'job_type': 'TrainModel', 'loss': None, 'generations': 0, 'dataset_names': ['Crime_Reports_Train.csv'], 'artifact_names': None, 'model_name': 'Clearance Status_model20190420142147', 'job_error': ''}\n",
      "{'status': 'Running', 'starttime': '2019-04-20T14:28:26.710665', 'endtime': None, 'percent_complete': 0, 'job_type': 'TrainModel', 'loss': None, 'generations': 0, 'dataset_names': ['Crime_Reports_Train.csv'], 'artifact_names': None, 'model_name': 'Clearance Status_model20190420142147', 'job_error': ''}\n",
      "{'status': 'Running', 'starttime': '2019-04-20T14:28:26.710665', 'endtime': None, 'percent_complete': 0, 'job_type': 'TrainModel', 'loss': None, 'generations': 0, 'dataset_names': ['Crime_Reports_Train.csv'], 'artifact_names': None, 'model_name': 'Clearance Status_model20190420142147', 'job_error': ''}\n",
      "{'status': 'Running', 'starttime': '2019-04-20T14:28:26.710665', 'endtime': None, 'percent_complete': 0, 'job_type': 'TrainModel', 'loss': None, 'generations': 0, 'dataset_names': ['Crime_Reports_Train.csv'], 'artifact_names': None, 'model_name': 'Clearance Status_model20190420142147', 'job_error': ''}\n",
      "{'status': 'Running', 'starttime': '2019-04-20T14:28:26.710665', 'endtime': None, 'percent_complete': 0, 'job_type': 'TrainModel', 'loss': None, 'generations': 0, 'dataset_names': ['Crime_Reports_Train.csv'], 'artifact_names': None, 'model_name': 'Clearance Status_model20190420142147', 'job_error': ''}\n",
      "{'status': 'Running', 'starttime': '2019-04-20T14:28:26.710665', 'endtime': None, 'percent_complete': 0, 'job_type': 'TrainModel', 'loss': None, 'generations': 0, 'dataset_names': ['Crime_Reports_Train.csv'], 'artifact_names': None, 'model_name': 'Clearance Status_model20190420142147', 'job_error': ''}\n",
      "{'status': 'Running', 'starttime': '2019-04-20T14:28:26.710665', 'endtime': None, 'percent_complete': 0, 'job_type': 'TrainModel', 'loss': None, 'generations': 0, 'dataset_names': ['Crime_Reports_Train.csv'], 'artifact_names': None, 'model_name': 'Clearance Status_model20190420142147', 'job_error': ''}\n",
      "{'status': 'Running', 'starttime': '2019-04-20T14:28:26.710665', 'endtime': None, 'percent_complete': 0, 'job_type': 'TrainModel', 'loss': None, 'generations': 0, 'dataset_names': ['Crime_Reports_Train.csv'], 'artifact_names': None, 'model_name': 'Clearance Status_model20190420142147', 'job_error': ''}\n",
      "{'status': 'Running', 'starttime': '2019-04-20T14:28:26.710665', 'endtime': None, 'percent_complete': 0, 'job_type': 'TrainModel', 'loss': None, 'generations': 0, 'dataset_names': ['Crime_Reports_Train.csv'], 'artifact_names': None, 'model_name': 'Clearance Status_model20190420142147', 'job_error': ''}\n",
      "{'status': 'Running', 'starttime': '2019-04-20T14:28:26.710665', 'endtime': None, 'percent_complete': 2, 'job_type': 'TrainModel', 'loss': 0.4462642967700958, 'generations': 0, 'dataset_names': ['Crime_Reports_Train.csv'], 'artifact_names': None, 'model_name': 'Clearance Status_model20190420142147', 'job_error': ''}\n",
      "{'status': 'Running', 'starttime': '2019-04-20T14:28:26.710665', 'endtime': None, 'percent_complete': 2, 'job_type': 'TrainModel', 'loss': 0.4462642967700958, 'generations': 0, 'dataset_names': ['Crime_Reports_Train.csv'], 'artifact_names': None, 'model_name': 'Clearance Status_model20190420142147', 'job_error': ''}\n",
      "{'status': 'Running', 'starttime': '2019-04-20T14:28:26.710665', 'endtime': None, 'percent_complete': 2, 'job_type': 'TrainModel', 'loss': 0.4462642967700958, 'generations': 0, 'dataset_names': ['Crime_Reports_Train.csv'], 'artifact_names': None, 'model_name': 'Clearance Status_model20190420142147', 'job_error': ''}\n",
      "{'status': 'Running', 'starttime': '2019-04-20T14:28:26.710665', 'endtime': None, 'percent_complete': 2, 'job_type': 'TrainModel', 'loss': 0.4462642967700958, 'generations': 0, 'dataset_names': ['Crime_Reports_Train.csv'], 'artifact_names': None, 'model_name': 'Clearance Status_model20190420142147', 'job_error': ''}\n",
      "{'status': 'Running', 'starttime': '2019-04-20T14:28:26.710665', 'endtime': None, 'percent_complete': 2, 'job_type': 'TrainModel', 'loss': 0.4462642967700958, 'generations': 0, 'dataset_names': ['Crime_Reports_Train.csv'], 'artifact_names': None, 'model_name': 'Clearance Status_model20190420142147', 'job_error': ''}\n",
      "{'status': 'Running', 'starttime': '2019-04-20T14:28:26.710665', 'endtime': None, 'percent_complete': 2, 'job_type': 'TrainModel', 'loss': 0.4462642967700958, 'generations': 0, 'dataset_names': ['Crime_Reports_Train.csv'], 'artifact_names': None, 'model_name': 'Clearance Status_model20190420142147', 'job_error': ''}\n",
      "{'status': 'Running', 'starttime': '2019-04-20T14:28:26.710665', 'endtime': None, 'percent_complete': 2, 'job_type': 'TrainModel', 'loss': 0.4462642967700958, 'generations': 0, 'dataset_names': ['Crime_Reports_Train.csv'], 'artifact_names': None, 'model_name': 'Clearance Status_model20190420142147', 'job_error': ''}\n",
      "{'status': 'Running', 'starttime': '2019-04-20T14:28:26.710665', 'endtime': None, 'percent_complete': 2, 'job_type': 'TrainModel', 'loss': 0.4462642967700958, 'generations': 0, 'dataset_names': ['Crime_Reports_Train.csv'], 'artifact_names': None, 'model_name': 'Clearance Status_model20190420142147', 'job_error': ''}\n",
      "{'status': 'Running', 'starttime': '2019-04-20T14:28:26.710665', 'endtime': None, 'percent_complete': 2, 'job_type': 'TrainModel', 'loss': 0.4462642967700958, 'generations': 0, 'dataset_names': ['Crime_Reports_Train.csv'], 'artifact_names': None, 'model_name': 'Clearance Status_model20190420142147', 'job_error': ''}\n",
      "{'status': 'Running', 'starttime': '2019-04-20T14:28:26.710665', 'endtime': None, 'percent_complete': 2, 'job_type': 'TrainModel', 'loss': 0.4462642967700958, 'generations': 0, 'dataset_names': ['Crime_Reports_Train.csv'], 'artifact_names': None, 'model_name': 'Clearance Status_model20190420142147', 'job_error': ''}\n",
      "{'status': 'Running', 'starttime': '2019-04-20T14:28:26.710665', 'endtime': None, 'percent_complete': 2, 'job_type': 'TrainModel', 'loss': 0.4462642967700958, 'generations': 0, 'dataset_names': ['Crime_Reports_Train.csv'], 'artifact_names': None, 'model_name': 'Clearance Status_model20190420142147', 'job_error': ''}\n",
      "{'status': 'Running', 'starttime': '2019-04-20T14:28:26.710665', 'endtime': None, 'percent_complete': 2, 'job_type': 'TrainModel', 'loss': 0.4462642967700958, 'generations': 0, 'dataset_names': ['Crime_Reports_Train.csv'], 'artifact_names': None, 'model_name': 'Clearance Status_model20190420142147', 'job_error': ''}\n",
      "{'status': 'Running', 'starttime': '2019-04-20T14:28:26.710665', 'endtime': None, 'percent_complete': 2, 'job_type': 'TrainModel', 'loss': 0.4462642967700958, 'generations': 0, 'dataset_names': ['Crime_Reports_Train.csv'], 'artifact_names': None, 'model_name': 'Clearance Status_model20190420142147', 'job_error': ''}\n"
     ]
    },
    {
     "name": "stdout",
     "output_type": "stream",
     "text": [
      "{'status': 'Running', 'starttime': '2019-04-20T14:28:26.710665', 'endtime': None, 'percent_complete': 2, 'job_type': 'TrainModel', 'loss': 0.4462642967700958, 'generations': 0, 'dataset_names': ['Crime_Reports_Train.csv'], 'artifact_names': None, 'model_name': 'Clearance Status_model20190420142147', 'job_error': ''}\n",
      "{'status': 'Running', 'starttime': '2019-04-20T14:28:26.710665', 'endtime': None, 'percent_complete': 2, 'job_type': 'TrainModel', 'loss': 0.4462642967700958, 'generations': 0, 'dataset_names': ['Crime_Reports_Train.csv'], 'artifact_names': None, 'model_name': 'Clearance Status_model20190420142147', 'job_error': ''}\n",
      "{'status': 'Running', 'starttime': '2019-04-20T14:28:26.710665', 'endtime': None, 'percent_complete': 2, 'job_type': 'TrainModel', 'loss': 0.4462642967700958, 'generations': 0, 'dataset_names': ['Crime_Reports_Train.csv'], 'artifact_names': None, 'model_name': 'Clearance Status_model20190420142147', 'job_error': ''}\n",
      "{'status': 'Running', 'starttime': '2019-04-20T14:28:26.710665', 'endtime': None, 'percent_complete': 2, 'job_type': 'TrainModel', 'loss': 0.4462642967700958, 'generations': 0, 'dataset_names': ['Crime_Reports_Train.csv'], 'artifact_names': None, 'model_name': 'Clearance Status_model20190420142147', 'job_error': ''}\n",
      "{'status': 'Running', 'starttime': '2019-04-20T14:28:26.710665', 'endtime': None, 'percent_complete': 2, 'job_type': 'TrainModel', 'loss': 0.4462642967700958, 'generations': 0, 'dataset_names': ['Crime_Reports_Train.csv'], 'artifact_names': None, 'model_name': 'Clearance Status_model20190420142147', 'job_error': ''}\n",
      "{'status': 'Running', 'starttime': '2019-04-20T14:28:26.710665', 'endtime': None, 'percent_complete': 2, 'job_type': 'TrainModel', 'loss': 0.4462642967700958, 'generations': 0, 'dataset_names': ['Crime_Reports_Train.csv'], 'artifact_names': None, 'model_name': 'Clearance Status_model20190420142147', 'job_error': ''}\n",
      "{'status': 'Running', 'starttime': '2019-04-20T14:28:26.710665', 'endtime': None, 'percent_complete': 2, 'job_type': 'TrainModel', 'loss': 0.4462642967700958, 'generations': 0, 'dataset_names': ['Crime_Reports_Train.csv'], 'artifact_names': None, 'model_name': 'Clearance Status_model20190420142147', 'job_error': ''}\n",
      "{'status': 'Running', 'starttime': '2019-04-20T14:28:26.710665', 'endtime': None, 'percent_complete': 2, 'job_type': 'TrainModel', 'loss': 0.4462642967700958, 'generations': 0, 'dataset_names': ['Crime_Reports_Train.csv'], 'artifact_names': None, 'model_name': 'Clearance Status_model20190420142147', 'job_error': ''}\n",
      "{'status': 'Running', 'starttime': '2019-04-20T14:28:26.710665', 'endtime': None, 'percent_complete': 2, 'job_type': 'TrainModel', 'loss': 0.4462642967700958, 'generations': 0, 'dataset_names': ['Crime_Reports_Train.csv'], 'artifact_names': None, 'model_name': 'Clearance Status_model20190420142147', 'job_error': ''}\n",
      "{'status': 'Running', 'starttime': '2019-04-20T14:28:26.710665', 'endtime': None, 'percent_complete': 2, 'job_type': 'TrainModel', 'loss': 0.4462642967700958, 'generations': 0, 'dataset_names': ['Crime_Reports_Train.csv'], 'artifact_names': None, 'model_name': 'Clearance Status_model20190420142147', 'job_error': ''}\n",
      "{'status': 'Running', 'starttime': '2019-04-20T14:28:26.710665', 'endtime': None, 'percent_complete': 2, 'job_type': 'TrainModel', 'loss': 0.4462642967700958, 'generations': 0, 'dataset_names': ['Crime_Reports_Train.csv'], 'artifact_names': None, 'model_name': 'Clearance Status_model20190420142147', 'job_error': ''}\n",
      "{'status': 'Running', 'starttime': '2019-04-20T14:28:26.710665', 'endtime': None, 'percent_complete': 2, 'job_type': 'TrainModel', 'loss': 0.4462642967700958, 'generations': 0, 'dataset_names': ['Crime_Reports_Train.csv'], 'artifact_names': None, 'model_name': 'Clearance Status_model20190420142147', 'job_error': ''}\n",
      "{'status': 'Running', 'starttime': '2019-04-20T14:28:26.710665', 'endtime': None, 'percent_complete': 2, 'job_type': 'TrainModel', 'loss': 0.4462642967700958, 'generations': 0, 'dataset_names': ['Crime_Reports_Train.csv'], 'artifact_names': None, 'model_name': 'Clearance Status_model20190420142147', 'job_error': ''}\n",
      "{'status': 'Running', 'starttime': '2019-04-20T14:28:26.710665', 'endtime': None, 'percent_complete': 2, 'job_type': 'TrainModel', 'loss': 0.4462642967700958, 'generations': 0, 'dataset_names': ['Crime_Reports_Train.csv'], 'artifact_names': None, 'model_name': 'Clearance Status_model20190420142147', 'job_error': ''}\n"
     ]
    }
   ],
   "source": [
    "#Creating Model\n",
    "model = target + \"_model\" + ts\n",
    "status, message = ds.delete_model(model)\n",
    "print(status, message)\n",
    "status, job_id = ds.create_model(dataset_names = \"Crime_Reports_Train.csv\", \\\n",
    "                                 model_name =  model, \\\n",
    "                                 max_train_time = '01:00')\n",
    "if status:\n",
    "    ds.wait_for_job(job_id['job_name'])\n",
    "else:\n",
    "    print(job_id)\n",
    "    "
   ]
  },
  {
   "cell_type": "code",
   "execution_count": 7,
   "metadata": {},
   "outputs": [
    {
     "name": "stdout",
     "output_type": "stream",
     "text": [
      "{'status': 'Running', 'starttime': '2019-04-20T15:35:46.949398', 'endtime': None, 'percent_complete': 0, 'job_type': 'AnalyzeModel', 'loss': 0.4200733006000519, 'generations': 6, 'dataset_names': None, 'artifact_names': ['84bc65621352428c93f741dea381a2a9'], 'model_name': 'Clearance Status_model20190420142147', 'job_error': ''}\n",
      "{'status': 'Running', 'starttime': '2019-04-20T15:35:46.949398', 'endtime': None, 'percent_complete': 0, 'job_type': 'AnalyzeModel', 'loss': 0.4200733006000519, 'generations': 6, 'dataset_names': None, 'artifact_names': ['84bc65621352428c93f741dea381a2a9'], 'model_name': 'Clearance Status_model20190420142147', 'job_error': ''}\n",
      "{'status': 'Running', 'starttime': '2019-04-20T15:35:46.949398', 'endtime': None, 'percent_complete': 0, 'job_type': 'AnalyzeModel', 'loss': 0.4200733006000519, 'generations': 6, 'dataset_names': None, 'artifact_names': ['84bc65621352428c93f741dea381a2a9'], 'model_name': 'Clearance Status_model20190420142147', 'job_error': ''}\n",
      "{'status': 'Running', 'starttime': '2019-04-20T15:35:46.949398', 'endtime': None, 'percent_complete': 0, 'job_type': 'AnalyzeModel', 'loss': 0.4200733006000519, 'generations': 6, 'dataset_names': None, 'artifact_names': ['84bc65621352428c93f741dea381a2a9'], 'model_name': 'Clearance Status_model20190420142147', 'job_error': ''}\n",
      "{'status': 'Complete', 'starttime': '2019-04-20T15:35:46.949398', 'endtime': '2019-04-20T15:36:42.608651', 'percent_complete': 100, 'job_type': 'AnalyzeModel', 'loss': 0.4200733006000519, 'generations': 6, 'dataset_names': None, 'artifact_names': ['84bc65621352428c93f741dea381a2a9'], 'model_name': 'Clearance Status_model20190420142147', 'job_error': ''}\n"
     ]
    }
   ],
   "source": [
    "#Analyzing Models\n",
    "status, artifact = ds.analyze_model(model)\n",
    "sleep(1)\n",
    "if status:\n",
    "    ds.wait_for_job(artifact['job_name'])\n",
    "else:\n",
    "    print(artifact)\n",
    "status, feature_importance = ds.download_artifact(artifact['artifact_name'])"
   ]
  },
  {
   "cell_type": "code",
   "execution_count": 8,
   "metadata": {
    "scrolled": false
   },
   "outputs": [
    {
     "name": "stdout",
     "output_type": "stream",
     "text": [
      "Highest Offense Code                                              5.056567e-01\n",
      "Location Type = STREETS / HWY / ROAD / ALLEY                      1.364064e-01\n",
      "Family Violence = Y                                               7.891835e-02\n",
      "Location Type = RESIDENCE / HOME                                  7.385196e-02\n",
      "Elapsed Time                                                      4.650376e-02\n",
      "Census Tract                                                      4.618879e-02\n",
      "Zip Codes                                                         3.082168e-02\n",
      "Location Type = DEPARTMENT / DISCOUNT STORE                       2.325520e-02\n",
      "Location Type = GROCERY / SUPERMARKET                             1.636362e-02\n",
      "Location Type = PARKING LOTS / GARAGE                             8.583110e-03\n",
      "Location Type = COMMERCIAL / OFFICE BUILDING                      7.936218e-03\n",
      "Location Type = OTHER / UNKNOWN                                   5.269813e-03\n",
      "Location Type = GOVERNMENT / PUBLIC BUILDING                      4.728369e-03\n",
      "Location Type = HOTEL / MOTEL / ETC.                              2.291820e-03\n",
      "Location Type = CONVENIENCE STORE                                 1.661150e-03\n",
      "Location Type = RESTAURANTS                                       1.559101e-03\n",
      "Location Type = PARK / PLAYGROUND                                 1.470818e-03\n",
      "Location Type = DRUG STORE / DR. OFFICE / HOSPITAL                1.223008e-03\n",
      "Location Type = TRANSPORTATION (AIR / BUS / TRAIN - TERMINALS)    1.128899e-03\n",
      "Location Type = BAR / NIGHT CLUB                                  8.463480e-04\n",
      "Location Type = SPECIALTY  STORE (TV  FUR ETC.)                   7.922013e-04\n",
      "Location Type = GAS / SERVICE STATIONS                            7.459223e-04\n",
      "Location Type = BANKS / SAVINGS & LOAN                            5.312156e-04\n",
      "Location Type = SCHOOLS / COLLEGES                                4.879300e-04\n",
      "Location Type = LAKE / WATERWAY                                   3.643914e-04\n",
      "Location Type = FIELD / WOODS                                     3.620172e-04\n",
      "Location Type = SHOPPING MALL                                     3.448090e-04\n",
      "Location Type = CONSTRUCTION SITE                                 2.902283e-04\n",
      "Location Type = SHELTER-MISSION / HOMELESS                        2.496875e-04\n",
      "Location Type = JAIL / PRISON                                     1.725759e-04\n",
      "Location Type = CHURCH / SYNAGOGUE / TEMPLE / MOSQUE              1.628815e-04\n",
      "Location Type = SCHOOL - COLLEGE / UNIVERSITY                     1.582776e-04\n",
      "Location Type = LIQUOR STORE                                      1.321889e-04\n",
      "Location Type = SCHOOL - ELEMENTARY / SECONDARY                   1.308706e-04\n",
      "Location Type = RENTAL STORAGE FACILITY                           9.541643e-05\n",
      "Location Type = DAYCARE FACILITY                                  8.655547e-05\n",
      "Location Type = AUTO DEALERSHIP NEW / USED                        5.985154e-05\n",
      "Location Type = COMMUNITY CENTER                                  4.916632e-05\n",
      "Location Type = GAMBLING FACILITY / CASINO / RACE TRACK           3.529371e-05\n",
      "Location Type = CAMP / CAMPGROUND                                 2.530679e-05\n",
      "Location Type = ARENA / STADIUM / FAIRGROUNDS / COLISEUM          1.449777e-05\n",
      "Location Type = INDUSTRIAL SITE                                   1.192249e-05\n",
      "Location Type = ATM SEPARATE FROM BANK                            9.414990e-06\n",
      "Location Type = REST AREA                                         7.309178e-06\n",
      "Location Type = DOCK / WHARF / FREIGHT / MODAL TERMINAL           5.661531e-06\n",
      "Location Type = AMUSEMENT PARK                                    5.093275e-06\n",
      "Location Type = TRIBAL LANDS                                      2.384011e-06\n",
      "Location Type = MILITARY INSTALLATION                             1.724622e-06\n",
      "Location Type = FARM FACILITY                                     8.357156e-08\n",
      "dtype: float64\n"
     ]
    }
   ],
   "source": [
    "print(feature_importance)"
   ]
  },
  {
   "cell_type": "code",
   "execution_count": 9,
   "metadata": {},
   "outputs": [
    {
     "name": "stdout",
     "output_type": "stream",
     "text": [
      "True None\n",
      "{'status': 'Running', 'starttime': '2019-04-20T15:37:19.740881', 'endtime': None, 'percent_complete': 0, 'job_type': 'CleanDataTiny', 'loss': None, 'generations': None, 'dataset_names': ['Crime_Reports_Test.csv'], 'artifact_names': ['8e1042e7001b43efb54c3215b5089139'], 'model_name': None, 'job_error': ''}\n",
      "{'status': 'Running', 'starttime': '2019-04-20T15:37:19.740881', 'endtime': None, 'percent_complete': 0, 'job_type': 'CleanDataTiny', 'loss': None, 'generations': None, 'dataset_names': ['Crime_Reports_Test.csv'], 'artifact_names': ['8e1042e7001b43efb54c3215b5089139'], 'model_name': None, 'job_error': ''}\n",
      "{'status': 'Complete', 'starttime': '2019-04-20T15:37:19.740881', 'endtime': '2019-04-20T15:37:43.740483', 'percent_complete': 100, 'job_type': 'CleanDataTiny', 'loss': None, 'generations': None, 'dataset_names': ['Crime_Reports_Test.csv'], 'artifact_names': ['8e1042e7001b43efb54c3215b5089139'], 'model_name': None, 'job_error': ''}\n"
     ]
    }
   ],
   "source": [
    "#Upload Test Data\n",
    "status, message = ds.delete_dataset(\"Crime_Reports_Test.csv\")\n",
    "print(status, message)\n",
    "status, dataset = ds.upload_dataset(\"Crime_Reports_Test.csv\")\n",
    "if not status:\n",
    "    print(dataset)\n",
    "    \n",
    "#Clean Test Data\n",
    "status, job_id = ds.clean_data(\"Crime_Reports_Test.csv\", target = target, model_name = model)\n",
    "if status:\n",
    "    ds.wait_for_job(job_id['job_name'])\n",
    "else:\n",
    "    print(job_id)"
   ]
  },
  {
   "cell_type": "code",
   "execution_count": 10,
   "metadata": {},
   "outputs": [
    {
     "name": "stdout",
     "output_type": "stream",
     "text": [
      "{'status': 'Running', 'starttime': '2019-04-20T15:39:02.417205', 'endtime': None, 'percent_complete': 0, 'job_type': 'RunModel', 'loss': 0.4200733006000519, 'generations': 6, 'dataset_names': ['Crime_Reports_Test.csv'], 'artifact_names': ['ce0a5d2e34de4dfca271bed78a24e937'], 'model_name': 'Clearance Status_model20190420142147', 'job_error': ''}\n",
      "{'status': 'Complete', 'starttime': '2019-04-20T15:39:02.417205', 'endtime': '2019-04-20T15:39:12.716231', 'percent_complete': 100, 'job_type': 'RunModel', 'loss': 0.4200733006000519, 'generations': 6, 'dataset_names': ['Crime_Reports_Test.csv'], 'artifact_names': ['ce0a5d2e34de4dfca271bed78a24e937'], 'model_name': 'Clearance Status_model20190420142147', 'job_error': ''}\n",
      "              precision    recall  f1-score   support\n",
      "\n",
      "           C       0.86      0.81      0.84     73644\n",
      "           N       0.92      0.94      0.93    168079\n",
      "\n",
      "   micro avg       0.90      0.90      0.90    241723\n",
      "   macro avg       0.89      0.88      0.89    241723\n",
      "weighted avg       0.90      0.90      0.90    241723\n",
      "\n"
     ]
    },
    {
     "data": {
      "image/png": "[encoded data removed]",
      "text/plain": [
       "<Figure size 432x288 with 1 Axes>"
      ]
     },
     "metadata": {
      "needs_background": "light"
     },
     "output_type": "display_data"
    }
   ],
   "source": [
    "#Run Model on Test Data\n",
    "status, artifact = ds.run_model(\"Crime_Reports_Test.csv\", model)\n",
    "sleep(1)\n",
    "ds.wait_for_job(artifact['job_name'])\n",
    "\n",
    "status, prediction = ds.download_artifact(artifact['artifact_name'])\n",
    "df = pd.read_csv(\"Crime_Reports_Test.csv\")\n",
    "unq = prediction[target].unique()[::-1]\n",
    "p = np.zeros((len(prediction),))\n",
    "a = np.zeros((len(prediction),))\n",
    "for i,q in enumerate(unq):\n",
    "    p += i*(prediction[target] == q).values\n",
    "    a += i*(df[target] == q).values\n",
    "#Plot predictions vs actual\n",
    "plt.plot(a)\n",
    "plt.plot(p)\n",
    "plt.legend(['Actual','Predicted'])\n",
    "plt.yticks([i for i in range(len(unq))],[q for q in unq]);\n",
    "print(classification_report(df[target], prediction[target]))"
   ]
  },
  {
   "cell_type": "code",
   "execution_count": 11,
   "metadata": {},
   "outputs": [
    {
     "name": "stdout",
     "output_type": "stream",
     "text": [
      "{'type': 'XGBClassifier', 'parameters': {'base_score': 0.5, 'colsample_bylevel': 1, 'colsample_bytree': 1, 'gamma': 0, 'learning_rate': 0.7647392976140628, 'max_delta_step': 0, 'max_depth': 5, 'min_child_weight': 17, 'n_estimators': 452, 'n_jobs': -1, 'reg_alpha': 0, 'reg_lambda': 1, 'scale_pos_weight': 1, 'subsample': 0.43197509593085504}}\n"
     ]
    }
   ],
   "source": [
    "status, model_type = ds.lookup_model_name(model)\n",
    "print(model_type['description']['best_genome'])"
   ]
  },
  {
   "cell_type": "code",
   "execution_count": null,
   "metadata": {},
   "outputs": [],
   "source": []
  }
 ],
 "metadata": {
  "kernelspec": {
   "display_name": "Python 3",
   "language": "python",
   "name": "python3"
  },
  "language_info": {
   "codemirror_mode": {
    "name": "ipython",
    "version": 3
   },
   "file_extension": ".py",
   "mimetype": "text/x-python",
   "name": "python",
   "nbconvert_exporter": "python",
   "pygments_lexer": "ipython3",
   "version": "3.7.1"
  }
 },
 "nbformat": 4,
 "nbformat_minor": 2
}
