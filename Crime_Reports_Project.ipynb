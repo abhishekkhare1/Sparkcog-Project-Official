{
 "cells": [
  {
   "cell_type": "code",
   "execution_count": null,
   "metadata": {},
   "outputs": [],
   "source": [
    "#Instructions\n",
    "#Download Crime_Reports.csv\n",
    "#Use csv_cleaner to change O labels to N and get 80/20 split (TODO) for training/test data\n",
    "#Run cells sequentially\n",
    "#Clean data below\n",
    "#Make sure all names match up"
   ]
  },
  {
   "cell_type": "code",
   "execution_count": 19,
   "metadata": {},
   "outputs": [],
   "source": [
    "# Avner Khan, Kirana Raja, Abhishek Khare, Joshua Deng\n",
    "import matplotlib.pyplot as plt\n",
    "from amb_sdk.sdk import DarwinSdk\n",
    "from time import sleep\n",
    "import pandas as pd\n",
    "import numpy as np\n",
    "import sklearn.model_selection as ms\n",
    "from sklearn.metrics import classification_report\n",
    "import datetime\n",
    "\n",
    "ds = DarwinSdk()\n",
    "ds.set_url('https://amb-demo-api.sparkcognition.com/v1/')\n",
    "ts = '{:%Y%m%d%H%M%S}'.format(datetime.datetime.now())\n"
   ]
  },
  {
   "cell_type": "code",
   "execution_count": 20,
   "metadata": {},
   "outputs": [
    {
     "name": "stdout",
     "output_type": "stream",
     "text": [
      "True\n"
     ]
    }
   ],
   "source": [
    "\n",
    "#Create a new user\n",
    "status, msg = ds.auth_login_user('AVNERKHAN@UTEXAS.edu', 'xcGPvw7VMm')\n",
    "if not status:\n",
    "    print(msg)\n",
    "print(status)"
   ]
  },
  {
   "cell_type": "code",
   "execution_count": 21,
   "metadata": {},
   "outputs": [
    {
     "name": "stdout",
     "output_type": "stream",
     "text": [
      "1516122\n",
      "   Highest Offense Code Family Violence                 Location Type  \\\n",
      "0                  2716               N        GAS / SERVICE STATIONS   \n",
      "1                   600               N              RESIDENCE / HOME   \n",
      "2                   300               N  STREETS / HWY / ROAD / ALLEY   \n",
      "4                  1803               N  STREETS / HWY / ROAD / ALLEY   \n",
      "6                   601               N         PARKING LOTS / GARAGE   \n",
      "\n",
      "   Census Tract Clearance Status  Elapsed Time  \n",
      "0         11.00                C      0.250000  \n",
      "1         21.07                N    213.783333  \n",
      "2         18.04                N      0.000000  \n",
      "4          7.00                C     11.216667  \n",
      "6         11.00                N     75.283333  \n"
     ]
    }
   ],
   "source": [
    "def elapsed_time(oc_date, oc_time, rep_date, rep_time):\n",
    "    oc_date_split_arr = oc_date.split(\"/\")\n",
    "    oc_date_month = oc_date_split_arr[0]\n",
    "    oc_date_day = oc_date_split_arr[1]\n",
    "    oc_date_year = oc_date_split_arr[2]\n",
    "    oc_hr = int(oc_time // 100)\n",
    "    if (oc_hr > 23):\n",
    "        oc_hr = 23\n",
    "    elif (oc_hr < 0):\n",
    "        oc_hr = 0\n",
    "    oc_min = int(oc_time % 100)\n",
    "    if (oc_min > 59):\n",
    "        oc_min = 59\n",
    "    elif (oc_min < 0):\n",
    "        oc_min = 0\n",
    "    oc_datetime = datetime.datetime(int(oc_date_year), int(oc_date_month), int(oc_date_day), oc_hr, oc_min)\n",
    "    rep_date_split_arr = rep_date.split(\"/\")\n",
    "    rep_date_month = rep_date_split_arr[0]\n",
    "    rep_date_day = rep_date_split_arr[1]\n",
    "    rep_date_year = rep_date_split_arr[2]\n",
    "    rep_hr = int(rep_time // 100)\n",
    "    if (rep_hr > 23):\n",
    "        rep_hr = 23\n",
    "    elif (rep_hr < 0):\n",
    "        rep_hr = 0\n",
    "    rep_min = int(rep_time % 100)\n",
    "    if (rep_min > 59):\n",
    "        rep_min = 59\n",
    "    elif (rep_min < 0):\n",
    "        rep_min = 0\n",
    "    rep_datetime = datetime.datetime(int(rep_date_year), int(rep_date_month), int(rep_date_day), rep_hr, rep_min)\n",
    "    elapsed = rep_datetime - oc_datetime\n",
    "    return elapsed.total_seconds() / 3600\n",
    "\n",
    "dataset = pd.read_csv(\"Crime_Reports_Fixed.csv\")\n",
    "# print(len(dataset))\n",
    "dataset = dataset.drop(columns=['Location', 'Category Description', 'UCR Category', 'PRA', 'APD Sector', 'APD District', 'Council District', 'Zip Code', 'Address', 'Incident Number', 'Highest Offense Description', 'Occurred Date Time', 'Report Date Time', 'Clearance Date', 'X-coordinate', 'Y-coordinate', 'Latitude', 'Longitude'])\n",
    "# print(dataset.head())\n",
    "dataset = dataset.dropna()\n",
    "elapsed = []\n",
    "for index, row in dataset.iterrows():\n",
    "#     if (row['Clearance Status'] != 'C'):\n",
    "#         dataset.loc[index, 'Clearance Status'] = 'N'\n",
    "    elapsed.append(elapsed_time(row['Occurred Date'], row['Occurred Time'], row['Report Date'], row['Report Time']))\n",
    "elapsed_df = pd.DataFrame(data=elapsed)\n",
    "dataset['Elapsed Time'] = elapsed_df\n",
    "dataset = dataset.drop(columns=['Occurred Date', 'Occurred Time', 'Report Date', 'Report Time'])\n",
    "print(len(dataset))\n",
    "print(dataset.head())\n",
    "dataset.to_csv('Cleaned_Crime_Reports_Full_2.csv') # Actual TRAINING Data"
   ]
  },
  {
   "cell_type": "code",
   "execution_count": 22,
   "metadata": {},
   "outputs": [
    {
     "name": "stdout",
     "output_type": "stream",
     "text": [
      "True None\n"
     ]
    }
   ],
   "source": [
    "status, message = ds.delete_dataset(\"Cleaned_Crime_Reports_Full_2.csv\")\n",
    "print(status, message)"
   ]
  },
  {
   "cell_type": "code",
   "execution_count": 23,
   "metadata": {},
   "outputs": [
    {
     "name": "stdout",
     "output_type": "stream",
     "text": [
      "{'status': 'Requested', 'starttime': '2019-04-18T16:27:12.811245', 'endtime': None, 'percent_complete': 0, 'job_type': 'CleanDataTiny', 'loss': None, 'generations': None, 'dataset_names': ['Cleaned_Crime_Reports_Full_2.csv'], 'artifact_names': ['09fff8964403448abe65c8942917ff0c'], 'model_name': None, 'job_error': None}\n",
      "{'status': 'Running', 'starttime': '2019-04-18T16:27:12.811245', 'endtime': None, 'percent_complete': 0, 'job_type': 'CleanDataTiny', 'loss': None, 'generations': None, 'dataset_names': ['Cleaned_Crime_Reports_Full_2.csv'], 'artifact_names': ['09fff8964403448abe65c8942917ff0c'], 'model_name': None, 'job_error': ''}\n",
      "{'status': 'Running', 'starttime': '2019-04-18T16:27:12.811245', 'endtime': None, 'percent_complete': 0, 'job_type': 'CleanDataTiny', 'loss': None, 'generations': None, 'dataset_names': ['Cleaned_Crime_Reports_Full_2.csv'], 'artifact_names': ['09fff8964403448abe65c8942917ff0c'], 'model_name': None, 'job_error': ''}\n",
      "{'status': 'Running', 'starttime': '2019-04-18T16:27:12.811245', 'endtime': None, 'percent_complete': 0, 'job_type': 'CleanDataTiny', 'loss': None, 'generations': None, 'dataset_names': ['Cleaned_Crime_Reports_Full_2.csv'], 'artifact_names': ['09fff8964403448abe65c8942917ff0c'], 'model_name': None, 'job_error': ''}\n",
      "{'status': 'Running', 'starttime': '2019-04-18T16:27:12.811245', 'endtime': None, 'percent_complete': 0, 'job_type': 'CleanDataTiny', 'loss': None, 'generations': None, 'dataset_names': ['Cleaned_Crime_Reports_Full_2.csv'], 'artifact_names': ['09fff8964403448abe65c8942917ff0c'], 'model_name': None, 'job_error': ''}\n",
      "{'status': 'Running', 'starttime': '2019-04-18T16:27:12.811245', 'endtime': None, 'percent_complete': 0, 'job_type': 'CleanDataTiny', 'loss': None, 'generations': None, 'dataset_names': ['Cleaned_Crime_Reports_Full_2.csv'], 'artifact_names': ['09fff8964403448abe65c8942917ff0c'], 'model_name': None, 'job_error': ''}\n",
      "{'status': 'Running', 'starttime': '2019-04-18T16:27:12.811245', 'endtime': None, 'percent_complete': 0, 'job_type': 'CleanDataTiny', 'loss': None, 'generations': None, 'dataset_names': ['Cleaned_Crime_Reports_Full_2.csv'], 'artifact_names': ['09fff8964403448abe65c8942917ff0c'], 'model_name': None, 'job_error': ''}\n",
      "{'status': 'Running', 'starttime': '2019-04-18T16:27:12.811245', 'endtime': None, 'percent_complete': 0, 'job_type': 'CleanDataTiny', 'loss': None, 'generations': None, 'dataset_names': ['Cleaned_Crime_Reports_Full_2.csv'], 'artifact_names': ['09fff8964403448abe65c8942917ff0c'], 'model_name': None, 'job_error': ''}\n",
      "{'status': 'Running', 'starttime': '2019-04-18T16:27:12.811245', 'endtime': None, 'percent_complete': 0, 'job_type': 'CleanDataTiny', 'loss': None, 'generations': None, 'dataset_names': ['Cleaned_Crime_Reports_Full_2.csv'], 'artifact_names': ['09fff8964403448abe65c8942917ff0c'], 'model_name': None, 'job_error': ''}\n",
      "{'status': 'Running', 'starttime': '2019-04-18T16:27:12.811245', 'endtime': None, 'percent_complete': 0, 'job_type': 'CleanDataTiny', 'loss': None, 'generations': None, 'dataset_names': ['Cleaned_Crime_Reports_Full_2.csv'], 'artifact_names': ['09fff8964403448abe65c8942917ff0c'], 'model_name': None, 'job_error': ''}\n",
      "{'status': 'Running', 'starttime': '2019-04-18T16:27:12.811245', 'endtime': None, 'percent_complete': 0, 'job_type': 'CleanDataTiny', 'loss': None, 'generations': None, 'dataset_names': ['Cleaned_Crime_Reports_Full_2.csv'], 'artifact_names': ['09fff8964403448abe65c8942917ff0c'], 'model_name': None, 'job_error': ''}\n",
      "{'status': 'Complete', 'starttime': '2019-04-18T16:27:12.811245', 'endtime': '2019-04-18T16:29:53.019153', 'percent_complete': 100, 'job_type': 'CleanDataTiny', 'loss': None, 'generations': None, 'dataset_names': ['Cleaned_Crime_Reports_Full_2.csv'], 'artifact_names': ['09fff8964403448abe65c8942917ff0c'], 'model_name': None, 'job_error': ''}\n",
      "False 400: BAD REQUEST - {\"message\": \"Model does not exist\"}\n",
      "\n",
      "{'status': 'Requested', 'starttime': '2019-04-18T16:29:59.641659', 'endtime': None, 'percent_complete': 0, 'job_type': 'TrainModel', 'loss': None, 'generations': 0, 'dataset_names': ['Cleaned_Crime_Reports_Full_2.csv'], 'artifact_names': None, 'model_name': 'Clearance Status_model220190418162413', 'job_error': None}\n",
      "{'status': 'Running', 'starttime': '2019-04-18T16:29:59.641659', 'endtime': None, 'percent_complete': 0, 'job_type': 'TrainModel', 'loss': None, 'generations': 0, 'dataset_names': ['Cleaned_Crime_Reports_Full_2.csv'], 'artifact_names': None, 'model_name': 'Clearance Status_model220190418162413', 'job_error': ''}\n",
      "{'status': 'Running', 'starttime': '2019-04-18T16:29:59.641659', 'endtime': None, 'percent_complete': 0, 'job_type': 'TrainModel', 'loss': None, 'generations': 0, 'dataset_names': ['Cleaned_Crime_Reports_Full_2.csv'], 'artifact_names': None, 'model_name': 'Clearance Status_model220190418162413', 'job_error': ''}\n",
      "{'status': 'Running', 'starttime': '2019-04-18T16:29:59.641659', 'endtime': None, 'percent_complete': 0, 'job_type': 'TrainModel', 'loss': None, 'generations': 0, 'dataset_names': ['Cleaned_Crime_Reports_Full_2.csv'], 'artifact_names': None, 'model_name': 'Clearance Status_model220190418162413', 'job_error': ''}\n",
      "{'status': 'Running', 'starttime': '2019-04-18T16:29:59.641659', 'endtime': None, 'percent_complete': 0, 'job_type': 'TrainModel', 'loss': None, 'generations': 0, 'dataset_names': ['Cleaned_Crime_Reports_Full_2.csv'], 'artifact_names': None, 'model_name': 'Clearance Status_model220190418162413', 'job_error': ''}\n",
      "{'status': 'Running', 'starttime': '2019-04-18T16:29:59.641659', 'endtime': None, 'percent_complete': 0, 'job_type': 'TrainModel', 'loss': None, 'generations': 0, 'dataset_names': ['Cleaned_Crime_Reports_Full_2.csv'], 'artifact_names': None, 'model_name': 'Clearance Status_model220190418162413', 'job_error': ''}\n",
      "{'status': 'Running', 'starttime': '2019-04-18T16:29:59.641659', 'endtime': None, 'percent_complete': 0, 'job_type': 'TrainModel', 'loss': None, 'generations': 0, 'dataset_names': ['Cleaned_Crime_Reports_Full_2.csv'], 'artifact_names': None, 'model_name': 'Clearance Status_model220190418162413', 'job_error': ''}\n",
      "{'status': 'Running', 'starttime': '2019-04-18T16:29:59.641659', 'endtime': None, 'percent_complete': 0, 'job_type': 'TrainModel', 'loss': None, 'generations': 0, 'dataset_names': ['Cleaned_Crime_Reports_Full_2.csv'], 'artifact_names': None, 'model_name': 'Clearance Status_model220190418162413', 'job_error': ''}\n",
      "{'status': 'Running', 'starttime': '2019-04-18T16:29:59.641659', 'endtime': None, 'percent_complete': 0, 'job_type': 'TrainModel', 'loss': None, 'generations': 0, 'dataset_names': ['Cleaned_Crime_Reports_Full_2.csv'], 'artifact_names': None, 'model_name': 'Clearance Status_model220190418162413', 'job_error': ''}\n",
      "{'status': 'Running', 'starttime': '2019-04-18T16:29:59.641659', 'endtime': None, 'percent_complete': 0, 'job_type': 'TrainModel', 'loss': None, 'generations': 0, 'dataset_names': ['Cleaned_Crime_Reports_Full_2.csv'], 'artifact_names': None, 'model_name': 'Clearance Status_model220190418162413', 'job_error': ''}\n",
      "{'status': 'Running', 'starttime': '2019-04-18T16:29:59.641659', 'endtime': None, 'percent_complete': 0, 'job_type': 'TrainModel', 'loss': None, 'generations': 0, 'dataset_names': ['Cleaned_Crime_Reports_Full_2.csv'], 'artifact_names': None, 'model_name': 'Clearance Status_model220190418162413', 'job_error': ''}\n",
      "{'status': 'Running', 'starttime': '2019-04-18T16:29:59.641659', 'endtime': None, 'percent_complete': 0, 'job_type': 'TrainModel', 'loss': None, 'generations': 0, 'dataset_names': ['Cleaned_Crime_Reports_Full_2.csv'], 'artifact_names': None, 'model_name': 'Clearance Status_model220190418162413', 'job_error': ''}\n",
      "{'status': 'Running', 'starttime': '2019-04-18T16:29:59.641659', 'endtime': None, 'percent_complete': 0, 'job_type': 'TrainModel', 'loss': None, 'generations': 0, 'dataset_names': ['Cleaned_Crime_Reports_Full_2.csv'], 'artifact_names': None, 'model_name': 'Clearance Status_model220190418162413', 'job_error': ''}\n",
      "{'status': 'Complete', 'starttime': '2019-04-18T16:29:59.641659', 'endtime': '2019-04-18T16:33:12.795588', 'percent_complete': 100, 'job_type': 'TrainModel', 'loss': None, 'generations': 0, 'dataset_names': ['Cleaned_Crime_Reports_Full_2.csv'], 'artifact_names': None, 'model_name': 'Clearance Status_model220190418162413', 'job_error': ''}\n"
     ]
    }
   ],
   "source": [
    "#Upload Dataset\n",
    "status, uploaded_dataset = ds.upload_dataset(\"Cleaned_Crime_Reports_Full_2.csv\")\n",
    "if not status:\n",
    "    print(uploaded_dataset)\n",
    "\n",
    "target = \"Clearance Status\"\n",
    "status, job_id = ds.clean_data(\"Cleaned_Crime_Reports_Full_2.csv\", target = target)\n",
    "if status:\n",
    "    ds.wait_for_job(job_id['job_name'])\n",
    "else:\n",
    "    print(job_id)\n",
    "    \n",
    "#Creating Model\n",
    "model = target + \"_model2\" + ts\n",
    "status, message = ds.delete_model(model)\n",
    "print(status, message)\n",
    "status, job_id = ds.create_model(dataset_names = \"Cleaned_Crime_Reports_Full_2.csv\", \\\n",
    "                                 model_name =  model, \\\n",
    "                                 max_train_time = '00:02')\n",
    "if status:\n",
    "    ds.wait_for_job(job_id['job_name'])\n",
    "else:\n",
    "    print(job_id)\n",
    "    "
   ]
  },
  {
   "cell_type": "code",
   "execution_count": 24,
   "metadata": {},
   "outputs": [
    {
     "name": "stdout",
     "output_type": "stream",
     "text": [
      "{'status': 'Running', 'starttime': '2019-04-18T16:33:28.540913', 'endtime': None, 'percent_complete': 0, 'job_type': 'AnalyzeModel', 'loss': None, 'generations': 0, 'dataset_names': None, 'artifact_names': ['457ff1c26b9a4f569fae92ed493c9b97'], 'model_name': 'Clearance Status_model220190418162413', 'job_error': ''}\n",
      "{'status': 'Running', 'starttime': '2019-04-18T16:33:28.540913', 'endtime': None, 'percent_complete': 0, 'job_type': 'AnalyzeModel', 'loss': None, 'generations': 0, 'dataset_names': None, 'artifact_names': ['457ff1c26b9a4f569fae92ed493c9b97'], 'model_name': 'Clearance Status_model220190418162413', 'job_error': ''}\n",
      "{'status': 'Running', 'starttime': '2019-04-18T16:33:28.540913', 'endtime': None, 'percent_complete': 0, 'job_type': 'AnalyzeModel', 'loss': None, 'generations': 0, 'dataset_names': None, 'artifact_names': ['457ff1c26b9a4f569fae92ed493c9b97'], 'model_name': 'Clearance Status_model220190418162413', 'job_error': ''}\n",
      "{'status': 'Running', 'starttime': '2019-04-18T16:33:28.540913', 'endtime': None, 'percent_complete': 0, 'job_type': 'AnalyzeModel', 'loss': None, 'generations': 0, 'dataset_names': None, 'artifact_names': ['457ff1c26b9a4f569fae92ed493c9b97'], 'model_name': 'Clearance Status_model220190418162413', 'job_error': ''}\n",
      "{'status': 'Running', 'starttime': '2019-04-18T16:33:28.540913', 'endtime': None, 'percent_complete': 0, 'job_type': 'AnalyzeModel', 'loss': None, 'generations': 0, 'dataset_names': None, 'artifact_names': ['457ff1c26b9a4f569fae92ed493c9b97'], 'model_name': 'Clearance Status_model220190418162413', 'job_error': ''}\n",
      "{'status': 'Complete', 'starttime': '2019-04-18T16:33:28.540913', 'endtime': '2019-04-18T16:34:38.302048', 'percent_complete': 100, 'job_type': 'AnalyzeModel', 'loss': None, 'generations': 0, 'dataset_names': None, 'artifact_names': ['457ff1c26b9a4f569fae92ed493c9b97'], 'model_name': 'Clearance Status_model220190418162413', 'job_error': ''}\n"
     ]
    }
   ],
   "source": [
    "#Analyzing Models\n",
    "status, artifact = ds.analyze_model(model)\n",
    "sleep(1)\n",
    "if status:\n",
    "    ds.wait_for_job(artifact['job_name'])\n",
    "else:\n",
    "    print(artifact)\n",
    "status, feature_importance = ds.download_artifact(artifact['artifact_name'])"
   ]
  },
  {
   "cell_type": "code",
   "execution_count": 25,
   "metadata": {},
   "outputs": [
    {
     "name": "stdout",
     "output_type": "stream",
     "text": [
      "Highest Offense Code                                              5.526386e-01\n",
      "Location Type = STREETS / HWY / ROAD / ALLEY                      1.535361e-01\n",
      "Family Violence = Y                                               8.782005e-02\n",
      "Location Type = RESIDENCE / HOME                                  6.607327e-02\n",
      "Location Type = DEPARTMENT / DISCOUNT STORE                       3.112817e-02\n",
      "Unnamed: 0                                                        2.599714e-02\n",
      "Census Tract                                                      1.974890e-02\n",
      "Location Type = GROCERY / SUPERMARKET                             1.415991e-02\n",
      "Location Type = PARKING LOTS / GARAGE                             8.544856e-03\n",
      "Elapsed Time                                                      8.099955e-03\n",
      "Location Type = COMMERCIAL / OFFICE BUILDING                      6.946447e-03\n",
      "Location Type = GOVERNMENT / PUBLIC BUILDING                      6.626586e-03\n",
      "Location Type = OTHER / UNKNOWN                                   5.291879e-03\n",
      "Location Type = HOTEL / MOTEL / ETC.                              2.493916e-03\n",
      "Location Type = DRUG STORE / DR. OFFICE / HOSPITAL                1.507382e-03\n",
      "Location Type = RESTAURANTS                                       1.479380e-03\n",
      "Location Type = CONVENIENCE STORE                                 1.181248e-03\n",
      "Location Type = BAR / NIGHT CLUB                                  1.058699e-03\n",
      "Location Type = PARK / PLAYGROUND                                 9.894517e-04\n",
      "Location Type = TRANSPORTATION (AIR / BUS / TRAIN - TERMINALS)    9.063675e-04\n",
      "Location Type = FIELD / WOODS                                     6.835184e-04\n",
      "Location Type = SCHOOLS / COLLEGES                                6.763950e-04\n",
      "Location Type = GAS / SERVICE STATIONS                            4.494427e-04\n",
      "Location Type = SPECIALTY  STORE (TV  FUR ETC.)                   3.397947e-04\n",
      "Location Type = BANKS / SAVINGS & LOAN                            3.245926e-04\n",
      "Location Type = LAKE / WATERWAY                                   2.861115e-04\n",
      "Location Type = SCHOOL - COLLEGE / UNIVERSITY                     1.408800e-04\n",
      "Location Type = CHURCH / SYNAGOGUE / TEMPLE / MOSQUE              1.329215e-04\n",
      "Location Type = SCHOOL - ELEMENTARY / SECONDARY                   1.288023e-04\n",
      "Location Type = SHELTER-MISSION / HOMELESS                        1.225035e-04\n",
      "Location Type = DAYCARE FACILITY                                  9.582059e-05\n",
      "Location Type = CONSTRUCTION SITE                                 7.207533e-05\n",
      "Location Type = JAIL / PRISON                                     6.475164e-05\n",
      "Location Type = RENTAL STORAGE FACILITY                           5.751439e-05\n",
      "Location Type = GAMBLING FACILITY / CASINO / RACE TRACK           5.028453e-05\n",
      "Location Type = LIQUOR STORE                                      4.321642e-05\n",
      "Location Type = SHOPPING MALL                                     4.318466e-05\n",
      "Location Type = COMMUNITY CENTER                                  2.029633e-05\n",
      "Location Type = CAMP / CAMPGROUND                                 1.426394e-05\n",
      "Location Type = AUTO DEALERSHIP NEW / USED                        1.220837e-05\n",
      "Location Type = AMUSEMENT PARK                                    3.193253e-06\n",
      "Location Type = ARENA / STADIUM / FAIRGROUNDS / COLISEUM          2.839899e-06\n",
      "Location Type = ATM SEPARATE FROM BANK                            2.039267e-06\n",
      "Location Type = INDUSTRIAL SITE                                   1.630811e-06\n",
      "Location Type = REST AREA                                         1.315757e-06\n",
      "Location Type = DOCK / WHARF / FREIGHT / MODAL TERMINAL           1.176031e-06\n",
      "Location Type = TRIBAL LANDS                                      4.334597e-07\n",
      "Location Type = MILITARY INSTALLATION                             4.152763e-07\n",
      "Location Type = FARM FACILITY                                     1.329399e-09\n",
      "dtype: float64\n"
     ]
    }
   ],
   "source": [
    "print(feature_importance)"
   ]
  },
  {
   "cell_type": "code",
   "execution_count": 27,
   "metadata": {},
   "outputs": [
    {
     "name": "stdout",
     "output_type": "stream",
     "text": [
      "{'status': 'Running', 'starttime': '2019-04-18T16:35:47.075515', 'endtime': None, 'percent_complete': 0, 'job_type': 'RunModel', 'loss': None, 'generations': 0, 'dataset_names': ['Cleaned_Crime_Reports_Full_2.csv'], 'artifact_names': ['c8d412123a5043659c9e241e6f6f175d'], 'model_name': 'Clearance Status_model220190418162413', 'job_error': ''}\n",
      "{'status': 'Running', 'starttime': '2019-04-18T16:35:47.075515', 'endtime': None, 'percent_complete': 0, 'job_type': 'RunModel', 'loss': None, 'generations': 0, 'dataset_names': ['Cleaned_Crime_Reports_Full_2.csv'], 'artifact_names': ['c8d412123a5043659c9e241e6f6f175d'], 'model_name': 'Clearance Status_model220190418162413', 'job_error': ''}\n",
      "{'status': 'Running', 'starttime': '2019-04-18T16:35:47.075515', 'endtime': None, 'percent_complete': 0, 'job_type': 'RunModel', 'loss': None, 'generations': 0, 'dataset_names': ['Cleaned_Crime_Reports_Full_2.csv'], 'artifact_names': ['c8d412123a5043659c9e241e6f6f175d'], 'model_name': 'Clearance Status_model220190418162413', 'job_error': ''}\n",
      "{'status': 'Running', 'starttime': '2019-04-18T16:35:47.075515', 'endtime': None, 'percent_complete': 0, 'job_type': 'RunModel', 'loss': None, 'generations': 0, 'dataset_names': ['Cleaned_Crime_Reports_Full_2.csv'], 'artifact_names': ['c8d412123a5043659c9e241e6f6f175d'], 'model_name': 'Clearance Status_model220190418162413', 'job_error': ''}\n",
      "{'status': 'Complete', 'starttime': '2019-04-18T16:35:47.075515', 'endtime': '2019-04-18T16:36:34.483631', 'percent_complete': 100, 'job_type': 'RunModel', 'loss': None, 'generations': 0, 'dataset_names': ['Cleaned_Crime_Reports_Full_2.csv'], 'artifact_names': ['c8d412123a5043659c9e241e6f6f175d'], 'model_name': 'Clearance Status_model220190418162413', 'job_error': ''}\n",
      "  Clearance Status    prob_C    prob_N\n",
      "0                N  0.384919  0.615081\n",
      "1                N  0.094751  0.905249\n",
      "2                N  0.244716  0.755284\n",
      "3                C  0.934490  0.065510\n",
      "4                N  0.063167  0.936833\n",
      "              precision    recall  f1-score   support\n",
      "\n",
      "           C       0.85      0.77      0.81    521736\n",
      "           N       0.89      0.93      0.91    994386\n",
      "\n",
      "   micro avg       0.88      0.88      0.88   1516122\n",
      "   macro avg       0.87      0.85      0.86   1516122\n",
      "weighted avg       0.88      0.88      0.87   1516122\n",
      "\n"
     ]
    },
    {
     "data": {
      "image/png": "[encoded data removed]",
      "text/plain": [
       "<Figure size 432x288 with 1 Axes>"
      ]
     },
     "metadata": {
      "needs_background": "light"
     },
     "output_type": "display_data"
    }
   ],
   "source": [
    "dataset = pd.read_csv(\"Cleaned_Crime_Reports_Full_2.csv\")\n",
    "status, artifact = ds.run_model(\"Cleaned_Crime_Reports_Full_2.csv\", model)\n",
    "sleep(1)\n",
    "ds.wait_for_job(artifact['job_name'])\n",
    "\n",
    "status, prediction = ds.download_artifact(artifact['artifact_name'])\n",
    "print(prediction.head())\n",
    "\n",
    "unq = prediction[target].unique()[::-1]\n",
    "p = np.zeros((len(prediction),))\n",
    "a = np.zeros((len(prediction),))\n",
    "for i,q in enumerate(unq):\n",
    "    p += i*(prediction[target] == q).values\n",
    "    a += i*(dataset[target] == q).values\n",
    "#Plot predictions vs actual\n",
    "plt.plot(a)\n",
    "plt.plot(p)\n",
    "plt.legend(['Actual','Predicted'])\n",
    "plt.yticks([i for i in range(len(unq))],[q for q in unq]);\n",
    "print(classification_report(dataset[target], prediction[target]))"
   ]
  },
  {
   "cell_type": "code",
   "execution_count": 28,
   "metadata": {},
   "outputs": [
    {
     "name": "stdout",
     "output_type": "stream",
     "text": [
      "{'type': 'XGBClassifier', 'parameters': {'base_score': 0.5, 'colsample_bylevel': 1, 'colsample_bytree': 1, 'gamma': 0, 'learning_rate': 0.1, 'max_delta_step': 0, 'max_depth': 3, 'min_child_weight': 1, 'n_estimators': 100, 'n_jobs': -1, 'reg_alpha': 0, 'reg_lambda': 1, 'scale_pos_weight': 1, 'subsample': 1.0}}\n"
     ]
    }
   ],
   "source": [
    "status, model_type = ds.lookup_model_name(model)\n",
    "print(model_type['description']['best_genome'])"
   ]
  },
  {
   "cell_type": "code",
   "execution_count": null,
   "metadata": {},
   "outputs": [],
   "source": [
    "# Train some more\n",
    "status, job_id = ds.resume_training_model(dataset_names = \"Cleaned_Crime_Reports_Full.csv\",\n",
    "                                          model_name = model,\n",
    "                                          max_train_time = '00:05')\n",
    "                                          \n",
    "if status:\n",
    "    ds.wait_for_job(job_id['job_name'])\n",
    "else:\n",
    "    print(job_id)"
   ]
  }
 ],
 "metadata": {
  "kernelspec": {
   "display_name": "Python 3",
   "language": "python",
   "name": "python3"
  },
  "language_info": {
   "codemirror_mode": {
    "name": "ipython",
    "version": 3
   },
   "file_extension": ".py",
   "mimetype": "text/x-python",
   "name": "python",
   "nbconvert_exporter": "python",
   "pygments_lexer": "ipython3",
   "version": "3.7.1"
  }
 },
 "nbformat": 4,
 "nbformat_minor": 2
}
