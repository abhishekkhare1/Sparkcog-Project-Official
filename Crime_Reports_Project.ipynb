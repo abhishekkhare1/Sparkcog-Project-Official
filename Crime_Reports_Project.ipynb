{
 "cells": [
  {
   "cell_type": "code",
   "execution_count": 1,
   "metadata": {},
   "outputs": [],
   "source": [
    "# Avner Khan, Kirana Raja, Abhishek Khare, Joshua Deng\n",
    "import matplotlib.pyplot as plt\n",
    "from amb_sdk.sdk import DarwinSdk\n",
    "from time import sleep\n",
    "import pandas as pd\n",
    "import numpy as np\n",
    "import sklearn.model_selection as ms\n",
    "from sklearn.metrics import classification_report\n",
    "import datetime\n",
    "\n",
    "ds = DarwinSdk()\n",
    "ds.set_url('https://amb-demo-api.sparkcognition.com/v1/')\n",
    "ts = '{:%Y%m%d%H%M%S}'.format(datetime.datetime.now())\n"
   ]
  },
  {
   "cell_type": "code",
   "execution_count": 2,
   "metadata": {},
   "outputs": [
    {
     "name": "stdout",
     "output_type": "stream",
     "text": [
      "True\n"
     ]
    }
   ],
   "source": [
    "\n",
    "#Create a new user\n",
    "status, msg = ds.auth_login_user('AVNERKHAN@UTEXAS.edu', 'xcGPvw7VMm')\n",
    "if not status:\n",
    "    print(msg)\n",
    "print(status)"
   ]
  },
  {
   "cell_type": "code",
   "execution_count": 7,
   "metadata": {},
   "outputs": [
    {
     "name": "stdout",
     "output_type": "stream",
     "text": [
      "1516122\n",
      "   Highest Offense Code Family Violence                 Location Type  \\\n",
      "0                  2716               N        GAS / SERVICE STATIONS   \n",
      "1                   600               N              RESIDENCE / HOME   \n",
      "2                   300               N  STREETS / HWY / ROAD / ALLEY   \n",
      "4                  1803               N  STREETS / HWY / ROAD / ALLEY   \n",
      "6                   601               N         PARKING LOTS / GARAGE   \n",
      "\n",
      "   Census Tract Clearance Status  Elapsed Time  \n",
      "0         11.00                C      0.250000  \n",
      "1         21.07                N    213.783333  \n",
      "2         18.04                O      0.000000  \n",
      "4          7.00                C     11.216667  \n",
      "6         11.00                N     75.283333  \n"
     ]
    }
   ],
   "source": [
    "def elapsed_time(oc_date, oc_time, rep_date, rep_time):\n",
    "    oc_date_split_arr = oc_date.split(\"/\")\n",
    "    oc_date_month = oc_date_split_arr[0]\n",
    "    oc_date_day = oc_date_split_arr[1]\n",
    "    oc_date_year = oc_date_split_arr[2]\n",
    "    oc_hr = int(oc_time // 100)\n",
    "    if (oc_hr > 23):\n",
    "        oc_hr = 23\n",
    "    elif (oc_hr < 0):\n",
    "        oc_hr = 0\n",
    "    oc_min = int(oc_time % 100)\n",
    "    if (oc_min > 59):\n",
    "        oc_min = 59\n",
    "    elif (oc_min < 0):\n",
    "        oc_min = 0\n",
    "    oc_datetime = datetime.datetime(int(oc_date_year), int(oc_date_month), int(oc_date_day), oc_hr, oc_min)\n",
    "    rep_date_split_arr = rep_date.split(\"/\")\n",
    "    rep_date_month = rep_date_split_arr[0]\n",
    "    rep_date_day = rep_date_split_arr[1]\n",
    "    rep_date_year = rep_date_split_arr[2]\n",
    "    rep_hr = int(rep_time // 100)\n",
    "    if (rep_hr > 23):\n",
    "        rep_hr = 23\n",
    "    elif (rep_hr < 0):\n",
    "        rep_hr = 0\n",
    "    rep_min = int(rep_time % 100)\n",
    "    if (rep_min > 59):\n",
    "        rep_min = 59\n",
    "    elif (rep_min < 0):\n",
    "        rep_min = 0\n",
    "    rep_datetime = datetime.datetime(int(rep_date_year), int(rep_date_month), int(rep_date_day), rep_hr, rep_min)\n",
    "    elapsed = rep_datetime - oc_datetime\n",
    "    return elapsed.total_seconds() / 3600\n",
    "\n",
    "dataset = pd.read_csv(\"Crime_Reports.csv\")\n",
    "# print(len(dataset))\n",
    "dataset = dataset.drop(columns=['Location', 'Category Description', 'UCR Category', 'PRA', 'APD Sector', 'APD District', 'Council District', 'Zip Code', 'Address', 'Incident Number', 'Highest Offense Description', 'Occurred Date Time', 'Report Date Time', 'Clearance Date', 'X-coordinate', 'Y-coordinate', 'Latitude', 'Longitude'])\n",
    "# print(dataset.head())\n",
    "dataset = dataset.dropna()\n",
    "elapsed = []\n",
    "for index, row in dataset.iterrows():\n",
    "    elapsed.append(elapsed_time(row['Occurred Date'], row['Occurred Time'], row['Report Date'], row['Report Time']))\n",
    "elapsed_df = pd.DataFrame(data=elapsed)\n",
    "dataset['Elapsed Time'] = elapsed_df\n",
    "dataset = dataset.drop(columns=['Occurred Date', 'Occurred Time', 'Report Date', 'Report Time'])\n",
    "print(len(dataset))\n",
    "print(dataset.head())\n",
    "dataset.to_csv('Cleaned_Crime_Reports_Full.csv')"
   ]
  },
  {
   "cell_type": "code",
   "execution_count": 19,
   "metadata": {},
   "outputs": [],
   "source": [
    "# gb = dataset.groupby(['Clearance Status'])\n",
    "# print(gb.groups)\n",
    "# dataset = dataset.drop(111791)\n",
    "# gb = dataset.groupby(['Clearance Status'])\n",
    "# print(gb.groups)\n",
    "# dataset.to_csv('Cleaned_Crime_Reports_Full.csv')"
   ]
  },
  {
   "cell_type": "code",
   "execution_count": 27,
   "metadata": {},
   "outputs": [
    {
     "name": "stdout",
     "output_type": "stream",
     "text": [
      "True None\n"
     ]
    }
   ],
   "source": [
    "status, message = ds.delete_dataset(\"Cleaned_Crime_Reports_Full.csv\")\n",
    "print(status, message)"
   ]
  },
  {
   "cell_type": "code",
   "execution_count": 28,
   "metadata": {},
   "outputs": [
    {
     "name": "stdout",
     "output_type": "stream",
     "text": [
      "{'status': 'Requested', 'starttime': '2019-04-17T20:41:03.166879', 'endtime': None, 'percent_complete': 0, 'job_type': 'CleanDataTiny', 'loss': None, 'generations': None, 'dataset_names': ['Cleaned_Crime_Reports_Full.csv'], 'artifact_names': ['690e081386ca4ed5bdcc78bce2cba1fe'], 'model_name': None, 'job_error': None}\n",
      "{'status': 'Requested', 'starttime': '2019-04-17T20:41:03.166879', 'endtime': None, 'percent_complete': 0, 'job_type': 'CleanDataTiny', 'loss': None, 'generations': None, 'dataset_names': ['Cleaned_Crime_Reports_Full.csv'], 'artifact_names': ['690e081386ca4ed5bdcc78bce2cba1fe'], 'model_name': None, 'job_error': None}\n",
      "{'status': 'Requested', 'starttime': '2019-04-17T20:41:03.166879', 'endtime': None, 'percent_complete': 0, 'job_type': 'CleanDataTiny', 'loss': None, 'generations': None, 'dataset_names': ['Cleaned_Crime_Reports_Full.csv'], 'artifact_names': ['690e081386ca4ed5bdcc78bce2cba1fe'], 'model_name': None, 'job_error': None}\n",
      "{'status': 'Requested', 'starttime': '2019-04-17T20:41:03.166879', 'endtime': None, 'percent_complete': 0, 'job_type': 'CleanDataTiny', 'loss': None, 'generations': None, 'dataset_names': ['Cleaned_Crime_Reports_Full.csv'], 'artifact_names': ['690e081386ca4ed5bdcc78bce2cba1fe'], 'model_name': None, 'job_error': None}\n",
      "{'status': 'Requested', 'starttime': '2019-04-17T20:41:03.166879', 'endtime': None, 'percent_complete': 0, 'job_type': 'CleanDataTiny', 'loss': None, 'generations': None, 'dataset_names': ['Cleaned_Crime_Reports_Full.csv'], 'artifact_names': ['690e081386ca4ed5bdcc78bce2cba1fe'], 'model_name': None, 'job_error': None}\n",
      "{'status': 'Requested', 'starttime': '2019-04-17T20:41:03.166879', 'endtime': None, 'percent_complete': 0, 'job_type': 'CleanDataTiny', 'loss': None, 'generations': None, 'dataset_names': ['Cleaned_Crime_Reports_Full.csv'], 'artifact_names': ['690e081386ca4ed5bdcc78bce2cba1fe'], 'model_name': None, 'job_error': None}\n",
      "{'status': 'Running', 'starttime': '2019-04-17T20:41:03.166879', 'endtime': None, 'percent_complete': 0, 'job_type': 'CleanDataTiny', 'loss': None, 'generations': None, 'dataset_names': ['Cleaned_Crime_Reports_Full.csv'], 'artifact_names': ['690e081386ca4ed5bdcc78bce2cba1fe'], 'model_name': None, 'job_error': ''}\n",
      "{'status': 'Running', 'starttime': '2019-04-17T20:41:03.166879', 'endtime': None, 'percent_complete': 0, 'job_type': 'CleanDataTiny', 'loss': None, 'generations': None, 'dataset_names': ['Cleaned_Crime_Reports_Full.csv'], 'artifact_names': ['690e081386ca4ed5bdcc78bce2cba1fe'], 'model_name': None, 'job_error': ''}\n",
      "{'status': 'Running', 'starttime': '2019-04-17T20:41:03.166879', 'endtime': None, 'percent_complete': 0, 'job_type': 'CleanDataTiny', 'loss': None, 'generations': None, 'dataset_names': ['Cleaned_Crime_Reports_Full.csv'], 'artifact_names': ['690e081386ca4ed5bdcc78bce2cba1fe'], 'model_name': None, 'job_error': ''}\n",
      "{'status': 'Running', 'starttime': '2019-04-17T20:41:03.166879', 'endtime': None, 'percent_complete': 0, 'job_type': 'CleanDataTiny', 'loss': None, 'generations': None, 'dataset_names': ['Cleaned_Crime_Reports_Full.csv'], 'artifact_names': ['690e081386ca4ed5bdcc78bce2cba1fe'], 'model_name': None, 'job_error': ''}\n",
      "{'status': 'Running', 'starttime': '2019-04-17T20:41:03.166879', 'endtime': None, 'percent_complete': 0, 'job_type': 'CleanDataTiny', 'loss': None, 'generations': None, 'dataset_names': ['Cleaned_Crime_Reports_Full.csv'], 'artifact_names': ['690e081386ca4ed5bdcc78bce2cba1fe'], 'model_name': None, 'job_error': ''}\n",
      "{'status': 'Running', 'starttime': '2019-04-17T20:41:03.166879', 'endtime': None, 'percent_complete': 0, 'job_type': 'CleanDataTiny', 'loss': None, 'generations': None, 'dataset_names': ['Cleaned_Crime_Reports_Full.csv'], 'artifact_names': ['690e081386ca4ed5bdcc78bce2cba1fe'], 'model_name': None, 'job_error': ''}\n",
      "{'status': 'Running', 'starttime': '2019-04-17T20:41:03.166879', 'endtime': None, 'percent_complete': 0, 'job_type': 'CleanDataTiny', 'loss': None, 'generations': None, 'dataset_names': ['Cleaned_Crime_Reports_Full.csv'], 'artifact_names': ['690e081386ca4ed5bdcc78bce2cba1fe'], 'model_name': None, 'job_error': ''}\n",
      "{'status': 'Running', 'starttime': '2019-04-17T20:41:03.166879', 'endtime': None, 'percent_complete': 0, 'job_type': 'CleanDataTiny', 'loss': None, 'generations': None, 'dataset_names': ['Cleaned_Crime_Reports_Full.csv'], 'artifact_names': ['690e081386ca4ed5bdcc78bce2cba1fe'], 'model_name': None, 'job_error': ''}\n",
      "{'status': 'Running', 'starttime': '2019-04-17T20:41:03.166879', 'endtime': None, 'percent_complete': 0, 'job_type': 'CleanDataTiny', 'loss': None, 'generations': None, 'dataset_names': ['Cleaned_Crime_Reports_Full.csv'], 'artifact_names': ['690e081386ca4ed5bdcc78bce2cba1fe'], 'model_name': None, 'job_error': ''}\n",
      "{'status': 'Running', 'starttime': '2019-04-17T20:41:03.166879', 'endtime': None, 'percent_complete': 0, 'job_type': 'CleanDataTiny', 'loss': None, 'generations': None, 'dataset_names': ['Cleaned_Crime_Reports_Full.csv'], 'artifact_names': ['690e081386ca4ed5bdcc78bce2cba1fe'], 'model_name': None, 'job_error': ''}\n",
      "{'status': 'Running', 'starttime': '2019-04-17T20:41:03.166879', 'endtime': None, 'percent_complete': 0, 'job_type': 'CleanDataTiny', 'loss': None, 'generations': None, 'dataset_names': ['Cleaned_Crime_Reports_Full.csv'], 'artifact_names': ['690e081386ca4ed5bdcc78bce2cba1fe'], 'model_name': None, 'job_error': ''}\n",
      "{'status': 'Complete', 'starttime': '2019-04-17T20:41:03.166879', 'endtime': '2019-04-17T20:45:09.228835', 'percent_complete': 100, 'job_type': 'CleanDataTiny', 'loss': None, 'generations': None, 'dataset_names': ['Cleaned_Crime_Reports_Full.csv'], 'artifact_names': ['690e081386ca4ed5bdcc78bce2cba1fe'], 'model_name': None, 'job_error': ''}\n",
      "{'status': 'Requested', 'starttime': '2019-04-17T20:45:20.458146', 'endtime': None, 'percent_complete': 0, 'job_type': 'TrainModel', 'loss': None, 'generations': 0, 'dataset_names': ['Cleaned_Crime_Reports_Full.csv'], 'artifact_names': None, 'model_name': 'Clearance Status_model120190417200339', 'job_error': None}\n",
      "{'status': 'Running', 'starttime': '2019-04-17T20:45:20.458146', 'endtime': None, 'percent_complete': 0, 'job_type': 'TrainModel', 'loss': None, 'generations': 0, 'dataset_names': ['Cleaned_Crime_Reports_Full.csv'], 'artifact_names': None, 'model_name': 'Clearance Status_model120190417200339', 'job_error': ''}\n",
      "{'status': 'Running', 'starttime': '2019-04-17T20:45:20.458146', 'endtime': None, 'percent_complete': 0, 'job_type': 'TrainModel', 'loss': None, 'generations': 0, 'dataset_names': ['Cleaned_Crime_Reports_Full.csv'], 'artifact_names': None, 'model_name': 'Clearance Status_model120190417200339', 'job_error': ''}\n",
      "{'status': 'Running', 'starttime': '2019-04-17T20:45:20.458146', 'endtime': None, 'percent_complete': 0, 'job_type': 'TrainModel', 'loss': None, 'generations': 0, 'dataset_names': ['Cleaned_Crime_Reports_Full.csv'], 'artifact_names': None, 'model_name': 'Clearance Status_model120190417200339', 'job_error': ''}\n",
      "{'status': 'Running', 'starttime': '2019-04-17T20:45:20.458146', 'endtime': None, 'percent_complete': 0, 'job_type': 'TrainModel', 'loss': None, 'generations': 0, 'dataset_names': ['Cleaned_Crime_Reports_Full.csv'], 'artifact_names': None, 'model_name': 'Clearance Status_model120190417200339', 'job_error': ''}\n",
      "{'status': 'Running', 'starttime': '2019-04-17T20:45:20.458146', 'endtime': None, 'percent_complete': 0, 'job_type': 'TrainModel', 'loss': None, 'generations': 0, 'dataset_names': ['Cleaned_Crime_Reports_Full.csv'], 'artifact_names': None, 'model_name': 'Clearance Status_model120190417200339', 'job_error': ''}\n",
      "{'status': 'Running', 'starttime': '2019-04-17T20:45:20.458146', 'endtime': None, 'percent_complete': 0, 'job_type': 'TrainModel', 'loss': None, 'generations': 0, 'dataset_names': ['Cleaned_Crime_Reports_Full.csv'], 'artifact_names': None, 'model_name': 'Clearance Status_model120190417200339', 'job_error': ''}\n",
      "{'status': 'Running', 'starttime': '2019-04-17T20:45:20.458146', 'endtime': None, 'percent_complete': 0, 'job_type': 'TrainModel', 'loss': None, 'generations': 0, 'dataset_names': ['Cleaned_Crime_Reports_Full.csv'], 'artifact_names': None, 'model_name': 'Clearance Status_model120190417200339', 'job_error': ''}\n"
     ]
    },
    {
     "name": "stdout",
     "output_type": "stream",
     "text": [
      "{'status': 'Running', 'starttime': '2019-04-17T20:45:20.458146', 'endtime': None, 'percent_complete': 0, 'job_type': 'TrainModel', 'loss': None, 'generations': 0, 'dataset_names': ['Cleaned_Crime_Reports_Full.csv'], 'artifact_names': None, 'model_name': 'Clearance Status_model120190417200339', 'job_error': ''}\n",
      "{'status': 'Running', 'starttime': '2019-04-17T20:45:20.458146', 'endtime': None, 'percent_complete': 0, 'job_type': 'TrainModel', 'loss': None, 'generations': 0, 'dataset_names': ['Cleaned_Crime_Reports_Full.csv'], 'artifact_names': None, 'model_name': 'Clearance Status_model120190417200339', 'job_error': ''}\n",
      "{'status': 'Running', 'starttime': '2019-04-17T20:45:20.458146', 'endtime': None, 'percent_complete': 0, 'job_type': 'TrainModel', 'loss': None, 'generations': 0, 'dataset_names': ['Cleaned_Crime_Reports_Full.csv'], 'artifact_names': None, 'model_name': 'Clearance Status_model120190417200339', 'job_error': ''}\n",
      "{'status': 'Running', 'starttime': '2019-04-17T20:45:20.458146', 'endtime': None, 'percent_complete': 0, 'job_type': 'TrainModel', 'loss': None, 'generations': 0, 'dataset_names': ['Cleaned_Crime_Reports_Full.csv'], 'artifact_names': None, 'model_name': 'Clearance Status_model120190417200339', 'job_error': ''}\n",
      "{'status': 'Running', 'starttime': '2019-04-17T20:45:20.458146', 'endtime': None, 'percent_complete': 0, 'job_type': 'TrainModel', 'loss': None, 'generations': 0, 'dataset_names': ['Cleaned_Crime_Reports_Full.csv'], 'artifact_names': None, 'model_name': 'Clearance Status_model120190417200339', 'job_error': ''}\n",
      "{'status': 'Running', 'starttime': '2019-04-17T20:45:20.458146', 'endtime': None, 'percent_complete': 0, 'job_type': 'TrainModel', 'loss': None, 'generations': 0, 'dataset_names': ['Cleaned_Crime_Reports_Full.csv'], 'artifact_names': None, 'model_name': 'Clearance Status_model120190417200339', 'job_error': ''}\n",
      "{'status': 'Running', 'starttime': '2019-04-17T20:45:20.458146', 'endtime': None, 'percent_complete': 0, 'job_type': 'TrainModel', 'loss': None, 'generations': 0, 'dataset_names': ['Cleaned_Crime_Reports_Full.csv'], 'artifact_names': None, 'model_name': 'Clearance Status_model120190417200339', 'job_error': ''}\n",
      "{'status': 'Running', 'starttime': '2019-04-17T20:45:20.458146', 'endtime': None, 'percent_complete': 20, 'job_type': 'TrainModel', 'loss': 0.8249086141586304, 'generations': 0, 'dataset_names': ['Cleaned_Crime_Reports_Full.csv'], 'artifact_names': None, 'model_name': 'Clearance Status_model120190417200339', 'job_error': ''}\n",
      "{'status': 'Running', 'starttime': '2019-04-17T20:45:20.458146', 'endtime': None, 'percent_complete': 20, 'job_type': 'TrainModel', 'loss': 0.8249086141586304, 'generations': 0, 'dataset_names': ['Cleaned_Crime_Reports_Full.csv'], 'artifact_names': None, 'model_name': 'Clearance Status_model120190417200339', 'job_error': ''}\n",
      "{'status': 'Running', 'starttime': '2019-04-17T20:45:20.458146', 'endtime': None, 'percent_complete': 20, 'job_type': 'TrainModel', 'loss': 0.8249086141586304, 'generations': 0, 'dataset_names': ['Cleaned_Crime_Reports_Full.csv'], 'artifact_names': None, 'model_name': 'Clearance Status_model120190417200339', 'job_error': ''}\n",
      "{'status': 'Running', 'starttime': '2019-04-17T20:45:20.458146', 'endtime': None, 'percent_complete': 20, 'job_type': 'TrainModel', 'loss': 0.8249086141586304, 'generations': 0, 'dataset_names': ['Cleaned_Crime_Reports_Full.csv'], 'artifact_names': None, 'model_name': 'Clearance Status_model120190417200339', 'job_error': ''}\n",
      "{'status': 'Running', 'starttime': '2019-04-17T20:45:20.458146', 'endtime': None, 'percent_complete': 20, 'job_type': 'TrainModel', 'loss': 0.8249086141586304, 'generations': 0, 'dataset_names': ['Cleaned_Crime_Reports_Full.csv'], 'artifact_names': None, 'model_name': 'Clearance Status_model120190417200339', 'job_error': ''}\n",
      "{'status': 'Running', 'starttime': '2019-04-17T20:45:20.458146', 'endtime': None, 'percent_complete': 20, 'job_type': 'TrainModel', 'loss': 0.8249086141586304, 'generations': 0, 'dataset_names': ['Cleaned_Crime_Reports_Full.csv'], 'artifact_names': None, 'model_name': 'Clearance Status_model120190417200339', 'job_error': ''}\n",
      "{'status': 'Running', 'starttime': '2019-04-17T20:45:20.458146', 'endtime': None, 'percent_complete': 20, 'job_type': 'TrainModel', 'loss': 0.8249086141586304, 'generations': 0, 'dataset_names': ['Cleaned_Crime_Reports_Full.csv'], 'artifact_names': None, 'model_name': 'Clearance Status_model120190417200339', 'job_error': ''}\n",
      "{'status': 'Running', 'starttime': '2019-04-17T20:45:20.458146', 'endtime': None, 'percent_complete': 20, 'job_type': 'TrainModel', 'loss': 0.8249086141586304, 'generations': 0, 'dataset_names': ['Cleaned_Crime_Reports_Full.csv'], 'artifact_names': None, 'model_name': 'Clearance Status_model120190417200339', 'job_error': ''}\n",
      "{'status': 'Running', 'starttime': '2019-04-17T20:45:20.458146', 'endtime': None, 'percent_complete': 20, 'job_type': 'TrainModel', 'loss': 0.8249086141586304, 'generations': 0, 'dataset_names': ['Cleaned_Crime_Reports_Full.csv'], 'artifact_names': None, 'model_name': 'Clearance Status_model120190417200339', 'job_error': ''}\n",
      "{'status': 'Running', 'starttime': '2019-04-17T20:45:20.458146', 'endtime': None, 'percent_complete': 20, 'job_type': 'TrainModel', 'loss': 0.8249086141586304, 'generations': 0, 'dataset_names': ['Cleaned_Crime_Reports_Full.csv'], 'artifact_names': None, 'model_name': 'Clearance Status_model120190417200339', 'job_error': ''}\n",
      "{'status': 'Running', 'starttime': '2019-04-17T20:45:20.458146', 'endtime': None, 'percent_complete': 20, 'job_type': 'TrainModel', 'loss': 0.8249086141586304, 'generations': 0, 'dataset_names': ['Cleaned_Crime_Reports_Full.csv'], 'artifact_names': None, 'model_name': 'Clearance Status_model120190417200339', 'job_error': ''}\n",
      "{'status': 'Running', 'starttime': '2019-04-17T20:45:20.458146', 'endtime': None, 'percent_complete': 20, 'job_type': 'TrainModel', 'loss': 0.8249086141586304, 'generations': 0, 'dataset_names': ['Cleaned_Crime_Reports_Full.csv'], 'artifact_names': None, 'model_name': 'Clearance Status_model120190417200339', 'job_error': ''}\n",
      "{'status': 'Running', 'starttime': '2019-04-17T20:45:20.458146', 'endtime': None, 'percent_complete': 20, 'job_type': 'TrainModel', 'loss': 0.8249086141586304, 'generations': 0, 'dataset_names': ['Cleaned_Crime_Reports_Full.csv'], 'artifact_names': None, 'model_name': 'Clearance Status_model120190417200339', 'job_error': ''}\n",
      "{'status': 'Running', 'starttime': '2019-04-17T20:45:20.458146', 'endtime': None, 'percent_complete': 20, 'job_type': 'TrainModel', 'loss': 0.8249086141586304, 'generations': 0, 'dataset_names': ['Cleaned_Crime_Reports_Full.csv'], 'artifact_names': None, 'model_name': 'Clearance Status_model120190417200339', 'job_error': ''}\n",
      "{'status': 'Running', 'starttime': '2019-04-17T20:45:20.458146', 'endtime': None, 'percent_complete': 20, 'job_type': 'TrainModel', 'loss': 0.8249086141586304, 'generations': 0, 'dataset_names': ['Cleaned_Crime_Reports_Full.csv'], 'artifact_names': None, 'model_name': 'Clearance Status_model120190417200339', 'job_error': ''}\n",
      "{'status': 'Running', 'starttime': '2019-04-17T20:45:20.458146', 'endtime': None, 'percent_complete': 20, 'job_type': 'TrainModel', 'loss': 0.8249086141586304, 'generations': 0, 'dataset_names': ['Cleaned_Crime_Reports_Full.csv'], 'artifact_names': None, 'model_name': 'Clearance Status_model120190417200339', 'job_error': ''}\n",
      "{'status': 'Running', 'starttime': '2019-04-17T20:45:20.458146', 'endtime': None, 'percent_complete': 20, 'job_type': 'TrainModel', 'loss': 0.8249086141586304, 'generations': 0, 'dataset_names': ['Cleaned_Crime_Reports_Full.csv'], 'artifact_names': None, 'model_name': 'Clearance Status_model120190417200339', 'job_error': ''}\n",
      "{'status': 'Running', 'starttime': '2019-04-17T20:45:20.458146', 'endtime': None, 'percent_complete': 20, 'job_type': 'TrainModel', 'loss': 0.8249086141586304, 'generations': 0, 'dataset_names': ['Cleaned_Crime_Reports_Full.csv'], 'artifact_names': None, 'model_name': 'Clearance Status_model120190417200339', 'job_error': ''}\n",
      "{'status': 'Running', 'starttime': '2019-04-17T20:45:20.458146', 'endtime': None, 'percent_complete': 20, 'job_type': 'TrainModel', 'loss': 0.8249086141586304, 'generations': 0, 'dataset_names': ['Cleaned_Crime_Reports_Full.csv'], 'artifact_names': None, 'model_name': 'Clearance Status_model120190417200339', 'job_error': ''}\n"
     ]
    },
    {
     "name": "stdout",
     "output_type": "stream",
     "text": [
      "{'status': 'Running', 'starttime': '2019-04-17T20:45:20.458146', 'endtime': None, 'percent_complete': 20, 'job_type': 'TrainModel', 'loss': 0.8249086141586304, 'generations': 0, 'dataset_names': ['Cleaned_Crime_Reports_Full.csv'], 'artifact_names': None, 'model_name': 'Clearance Status_model120190417200339', 'job_error': ''}\n",
      "{'status': 'Running', 'starttime': '2019-04-17T20:45:20.458146', 'endtime': None, 'percent_complete': 20, 'job_type': 'TrainModel', 'loss': 0.8249086141586304, 'generations': 0, 'dataset_names': ['Cleaned_Crime_Reports_Full.csv'], 'artifact_names': None, 'model_name': 'Clearance Status_model120190417200339', 'job_error': ''}\n",
      "{'status': 'Running', 'starttime': '2019-04-17T20:45:20.458146', 'endtime': None, 'percent_complete': 20, 'job_type': 'TrainModel', 'loss': 0.8249086141586304, 'generations': 0, 'dataset_names': ['Cleaned_Crime_Reports_Full.csv'], 'artifact_names': None, 'model_name': 'Clearance Status_model120190417200339', 'job_error': ''}\n",
      "{'status': 'Running', 'starttime': '2019-04-17T20:45:20.458146', 'endtime': None, 'percent_complete': 20, 'job_type': 'TrainModel', 'loss': 0.8249086141586304, 'generations': 0, 'dataset_names': ['Cleaned_Crime_Reports_Full.csv'], 'artifact_names': None, 'model_name': 'Clearance Status_model120190417200339', 'job_error': ''}\n",
      "{'status': 'Running', 'starttime': '2019-04-17T20:45:20.458146', 'endtime': None, 'percent_complete': 20, 'job_type': 'TrainModel', 'loss': 0.8249086141586304, 'generations': 0, 'dataset_names': ['Cleaned_Crime_Reports_Full.csv'], 'artifact_names': None, 'model_name': 'Clearance Status_model120190417200339', 'job_error': ''}\n",
      "{'status': 'Running', 'starttime': '2019-04-17T20:45:20.458146', 'endtime': None, 'percent_complete': 20, 'job_type': 'TrainModel', 'loss': 0.8249086141586304, 'generations': 0, 'dataset_names': ['Cleaned_Crime_Reports_Full.csv'], 'artifact_names': None, 'model_name': 'Clearance Status_model120190417200339', 'job_error': ''}\n",
      "{'status': 'Running', 'starttime': '2019-04-17T20:45:20.458146', 'endtime': None, 'percent_complete': 20, 'job_type': 'TrainModel', 'loss': 0.8249086141586304, 'generations': 0, 'dataset_names': ['Cleaned_Crime_Reports_Full.csv'], 'artifact_names': None, 'model_name': 'Clearance Status_model120190417200339', 'job_error': ''}\n"
     ]
    }
   ],
   "source": [
    "#Upload Dataset\n",
    "status, uploaded_dataset = ds.upload_dataset(\"Cleaned_Crime_Reports_Full.csv\")\n",
    "if not status:\n",
    "    print(uploaded_dataset)\n",
    "\n",
    "target = \"Clearance Status\"\n",
    "status, job_id = ds.clean_data(\"Cleaned_Crime_Reports_Full.csv\", target = target)\n",
    "if status:\n",
    "    ds.wait_for_job(job_id['job_name'])\n",
    "else:\n",
    "    print(job_id)\n",
    "    \n",
    "#Creating Model\n",
    "model = target + \"_model1\" + ts\n",
    "status, message = ds.delete_model(model)\n",
    "status, job_id = ds.create_model(dataset_names = \"Cleaned_Crime_Reports_Full.csv\", \\\n",
    "                                 model_name =  model, \\\n",
    "                                 max_train_time = '00:10')\n",
    "if status:\n",
    "    ds.wait_for_job(job_id['job_name'])\n",
    "else:\n",
    "    print(job_id)\n",
    "    "
   ]
  },
  {
   "cell_type": "code",
   "execution_count": 31,
   "metadata": {},
   "outputs": [
    {
     "name": "stdout",
     "output_type": "stream",
     "text": [
      "{'status': 'Running', 'starttime': '2019-04-17T21:01:40.948478', 'endtime': None, 'percent_complete': 0, 'job_type': 'AnalyzeModel', 'loss': 0.8249086141586304, 'generations': 0, 'dataset_names': None, 'artifact_names': ['e4764ed2b3a34399b1af2bb2a7a9ec87'], 'model_name': 'Clearance Status_model120190417200339', 'job_error': ''}\n",
      "{'status': 'Failed', 'starttime': '2019-04-17T21:01:40.948478', 'endtime': '2019-04-17T21:01:56.58548', 'percent_complete': 100, 'job_type': 'AnalyzeModel', 'loss': 0.8249086141586304, 'generations': 0, 'dataset_names': None, 'artifact_names': ['e4764ed2b3a34399b1af2bb2a7a9ec87'], 'model_name': 'Clearance Status_model120190417200339', 'job_error': 'FailedDownload: Failed to download entity of type Object from location models/d75c7a7c-4f31-11e9-a91d-5383db4f861f_Clearance Status_model120190417200339/skl_model/data_profiler_main_minified'}\n"
     ]
    }
   ],
   "source": [
    "#Analyzing Models\n",
    "status, artifact = ds.analyze_model(model)\n",
    "sleep(1)\n",
    "if status:\n",
    "    ds.wait_for_job(artifact['job_name'])\n",
    "else:\n",
    "    print(artifact)\n",
    "status, feature_importance = ds.download_artifact(artifact['artifact_name'])"
   ]
  },
  {
   "cell_type": "code",
   "execution_count": 32,
   "metadata": {},
   "outputs": [
    {
     "name": "stdout",
     "output_type": "stream",
     "text": [
      "404: NOT FOUND - {\"message\": \"Failed to find artifact e4764ed2b3a34399b1af2bb2a7a9ec87\"}\n",
      "\n"
     ]
    }
   ],
   "source": [
    "print(feature_importance)"
   ]
  },
  {
   "cell_type": "code",
   "execution_count": 27,
   "metadata": {},
   "outputs": [
    {
     "name": "stdout",
     "output_type": "stream",
     "text": [
      "{'status': 'Running', 'starttime': '2019-04-17T19:32:43.785781', 'endtime': None, 'percent_complete': 0, 'job_type': 'RunModel', 'loss': 0.45539912581443787, 'generations': 4, 'dataset_names': ['Cleaned_Crime_Reports.csv'], 'artifact_names': ['8022646e2c364bb189a3600e0d904606'], 'model_name': 'Clearance Status_model020190417192044', 'job_error': ''}\n",
      "{'status': 'Complete', 'starttime': '2019-04-17T19:32:43.785781', 'endtime': '2019-04-17T19:32:45.148437', 'percent_complete': 100, 'job_type': 'RunModel', 'loss': 0.45539912581443787, 'generations': 4, 'dataset_names': ['Cleaned_Crime_Reports.csv'], 'artifact_names': ['8022646e2c364bb189a3600e0d904606'], 'model_name': 'Clearance Status_model020190417192044', 'job_error': ''}\n",
      "  Clearance Status    prob_C    prob_N    prob_O\n",
      "0                C  0.886038  0.100522  0.013439\n",
      "1                N  0.097599  0.869356  0.033046\n",
      "2                N  0.043262  0.945537  0.011201\n",
      "3                C  0.767995  0.192197  0.039808\n",
      "4                N  0.062451  0.923492  0.014056\n",
      "              precision    recall  f1-score   support\n",
      "\n",
      "           C       0.76      0.78      0.77       220\n",
      "           N       0.88      0.90      0.89       509\n",
      "           O       1.00      0.09      0.17        22\n",
      "\n",
      "   micro avg       0.84      0.84      0.84       751\n",
      "   macro avg       0.88      0.59      0.61       751\n",
      "weighted avg       0.85      0.84      0.84       751\n",
      "\n"
     ]
    },
    {
     "data": {
      "image/png": "[encoded data removed]",
      "text/plain": [
       "<Figure size 432x288 with 1 Axes>"
      ]
     },
     "metadata": {
      "needs_background": "light"
     },
     "output_type": "display_data"
    }
   ],
   "source": [
    "status, artifact = ds.run_model(\"Cleaned_Crime_Reports_Full.csv\", model)\n",
    "sleep(1)\n",
    "ds.wait_for_job(artifact['job_name'])\n",
    "\n",
    "status, prediction = ds.download_artifact(artifact['artifact_name'])\n",
    "print(prediction.head())\n",
    "\n",
    "unq = prediction[target].unique()[::-1]\n",
    "p = np.zeros((len(prediction),))\n",
    "a = np.zeros((len(prediction),))\n",
    "for i,q in enumerate(unq):\n",
    "    p += i*(prediction[target] == q).values\n",
    "    a += i*(dataset[target] == q).values\n",
    "#Plot predictions vs actual\n",
    "plt.plot(a)\n",
    "plt.plot(p)\n",
    "plt.legend(['Actual','Predicted'])\n",
    "plt.yticks([i for i in range(len(unq))],[q for q in unq]);\n",
    "print(classification_report(dataset[target], prediction[target]))"
   ]
  },
  {
   "cell_type": "code",
   "execution_count": 28,
   "metadata": {},
   "outputs": [
    {
     "name": "stdout",
     "output_type": "stream",
     "text": [
      "[{'layer 1': {'type': 'LinearGene', 'parameters': {'activation': 'identity', 'numunits': 59}}}, {'layer 2': {'type': 'LinearGene', 'parameters': {'activation': 'relu', 'numunits': 32}}}, {'layer 3': {'type': 'LinearGene', 'parameters': {'activation': 'relu', 'numunits': 52}}}, {'layer 4': {'type': 'LinearGene', 'parameters': {'activation': 'relu', 'numunits': 3}}}]\n"
     ]
    }
   ],
   "source": [
    "status, model_type = ds.lookup_model_name(model)\n",
    "print(model_type['description']['best_genome'])"
   ]
  },
  {
   "cell_type": "code",
   "execution_count": null,
   "metadata": {},
   "outputs": [],
   "source": []
  }
 ],
 "metadata": {
  "kernelspec": {
   "display_name": "Python 3",
   "language": "python",
   "name": "python3"
  },
  "language_info": {
   "codemirror_mode": {
    "name": "ipython",
    "version": 3
   },
   "file_extension": ".py",
   "mimetype": "text/x-python",
   "name": "python",
   "nbconvert_exporter": "python",
   "pygments_lexer": "ipython3",
   "version": "3.7.1"
  }
 },
 "nbformat": 4,
 "nbformat_minor": 2
}
