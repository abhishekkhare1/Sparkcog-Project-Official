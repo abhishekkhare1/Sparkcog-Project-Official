{
 "cells": [
  {
   "cell_type": "code",
   "execution_count": 1,
   "metadata": {},
   "outputs": [
    {
     "data": {
      "text/plain": [
       "(True, 'https://amb-demo-api.sparkcognition.com/v1/')"
      ]
     },
     "execution_count": 1,
     "metadata": {},
     "output_type": "execute_result"
    }
   ],
   "source": [
    "# Avner Khan, Kirana Raja, Abhishek Khare, Joshua Deng\n",
    "\n",
    "from amb_sdk.sdk import DarwinSdk\n",
    "import pandas as pd\n",
    "import sklearn.model_selection as ms\n",
    "import datetime\n",
    "\n",
    "ds = DarwinSdk()\n",
    "ds.set_url('https://amb-demo-api.sparkcognition.com/v1/')\n"
   ]
  },
  {
   "cell_type": "code",
   "execution_count": 2,
   "metadata": {},
   "outputs": [
    {
     "name": "stdout",
     "output_type": "stream",
     "text": [
      "True\n"
     ]
    }
   ],
   "source": [
    "\n",
    "#Create a new user\n",
    "status, msg = ds.auth_login_user('AVNERKHAN@UTEXAS.edu', 'xcGPvw7VMm')\n",
    "if not status:\n",
    "    print(msg)\n",
    "print(status)"
   ]
  },
  {
   "cell_type": "code",
   "execution_count": 3,
   "metadata": {},
   "outputs": [
    {
     "name": "stdout",
     "output_type": "stream",
     "text": [
      "751\n",
      "   Highest Offense Code Family Violence                 Location Type  \\\n",
      "0                  2716               N        GAS / SERVICE STATIONS   \n",
      "1                   600               N              RESIDENCE / HOME   \n",
      "2                   300               N  STREETS / HWY / ROAD / ALLEY   \n",
      "4                  1803               N  STREETS / HWY / ROAD / ALLEY   \n",
      "6                   601               N         PARKING LOTS / GARAGE   \n",
      "\n",
      "   Census Tract Clearance Status  Elapsed Time  \n",
      "0         11.00                C      0.250000  \n",
      "1         21.07                N    213.783333  \n",
      "2         18.04                O      0.000000  \n",
      "4          7.00                C      0.000000  \n",
      "6         11.00                N     11.216667  \n"
     ]
    }
   ],
   "source": [
    "def elapsed_time(oc_date, oc_time, rep_date, rep_time):\n",
    "    oc_date_split_arr = oc_date.split(\"/\")\n",
    "    oc_date_month = oc_date_split_arr[0]\n",
    "    oc_date_day = oc_date_split_arr[1]\n",
    "    oc_date_year = oc_date_split_arr[2]\n",
    "    oc_datetime = datetime.datetime(int(oc_date_year), int(oc_date_month), int(oc_date_day), oc_time // 100, oc_time % 100)\n",
    "    rep_date_split_arr = rep_date.split(\"/\")\n",
    "    rep_date_month = rep_date_split_arr[0]\n",
    "    rep_date_day = rep_date_split_arr[1]\n",
    "    rep_date_year = rep_date_split_arr[2]\n",
    "    rep_datetime = datetime.datetime(int(rep_date_year), int(rep_date_month), int(rep_date_day), rep_time // 100, rep_time % 100)\n",
    "    elapsed = rep_datetime - oc_datetime\n",
    "    return elapsed.total_seconds() / 3600\n",
    "\n",
    "dataset = pd.read_csv(\"Crime_Reports_Shortened.csv\")\n",
    "# print(len(dataset))\n",
    "dataset = dataset.drop(columns=['Location', 'Category Description', 'UCR Category', 'PRA', 'APD Sector', 'APD District', 'Council District', 'Zip Code', 'Address', 'Incident Number', 'Highest Offense Description', 'Occurred Date Time', 'Report Date Time', 'Clearance Date', 'X-coordinate', 'Y-coordinate', 'Latitude', 'Longitude'])\n",
    "# print(dataset.head())\n",
    "elapsed = []\n",
    "for index, row in dataset.iterrows():\n",
    "    elapsed.append(elapsed_time(row['Occurred Date'], row['Occurred Time'], row['Report Date'], row['Report Time']))\n",
    "elapsed_df = pd.DataFrame(data=elapsed)\n",
    "dataset['Elapsed Time'] = elapsed_df\n",
    "dataset = dataset.drop(columns=['Occurred Date', 'Occurred Time', 'Report Date', 'Report Time'])\n",
    "dataset = dataset.dropna()\n",
    "print(len(dataset))\n",
    "print(dataset.head())"
   ]
  },
  {
   "cell_type": "code",
   "execution_count": null,
   "metadata": {},
   "outputs": [],
   "source": []
  }
 ],
 "metadata": {
  "kernelspec": {
   "display_name": "Python 3",
   "language": "python",
   "name": "python3"
  },
  "language_info": {
   "codemirror_mode": {
    "name": "ipython",
    "version": 3
   },
   "file_extension": ".py",
   "mimetype": "text/x-python",
   "name": "python",
   "nbconvert_exporter": "python",
   "pygments_lexer": "ipython3",
   "version": "3.7.1"
  }
 },
 "nbformat": 4,
 "nbformat_minor": 2
}
