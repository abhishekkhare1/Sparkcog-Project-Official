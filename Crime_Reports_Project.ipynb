{
 "cells": [
  {
   "cell_type": "code",
   "execution_count": 1,
   "metadata": {},
   "outputs": [],
   "source": [
    "# Avner Khan, Kiran Raja, Abhishek Khare, Joshua Deng\n",
    "import matplotlib.pyplot as plt\n",
    "from amb_sdk.sdk import DarwinSdk\n",
    "from time import sleep\n",
    "import pandas as pd\n",
    "import numpy as np\n",
    "import sklearn.model_selection as ms\n",
    "from sklearn.metrics import classification_report\n",
    "import datetime\n",
    "\n",
    "ds = DarwinSdk()\n",
    "ds.set_url('https://amb-demo-api.sparkcognition.com/v1/')\n",
    "ts = '{:%Y%m%d%H%M%S}'.format(datetime.datetime.now())\n"
   ]
  },
  {
   "cell_type": "code",
   "execution_count": 2,
   "metadata": {},
   "outputs": [
    {
     "name": "stdout",
     "output_type": "stream",
     "text": [
      "True\n"
     ]
    }
   ],
   "source": [
    "#Create a new user\n",
    "status, msg = ds.auth_login_user('AVNERKHAN@UTEXAS.edu', 'xcGPvw7VMm')\n",
    "if not status:\n",
    "    print(msg)\n",
    "print(status)"
   ]
  },
  {
   "cell_type": "code",
   "execution_count": 4,
   "metadata": {},
   "outputs": [
    {
     "name": "stdout",
     "output_type": "stream",
     "text": [
      "Original Length  2124418\n",
      "Cleaned Length  779225\n",
      "    Highest Offense Code Family Violence                 Location Type  \\\n",
      "3                   2716               N   DEPARTMENT / DISCOUNT STORE   \n",
      "47                  2716               N              RESIDENCE / HOME   \n",
      "65                   402               N               OTHER / UNKNOWN   \n",
      "68                   402               N  STREETS / HWY / ROAD / ALLEY   \n",
      "88                  1800               N  STREETS / HWY / ROAD / ALLEY   \n",
      "\n",
      "    Census Tract Clearance Status  Zip Codes  Single Member Council Districts  \\\n",
      "3          18.13                C     3642.0                              4.0   \n",
      "47         24.09                C     3259.0                              2.0   \n",
      "65         24.09                N     3259.0                              2.0   \n",
      "68         18.12                C     3641.0                              4.0   \n",
      "88          9.02                C     2857.0                              3.0   \n",
      "\n",
      "    BOUNDARIES_single_member_districts  Zoning Review Cases_data  Elapsed Time  \n",
      "3                                  9.0                    2233.0      0.000000  \n",
      "47                                 4.0                    3447.0      0.000000  \n",
      "65                                 4.0                    3447.0      0.966667  \n",
      "68                                 9.0                    3629.0      0.000000  \n",
      "88                                 3.0                    1371.0      0.000000  \n"
     ]
    }
   ],
   "source": [
    "def elapsed_time(oc_date, oc_time, rep_date, rep_time):\n",
    "    oc_date_split_arr = oc_date.split(\"/\")\n",
    "    oc_date_month = oc_date_split_arr[0]\n",
    "    oc_date_day = oc_date_split_arr[1]\n",
    "    oc_date_year = oc_date_split_arr[2]\n",
    "    oc_hr = int(oc_time // 100)\n",
    "    if (oc_hr > 23):\n",
    "        oc_hr = 23\n",
    "    elif (oc_hr < 0):\n",
    "        oc_hr = 0\n",
    "    oc_min = int(oc_time % 100)\n",
    "    if (oc_min > 59):\n",
    "        oc_min = 59\n",
    "    elif (oc_min < 0):\n",
    "        oc_min = 0\n",
    "    oc_datetime = datetime.datetime(int(oc_date_year), int(oc_date_month), int(oc_date_day), oc_hr, oc_min)\n",
    "    rep_date_split_arr = rep_date.split(\"/\")\n",
    "    rep_date_month = rep_date_split_arr[0]\n",
    "    rep_date_day = rep_date_split_arr[1]\n",
    "    rep_date_year = rep_date_split_arr[2]\n",
    "    rep_hr = int(rep_time // 100)\n",
    "    if (rep_hr > 23):\n",
    "        rep_hr = 23\n",
    "    elif (rep_hr < 0):\n",
    "        rep_hr = 0\n",
    "    rep_min = int(rep_time % 100)\n",
    "    if (rep_min > 59):\n",
    "        rep_min = 59\n",
    "    elif (rep_min < 0):\n",
    "        rep_min = 0\n",
    "    rep_datetime = datetime.datetime(int(rep_date_year), int(rep_date_month), int(rep_date_day), rep_hr, rep_min)\n",
    "    elapsed = rep_datetime - oc_datetime\n",
    "    return elapsed.total_seconds() / 3600\n",
    "\n",
    "#Load data\n",
    "dataset = pd.read_csv(\"Crime_Reports_Fixed_Labels.csv\")\n",
    "print('Original Length:', len(dataset))\n",
    "#Drop Unused Columns\n",
    "dataset = dataset.drop(columns=['Location', 'Category Description', 'UCR Category', 'PRA', 'APD Sector', 'APD District', 'Council District', 'Zip Code', 'Address', 'Incident Number', 'Highest Offense Description', 'Occurred Date Time', 'Report Date Time', 'Clearance Date', 'X-coordinate', 'Y-coordinate', 'Latitude', 'Longitude'])\n",
    "#Drop rows with missing data\n",
    "dataset = dataset.dropna()\n",
    "#Create Elapsed Time Field and add it to our data\n",
    "elapsed = []\n",
    "for index, row in dataset.iterrows():\n",
    "    elapsed.append(elapsed_time(row['Occurred Date'], row['Occurred Time'], row['Report Date'], row['Report Time']))\n",
    "elapsed_df = pd.DataFrame(data=elapsed)\n",
    "dataset['Elapsed Time'] = elapsed_df\n",
    "dataset = dataset.drop(columns=['Occurred Date', 'Occurred Time', 'Report Date', 'Report Time'])\n",
    "#Print Cleaned Data and save it as csv\n",
    "print('Cleaned Length:', len(dataset))\n",
    "print(dataset.head())\n",
    "dataset.to_csv(\"Crime_Reports_Clean.csv\")"
   ]
  },
  {
   "cell_type": "code",
   "execution_count": 5,
   "metadata": {},
   "outputs": [
    {
     "name": "stdout",
     "output_type": "stream",
     "text": [
      "Train Data: 623380\n",
      "        Highest Offense Code Family Violence          Location Type  \\\n",
      "707051                  3401               N       RESIDENCE / HOME   \n",
      "113568                  3400               N       RESIDENCE / HOME   \n",
      "716463                   902               Y       RESIDENCE / HOME   \n",
      "464277                   600               N       RESIDENCE / HOME   \n",
      "37516                    600               N  GROCERY / SUPERMARKET   \n",
      "\n",
      "        Census Tract Clearance Status  Zip Codes  \\\n",
      "707051         18.20                N     3646.0   \n",
      "113568         13.08                N     2859.0   \n",
      "716463          3.07                N     2865.0   \n",
      "464277         18.11                N     3641.0   \n",
      "37516          23.04                C     3256.0   \n",
      "\n",
      "        Single Member Council Districts  BOUNDARIES_single_member_districts  \\\n",
      "707051                              4.0                                 9.0   \n",
      "113568                              3.0                                 3.0   \n",
      "716463                              9.0                                10.0   \n",
      "464277                              1.0                                 8.0   \n",
      "37516                               3.0                                 3.0   \n",
      "\n",
      "        Zoning Review Cases_data  Elapsed Time  \n",
      "707051                    3851.0           NaN  \n",
      "113568                     575.0           0.0  \n",
      "716463                    1169.0           NaN  \n",
      "464277                     350.0           NaN  \n",
      "37516                      102.0           0.0  \n",
      "\n",
      "Test Data: 155845\n",
      "        Highest Offense Code Family Violence          Location Type  \\\n",
      "266299                   600               N       RESIDENCE / HOME   \n",
      "381581                   500               N       RESIDENCE / HOME   \n",
      "186828                  1108               N        OTHER / UNKNOWN   \n",
      "30271                   4100               N       RESIDENCE / HOME   \n",
      "307425                   601               N  PARKING LOTS / GARAGE   \n",
      "\n",
      "        Census Tract Clearance Status  Zip Codes  \\\n",
      "266299          8.02                N     2857.0   \n",
      "381581         17.12                N     3259.0   \n",
      "186828         18.06                N     3642.0   \n",
      "30271          18.11                N     3641.0   \n",
      "307425         17.53                N     3647.0   \n",
      "\n",
      "        Single Member Council Districts  BOUNDARIES_single_member_districts  \\\n",
      "266299                              1.0                                 8.0   \n",
      "381581                              5.0                                 1.0   \n",
      "186828                              4.0                                 9.0   \n",
      "30271                               1.0                                 8.0   \n",
      "307425                              7.0                                 7.0   \n",
      "\n",
      "        Zoning Review Cases_data  Elapsed Time  \n",
      "266299                     566.0      0.000000  \n",
      "381581                    3819.0           NaN  \n",
      "186828                    3439.0      1.116667  \n",
      "30271                      350.0      0.050000  \n",
      "307425                    3253.0      0.000000  \n"
     ]
    }
   ],
   "source": [
    "#Split and Save Train and Test Data\n",
    "dataset = pd.read_csv(\"Crime_Reports_Clean.csv\")\n",
    "dataset = dataset.drop(dataset.columns[0], axis=1)\n",
    "dataset = dataset.sample(frac=1)\n",
    "train_data = dataset.iloc[:int(len(dataset)*.8)]\n",
    "test_data = dataset.iloc[int(len(dataset)*.8):]\n",
    "print('Train Data:', len(train_data))\n",
    "print(train_data.head())\n",
    "print()\n",
    "print('Test Data:', len(test_data))\n",
    "print(test_data.head())\n",
    "train_data.to_csv(\"Crime_Reports_Train.csv\")\n",
    "test_data.to_csv(\"Crime_Reports_Test.csv\")"
   ]
  },
  {
   "cell_type": "code",
   "execution_count": 6,
   "metadata": {},
   "outputs": [
    {
     "name": "stdout",
     "output_type": "stream",
     "text": [
      "False 404: NOT FOUND - {\"message\": \"Dataset name not found\"}\n",
      "\n",
      "{'status': 'Requested', 'starttime': '2019-04-20T11:56:30.950908', 'endtime': None, 'percent_complete': 0, 'job_type': 'CleanDataTiny', 'loss': None, 'generations': None, 'dataset_names': ['Crime_Reports_Train.csv'], 'artifact_names': ['64d3b6c2b2764cf5be6b50a32633b45f'], 'model_name': None, 'job_error': None}\n",
      "{'status': 'Running', 'starttime': '2019-04-20T11:56:30.950908', 'endtime': None, 'percent_complete': 0, 'job_type': 'CleanDataTiny', 'loss': None, 'generations': None, 'dataset_names': ['Crime_Reports_Train.csv'], 'artifact_names': ['64d3b6c2b2764cf5be6b50a32633b45f'], 'model_name': None, 'job_error': ''}\n",
      "{'status': 'Running', 'starttime': '2019-04-20T11:56:30.950908', 'endtime': None, 'percent_complete': 0, 'job_type': 'CleanDataTiny', 'loss': None, 'generations': None, 'dataset_names': ['Crime_Reports_Train.csv'], 'artifact_names': ['64d3b6c2b2764cf5be6b50a32633b45f'], 'model_name': None, 'job_error': ''}\n",
      "{'status': 'Running', 'starttime': '2019-04-20T11:56:30.950908', 'endtime': None, 'percent_complete': 0, 'job_type': 'CleanDataTiny', 'loss': None, 'generations': None, 'dataset_names': ['Crime_Reports_Train.csv'], 'artifact_names': ['64d3b6c2b2764cf5be6b50a32633b45f'], 'model_name': None, 'job_error': ''}\n",
      "{'status': 'Running', 'starttime': '2019-04-20T11:56:30.950908', 'endtime': None, 'percent_complete': 0, 'job_type': 'CleanDataTiny', 'loss': None, 'generations': None, 'dataset_names': ['Crime_Reports_Train.csv'], 'artifact_names': ['64d3b6c2b2764cf5be6b50a32633b45f'], 'model_name': None, 'job_error': ''}\n",
      "{'status': 'Running', 'starttime': '2019-04-20T11:56:30.950908', 'endtime': None, 'percent_complete': 0, 'job_type': 'CleanDataTiny', 'loss': None, 'generations': None, 'dataset_names': ['Crime_Reports_Train.csv'], 'artifact_names': ['64d3b6c2b2764cf5be6b50a32633b45f'], 'model_name': None, 'job_error': ''}\n",
      "{'status': 'Running', 'starttime': '2019-04-20T11:56:30.950908', 'endtime': None, 'percent_complete': 0, 'job_type': 'CleanDataTiny', 'loss': None, 'generations': None, 'dataset_names': ['Crime_Reports_Train.csv'], 'artifact_names': ['64d3b6c2b2764cf5be6b50a32633b45f'], 'model_name': None, 'job_error': ''}\n",
      "{'status': 'Complete', 'starttime': '2019-04-20T11:56:30.950908', 'endtime': '2019-04-20T11:58:04.37247', 'percent_complete': 100, 'job_type': 'CleanDataTiny', 'loss': None, 'generations': None, 'dataset_names': ['Crime_Reports_Train.csv'], 'artifact_names': ['64d3b6c2b2764cf5be6b50a32633b45f'], 'model_name': None, 'job_error': ''}\n"
     ]
    }
   ],
   "source": [
    "#Upload Train Data\n",
    "status, message = ds.delete_dataset(\"Crime_Reports_Train.csv\")\n",
    "print(status, message)\n",
    "status, uploaded_dataset = ds.upload_dataset(\"Crime_Reports_Train.csv\")\n",
    "if not status:\n",
    "    print(uploaded_dataset)\n",
    "\n",
    "#Clean Train Data\n",
    "target = \"Clearance Status\"\n",
    "status, job_id = ds.clean_data(\"Crime_Reports_Train.csv\", target = target)\n",
    "if status:\n",
    "    ds.wait_for_job(job_id['job_name'])\n",
    "else:\n",
    "    print(job_id)"
   ]
  },
  {
   "cell_type": "code",
   "execution_count": 7,
   "metadata": {},
   "outputs": [
    {
     "name": "stdout",
     "output_type": "stream",
     "text": [
      "False 400: BAD REQUEST - {\"message\": \"Model does not exist\"}\n",
      "\n",
      "{'status': 'Requested', 'starttime': '2019-04-20T11:59:56.880633', 'endtime': None, 'percent_complete': 0, 'job_type': 'TrainModel', 'loss': None, 'generations': 0, 'dataset_names': ['Crime_Reports_Train.csv'], 'artifact_names': None, 'model_name': 'Clearance Status_model20190420114554', 'job_error': None}\n",
      "{'status': 'Running', 'starttime': '2019-04-20T11:59:56.880633', 'endtime': None, 'percent_complete': 0, 'job_type': 'TrainModel', 'loss': None, 'generations': 0, 'dataset_names': ['Crime_Reports_Train.csv'], 'artifact_names': None, 'model_name': 'Clearance Status_model20190420114554', 'job_error': ''}\n",
      "{'status': 'Running', 'starttime': '2019-04-20T11:59:56.880633', 'endtime': None, 'percent_complete': 0, 'job_type': 'TrainModel', 'loss': None, 'generations': 0, 'dataset_names': ['Crime_Reports_Train.csv'], 'artifact_names': None, 'model_name': 'Clearance Status_model20190420114554', 'job_error': ''}\n",
      "{'status': 'Running', 'starttime': '2019-04-20T11:59:56.880633', 'endtime': None, 'percent_complete': 0, 'job_type': 'TrainModel', 'loss': None, 'generations': 0, 'dataset_names': ['Crime_Reports_Train.csv'], 'artifact_names': None, 'model_name': 'Clearance Status_model20190420114554', 'job_error': ''}\n",
      "{'status': 'Running', 'starttime': '2019-04-20T11:59:56.880633', 'endtime': None, 'percent_complete': 0, 'job_type': 'TrainModel', 'loss': None, 'generations': 0, 'dataset_names': ['Crime_Reports_Train.csv'], 'artifact_names': None, 'model_name': 'Clearance Status_model20190420114554', 'job_error': ''}\n",
      "{'status': 'Running', 'starttime': '2019-04-20T11:59:56.880633', 'endtime': None, 'percent_complete': 0, 'job_type': 'TrainModel', 'loss': None, 'generations': 0, 'dataset_names': ['Crime_Reports_Train.csv'], 'artifact_names': None, 'model_name': 'Clearance Status_model20190420114554', 'job_error': ''}\n",
      "{'status': 'Running', 'starttime': '2019-04-20T11:59:56.880633', 'endtime': None, 'percent_complete': 0, 'job_type': 'TrainModel', 'loss': None, 'generations': 0, 'dataset_names': ['Crime_Reports_Train.csv'], 'artifact_names': None, 'model_name': 'Clearance Status_model20190420114554', 'job_error': ''}\n",
      "{'status': 'Running', 'starttime': '2019-04-20T11:59:56.880633', 'endtime': None, 'percent_complete': 2, 'job_type': 'TrainModel', 'loss': 0.46628835797309875, 'generations': 0, 'dataset_names': ['Crime_Reports_Train.csv'], 'artifact_names': None, 'model_name': 'Clearance Status_model20190420114554', 'job_error': ''}\n",
      "{'status': 'Running', 'starttime': '2019-04-20T11:59:56.880633', 'endtime': None, 'percent_complete': 2, 'job_type': 'TrainModel', 'loss': 0.46628835797309875, 'generations': 0, 'dataset_names': ['Crime_Reports_Train.csv'], 'artifact_names': None, 'model_name': 'Clearance Status_model20190420114554', 'job_error': ''}\n",
      "{'status': 'Running', 'starttime': '2019-04-20T11:59:56.880633', 'endtime': None, 'percent_complete': 2, 'job_type': 'TrainModel', 'loss': 0.46628835797309875, 'generations': 0, 'dataset_names': ['Crime_Reports_Train.csv'], 'artifact_names': None, 'model_name': 'Clearance Status_model20190420114554', 'job_error': ''}\n",
      "{'status': 'Running', 'starttime': '2019-04-20T11:59:56.880633', 'endtime': None, 'percent_complete': 2, 'job_type': 'TrainModel', 'loss': 0.46628835797309875, 'generations': 0, 'dataset_names': ['Crime_Reports_Train.csv'], 'artifact_names': None, 'model_name': 'Clearance Status_model20190420114554', 'job_error': ''}\n",
      "{'status': 'Running', 'starttime': '2019-04-20T11:59:56.880633', 'endtime': None, 'percent_complete': 2, 'job_type': 'TrainModel', 'loss': 0.46628835797309875, 'generations': 0, 'dataset_names': ['Crime_Reports_Train.csv'], 'artifact_names': None, 'model_name': 'Clearance Status_model20190420114554', 'job_error': ''}\n",
      "{'status': 'Running', 'starttime': '2019-04-20T11:59:56.880633', 'endtime': None, 'percent_complete': 2, 'job_type': 'TrainModel', 'loss': 0.46628835797309875, 'generations': 0, 'dataset_names': ['Crime_Reports_Train.csv'], 'artifact_names': None, 'model_name': 'Clearance Status_model20190420114554', 'job_error': ''}\n",
      "{'status': 'Running', 'starttime': '2019-04-20T11:59:56.880633', 'endtime': None, 'percent_complete': 2, 'job_type': 'TrainModel', 'loss': 0.46628835797309875, 'generations': 0, 'dataset_names': ['Crime_Reports_Train.csv'], 'artifact_names': None, 'model_name': 'Clearance Status_model20190420114554', 'job_error': ''}\n",
      "{'status': 'Running', 'starttime': '2019-04-20T11:59:56.880633', 'endtime': None, 'percent_complete': 2, 'job_type': 'TrainModel', 'loss': 0.46628835797309875, 'generations': 0, 'dataset_names': ['Crime_Reports_Train.csv'], 'artifact_names': None, 'model_name': 'Clearance Status_model20190420114554', 'job_error': ''}\n",
      "{'status': 'Running', 'starttime': '2019-04-20T11:59:56.880633', 'endtime': None, 'percent_complete': 2, 'job_type': 'TrainModel', 'loss': 0.46628835797309875, 'generations': 0, 'dataset_names': ['Crime_Reports_Train.csv'], 'artifact_names': None, 'model_name': 'Clearance Status_model20190420114554', 'job_error': ''}\n",
      "{'status': 'Running', 'starttime': '2019-04-20T11:59:56.880633', 'endtime': None, 'percent_complete': 2, 'job_type': 'TrainModel', 'loss': 0.46628835797309875, 'generations': 0, 'dataset_names': ['Crime_Reports_Train.csv'], 'artifact_names': None, 'model_name': 'Clearance Status_model20190420114554', 'job_error': ''}\n",
      "{'status': 'Running', 'starttime': '2019-04-20T11:59:56.880633', 'endtime': None, 'percent_complete': 2, 'job_type': 'TrainModel', 'loss': 0.46628835797309875, 'generations': 0, 'dataset_names': ['Crime_Reports_Train.csv'], 'artifact_names': None, 'model_name': 'Clearance Status_model20190420114554', 'job_error': ''}\n",
      "{'status': 'Running', 'starttime': '2019-04-20T11:59:56.880633', 'endtime': None, 'percent_complete': 2, 'job_type': 'TrainModel', 'loss': 0.46628835797309875, 'generations': 0, 'dataset_names': ['Crime_Reports_Train.csv'], 'artifact_names': None, 'model_name': 'Clearance Status_model20190420114554', 'job_error': ''}\n",
      "{'status': 'Running', 'starttime': '2019-04-20T11:59:56.880633', 'endtime': None, 'percent_complete': 2, 'job_type': 'TrainModel', 'loss': 0.46628835797309875, 'generations': 0, 'dataset_names': ['Crime_Reports_Train.csv'], 'artifact_names': None, 'model_name': 'Clearance Status_model20190420114554', 'job_error': ''}\n",
      "{'status': 'Running', 'starttime': '2019-04-20T11:59:56.880633', 'endtime': None, 'percent_complete': 2, 'job_type': 'TrainModel', 'loss': 0.46628835797309875, 'generations': 0, 'dataset_names': ['Crime_Reports_Train.csv'], 'artifact_names': None, 'model_name': 'Clearance Status_model20190420114554', 'job_error': ''}\n",
      "{'status': 'Running', 'starttime': '2019-04-20T11:59:56.880633', 'endtime': None, 'percent_complete': 7, 'job_type': 'TrainModel', 'loss': 0.43185436725616455, 'generations': 1, 'dataset_names': ['Crime_Reports_Train.csv'], 'artifact_names': None, 'model_name': 'Clearance Status_model20190420114554', 'job_error': ''}\n",
      "{'status': 'Running', 'starttime': '2019-04-20T11:59:56.880633', 'endtime': None, 'percent_complete': 7, 'job_type': 'TrainModel', 'loss': 0.43185436725616455, 'generations': 1, 'dataset_names': ['Crime_Reports_Train.csv'], 'artifact_names': None, 'model_name': 'Clearance Status_model20190420114554', 'job_error': ''}\n",
      "{'status': 'Running', 'starttime': '2019-04-20T11:59:56.880633', 'endtime': None, 'percent_complete': 7, 'job_type': 'TrainModel', 'loss': 0.43185436725616455, 'generations': 1, 'dataset_names': ['Crime_Reports_Train.csv'], 'artifact_names': None, 'model_name': 'Clearance Status_model20190420114554', 'job_error': ''}\n",
      "{'status': 'Running', 'starttime': '2019-04-20T11:59:56.880633', 'endtime': None, 'percent_complete': 7, 'job_type': 'TrainModel', 'loss': 0.43185436725616455, 'generations': 1, 'dataset_names': ['Crime_Reports_Train.csv'], 'artifact_names': None, 'model_name': 'Clearance Status_model20190420114554', 'job_error': ''}\n",
      "{'status': 'Running', 'starttime': '2019-04-20T11:59:56.880633', 'endtime': None, 'percent_complete': 7, 'job_type': 'TrainModel', 'loss': 0.43185436725616455, 'generations': 1, 'dataset_names': ['Crime_Reports_Train.csv'], 'artifact_names': None, 'model_name': 'Clearance Status_model20190420114554', 'job_error': ''}\n"
     ]
    },
    {
     "name": "stdout",
     "output_type": "stream",
     "text": [
      "{'status': 'Running', 'starttime': '2019-04-20T11:59:56.880633', 'endtime': None, 'percent_complete': 7, 'job_type': 'TrainModel', 'loss': 0.43185436725616455, 'generations': 1, 'dataset_names': ['Crime_Reports_Train.csv'], 'artifact_names': None, 'model_name': 'Clearance Status_model20190420114554', 'job_error': ''}\n",
      "{'status': 'Running', 'starttime': '2019-04-20T11:59:56.880633', 'endtime': None, 'percent_complete': 7, 'job_type': 'TrainModel', 'loss': 0.43185436725616455, 'generations': 1, 'dataset_names': ['Crime_Reports_Train.csv'], 'artifact_names': None, 'model_name': 'Clearance Status_model20190420114554', 'job_error': ''}\n",
      "{'status': 'Running', 'starttime': '2019-04-20T11:59:56.880633', 'endtime': None, 'percent_complete': 7, 'job_type': 'TrainModel', 'loss': 0.43185436725616455, 'generations': 1, 'dataset_names': ['Crime_Reports_Train.csv'], 'artifact_names': None, 'model_name': 'Clearance Status_model20190420114554', 'job_error': ''}\n",
      "{'status': 'Running', 'starttime': '2019-04-20T11:59:56.880633', 'endtime': None, 'percent_complete': 7, 'job_type': 'TrainModel', 'loss': 0.43185436725616455, 'generations': 1, 'dataset_names': ['Crime_Reports_Train.csv'], 'artifact_names': None, 'model_name': 'Clearance Status_model20190420114554', 'job_error': ''}\n",
      "{'status': 'Running', 'starttime': '2019-04-20T11:59:56.880633', 'endtime': None, 'percent_complete': 7, 'job_type': 'TrainModel', 'loss': 0.43185436725616455, 'generations': 1, 'dataset_names': ['Crime_Reports_Train.csv'], 'artifact_names': None, 'model_name': 'Clearance Status_model20190420114554', 'job_error': ''}\n",
      "{'status': 'Running', 'starttime': '2019-04-20T11:59:56.880633', 'endtime': None, 'percent_complete': 7, 'job_type': 'TrainModel', 'loss': 0.43185436725616455, 'generations': 1, 'dataset_names': ['Crime_Reports_Train.csv'], 'artifact_names': None, 'model_name': 'Clearance Status_model20190420114554', 'job_error': ''}\n",
      "{'status': 'Running', 'starttime': '2019-04-20T11:59:56.880633', 'endtime': None, 'percent_complete': 7, 'job_type': 'TrainModel', 'loss': 0.43185436725616455, 'generations': 1, 'dataset_names': ['Crime_Reports_Train.csv'], 'artifact_names': None, 'model_name': 'Clearance Status_model20190420114554', 'job_error': ''}\n",
      "{'status': 'Running', 'starttime': '2019-04-20T11:59:56.880633', 'endtime': None, 'percent_complete': 7, 'job_type': 'TrainModel', 'loss': 0.43185436725616455, 'generations': 1, 'dataset_names': ['Crime_Reports_Train.csv'], 'artifact_names': None, 'model_name': 'Clearance Status_model20190420114554', 'job_error': ''}\n",
      "{'status': 'Running', 'starttime': '2019-04-20T11:59:56.880633', 'endtime': None, 'percent_complete': 7, 'job_type': 'TrainModel', 'loss': 0.43185436725616455, 'generations': 1, 'dataset_names': ['Crime_Reports_Train.csv'], 'artifact_names': None, 'model_name': 'Clearance Status_model20190420114554', 'job_error': ''}\n",
      "{'status': 'Running', 'starttime': '2019-04-20T11:59:56.880633', 'endtime': None, 'percent_complete': 7, 'job_type': 'TrainModel', 'loss': 0.43185436725616455, 'generations': 1, 'dataset_names': ['Crime_Reports_Train.csv'], 'artifact_names': None, 'model_name': 'Clearance Status_model20190420114554', 'job_error': ''}\n",
      "{'status': 'Running', 'starttime': '2019-04-20T11:59:56.880633', 'endtime': None, 'percent_complete': 7, 'job_type': 'TrainModel', 'loss': 0.43185436725616455, 'generations': 1, 'dataset_names': ['Crime_Reports_Train.csv'], 'artifact_names': None, 'model_name': 'Clearance Status_model20190420114554', 'job_error': ''}\n",
      "{'status': 'Running', 'starttime': '2019-04-20T11:59:56.880633', 'endtime': None, 'percent_complete': 7, 'job_type': 'TrainModel', 'loss': 0.43185436725616455, 'generations': 1, 'dataset_names': ['Crime_Reports_Train.csv'], 'artifact_names': None, 'model_name': 'Clearance Status_model20190420114554', 'job_error': ''}\n",
      "{'status': 'Running', 'starttime': '2019-04-20T11:59:56.880633', 'endtime': None, 'percent_complete': 7, 'job_type': 'TrainModel', 'loss': 0.43185436725616455, 'generations': 1, 'dataset_names': ['Crime_Reports_Train.csv'], 'artifact_names': None, 'model_name': 'Clearance Status_model20190420114554', 'job_error': ''}\n",
      "{'status': 'Running', 'starttime': '2019-04-20T11:59:56.880633', 'endtime': None, 'percent_complete': 7, 'job_type': 'TrainModel', 'loss': 0.43185436725616455, 'generations': 1, 'dataset_names': ['Crime_Reports_Train.csv'], 'artifact_names': None, 'model_name': 'Clearance Status_model20190420114554', 'job_error': ''}\n",
      "{'status': 'Running', 'starttime': '2019-04-20T11:59:56.880633', 'endtime': None, 'percent_complete': 15, 'job_type': 'TrainModel', 'loss': 0.4287685751914978, 'generations': 2, 'dataset_names': ['Crime_Reports_Train.csv'], 'artifact_names': None, 'model_name': 'Clearance Status_model20190420114554', 'job_error': ''}\n"
     ]
    }
   ],
   "source": [
    "#Creating Model\n",
    "model = target + \"_model\" + ts\n",
    "status, message = ds.delete_model(model)\n",
    "print(status, message)\n",
    "status, job_id = ds.create_model(dataset_names = \"Crime_Reports_Train.csv\", \\\n",
    "                                 model_name =  model, \\\n",
    "                                 max_train_time = '01:00')\n",
    "if status:\n",
    "    ds.wait_for_job(job_id['job_name'])\n",
    "else:\n",
    "    print(job_id)\n",
    "    "
   ]
  },
  {
   "cell_type": "code",
   "execution_count": 8,
   "metadata": {},
   "outputs": [
    {
     "name": "stdout",
     "output_type": "stream",
     "text": [
      "{'status': 'Running', 'starttime': '2019-04-20T13:08:24.756755', 'endtime': None, 'percent_complete': 0, 'job_type': 'AnalyzeModel', 'loss': 0.42816871404647827, 'generations': 6, 'dataset_names': None, 'artifact_names': ['2d2f3b820e954002bc2c25820656dbf1'], 'model_name': 'Clearance Status_model20190420114554', 'job_error': ''}\n",
      "{'status': 'Running', 'starttime': '2019-04-20T13:08:24.756755', 'endtime': None, 'percent_complete': 0, 'job_type': 'AnalyzeModel', 'loss': 0.42816871404647827, 'generations': 6, 'dataset_names': None, 'artifact_names': ['2d2f3b820e954002bc2c25820656dbf1'], 'model_name': 'Clearance Status_model20190420114554', 'job_error': ''}\n",
      "{'status': 'Running', 'starttime': '2019-04-20T13:08:24.756755', 'endtime': None, 'percent_complete': 0, 'job_type': 'AnalyzeModel', 'loss': 0.42816871404647827, 'generations': 6, 'dataset_names': None, 'artifact_names': ['2d2f3b820e954002bc2c25820656dbf1'], 'model_name': 'Clearance Status_model20190420114554', 'job_error': ''}\n",
      "{'status': 'Complete', 'starttime': '2019-04-20T13:08:24.756755', 'endtime': '2019-04-20T13:09:10.270482', 'percent_complete': 100, 'job_type': 'AnalyzeModel', 'loss': 0.42816871404647827, 'generations': 6, 'dataset_names': None, 'artifact_names': ['2d2f3b820e954002bc2c25820656dbf1'], 'model_name': 'Clearance Status_model20190420114554', 'job_error': ''}\n"
     ]
    }
   ],
   "source": [
    "#Analyzing Models\n",
    "status, artifact = ds.analyze_model(model)\n",
    "sleep(1)\n",
    "if status:\n",
    "    ds.wait_for_job(artifact['job_name'])\n",
    "else:\n",
    "    print(artifact)\n",
    "status, feature_importance = ds.download_artifact(artifact['artifact_name'])"
   ]
  },
  {
   "cell_type": "code",
   "execution_count": 9,
   "metadata": {},
   "outputs": [
    {
     "name": "stdout",
     "output_type": "stream",
     "text": [
      "Highest Offense Code                                        4.006581e-01\n",
      "Unnamed: 0                                                  1.341023e-01\n",
      "Location Type = STREETS / HWY / ROAD / ALLEY                1.168162e-01\n",
      "Location Type = RESIDENCE / HOME                            8.675619e-02\n",
      "Family Violence = Y                                         7.704243e-02\n",
      "Elapsed Time                                                2.677604e-02\n",
      "Census Tract                                                2.543925e-02\n",
      "Zoning Review Cases_data                                    2.543462e-02\n",
      "Location Type = DEPARTMENT / DISCOUNT STORE                 1.927089e-02\n",
      "Location Type = GROCERY / SUPERMARKET                       1.752925e-02\n",
      "Zip Codes                                                   1.524369e-02\n",
      "Location Type = COMMERCIAL / OFFICE BUILDING                7.941634e-03\n",
      "Location Type = PARKING LOTS / GARAGE                       7.873082e-03\n",
      "Location Type = OTHER / UNKNOWN                             4.167408e-03\n",
      "Location Type = GOVERNMENT / PUBLIC BUILDING                3.572580e-03\n",
      "Location Type = RESTAURANTS                                 1.963862e-03\n",
      "Location Type = HOTEL / MOTEL / ETC.                        1.955931e-03\n",
      "Location Type = CONVENIENCE STORE                           1.887412e-03\n",
      "BOUNDARIES_single_member_districts = 3.0                    1.884462e-03\n",
      "Single Member Council Districts = 4.0                       1.371503e-03\n",
      "BOUNDARIES_single_member_districts = 9.0                    1.222045e-03\n",
      "Location Type = SPECIALTY  STORE (TV  FUR ETC.)             1.216530e-03\n",
      "Location Type = DRUG STORE / DR. OFFICE / HOSPITAL          1.187695e-03\n",
      "Single Member Council Districts = 3.0                       1.171187e-03\n",
      "Location Type = GAS / SERVICE STATIONS                      1.168552e-03\n",
      "BOUNDARIES_single_member_districts = 10.0                   1.018904e-03\n",
      "Location Type = SCHOOLS / COLLEGES                          9.980988e-04\n",
      "BOUNDARIES_single_member_districts = 2.0                    9.833531e-04\n",
      "BOUNDARIES_single_member_districts = 6.0                    9.756168e-04\n",
      "Location Type = BAR / NIGHT CLUB                            9.613424e-04\n",
      "                                                                ...     \n",
      "Location Type = BANKS / SAVINGS & LOAN                      5.746407e-04\n",
      "BOUNDARIES_single_member_districts = 4.0                    5.284205e-04\n",
      "Single Member Council Districts = 8.0                       4.997597e-04\n",
      "Single Member Council Districts = 2.0                       4.335406e-04\n",
      "Location Type = CONSTRUCTION SITE                           3.545890e-04\n",
      "Location Type = CHURCH / SYNAGOGUE / TEMPLE / MOSQUE        3.270279e-04\n",
      "Single Member Council Districts = 10.0                      3.106684e-04\n",
      "BOUNDARIES_single_member_districts = 5.0                    3.063205e-04\n",
      "Location Type = RENTAL STORAGE FACILITY                     1.995365e-04\n",
      "Location Type = JAIL / PRISON                               1.691026e-04\n",
      "Location Type = SHOPPING MALL                               1.652872e-04\n",
      "Location Type = SCHOOL - COLLEGE / UNIVERSITY               1.532065e-04\n",
      "Location Type = SCHOOL - ELEMENTARY / SECONDARY             1.474847e-04\n",
      "Location Type = LIQUOR STORE                                1.313953e-04\n",
      "Location Type = SHELTER-MISSION / HOMELESS                  1.114414e-04\n",
      "Location Type = LAKE / WATERWAY                             1.027255e-04\n",
      "Location Type = AUTO DEALERSHIP NEW / USED                  8.147963e-05\n",
      "Location Type = DAYCARE FACILITY                            4.817965e-05\n",
      "Location Type = GAMBLING FACILITY / CASINO / RACE TRACK     4.548892e-05\n",
      "Location Type = COMMUNITY CENTER                            4.338377e-05\n",
      "Location Type = CAMP / CAMPGROUND                           2.025500e-05\n",
      "Location Type = INDUSTRIAL SITE                             1.666507e-05\n",
      "Location Type = REST AREA                                   9.692096e-06\n",
      "Location Type = ATM SEPARATE FROM BANK                      6.457870e-06\n",
      "Location Type = ARENA / STADIUM / FAIRGROUNDS / COLISEUM    6.083218e-06\n",
      "Location Type = AMUSEMENT PARK                              5.566200e-06\n",
      "Location Type = DOCK / WHARF / FREIGHT / MODAL TERMINAL     2.525087e-06\n",
      "Location Type = TRIBAL LANDS                                2.350754e-06\n",
      "Location Type = MILITARY INSTALLATION                       9.738708e-07\n",
      "Location Type = FARM FACILITY                               3.912023e-11\n",
      "Length: 69, dtype: float64\n"
     ]
    }
   ],
   "source": [
    "print(feature_importance)"
   ]
  },
  {
   "cell_type": "code",
   "execution_count": 10,
   "metadata": {},
   "outputs": [
    {
     "name": "stdout",
     "output_type": "stream",
     "text": [
      "False 404: NOT FOUND - {\"message\": \"Dataset name not found\"}\n",
      "\n",
      "{'status': 'Requested', 'starttime': '2019-04-20T13:10:39.958568', 'endtime': None, 'percent_complete': 0, 'job_type': 'CleanDataTiny', 'loss': None, 'generations': None, 'dataset_names': ['Crime_Reports_Test.csv'], 'artifact_names': ['179628b8f9614bb2911d4db154bf8bd5'], 'model_name': None, 'job_error': None}\n",
      "{'status': 'Running', 'starttime': '2019-04-20T13:10:39.958568', 'endtime': None, 'percent_complete': 0, 'job_type': 'CleanDataTiny', 'loss': None, 'generations': None, 'dataset_names': ['Crime_Reports_Test.csv'], 'artifact_names': ['179628b8f9614bb2911d4db154bf8bd5'], 'model_name': None, 'job_error': ''}\n",
      "{'status': 'Complete', 'starttime': '2019-04-20T13:10:39.958568', 'endtime': '2019-04-20T13:11:03.145297', 'percent_complete': 100, 'job_type': 'CleanDataTiny', 'loss': None, 'generations': None, 'dataset_names': ['Crime_Reports_Test.csv'], 'artifact_names': ['179628b8f9614bb2911d4db154bf8bd5'], 'model_name': None, 'job_error': ''}\n"
     ]
    }
   ],
   "source": [
    "#Upload Test Data\n",
    "status, message = ds.delete_dataset(\"Crime_Reports_Test.csv\")\n",
    "print(status, message)\n",
    "status, dataset = ds.upload_dataset(\"Crime_Reports_Test.csv\")\n",
    "if not status:\n",
    "    print(dataset)\n",
    "    \n",
    "#Clean Test Data\n",
    "status, job_id = ds.clean_data(\"Crime_Reports_Test.csv\", target = target, model_name = model)\n",
    "if status:\n",
    "    ds.wait_for_job(job_id['job_name'])\n",
    "else:\n",
    "    print(job_id)"
   ]
  },
  {
   "cell_type": "code",
   "execution_count": 11,
   "metadata": {},
   "outputs": [
    {
     "name": "stdout",
     "output_type": "stream",
     "text": [
      "{'status': 'Running', 'starttime': '2019-04-20T13:13:18.206631', 'endtime': None, 'percent_complete': 0, 'job_type': 'RunModel', 'loss': 0.42816871404647827, 'generations': 6, 'dataset_names': ['Crime_Reports_Test.csv'], 'artifact_names': ['ab042fe7aabd41c8973ecba33e3c2acc'], 'model_name': 'Clearance Status_model20190420114554', 'job_error': ''}\n",
      "{'status': 'Complete', 'starttime': '2019-04-20T13:13:18.206631', 'endtime': '2019-04-20T13:13:25.532064', 'percent_complete': 100, 'job_type': 'RunModel', 'loss': 0.42816871404647827, 'generations': 6, 'dataset_names': ['Crime_Reports_Test.csv'], 'artifact_names': ['ab042fe7aabd41c8973ecba33e3c2acc'], 'model_name': 'Clearance Status_model20190420114554', 'job_error': ''}\n",
      "              precision    recall  f1-score   support\n",
      "\n",
      "           C       0.87      0.83      0.85     54553\n",
      "           N       0.91      0.94      0.92    101292\n",
      "\n",
      "   micro avg       0.90      0.90      0.90    155845\n",
      "   macro avg       0.89      0.88      0.89    155845\n",
      "weighted avg       0.90      0.90      0.90    155845\n",
      "\n"
     ]
    },
    {
     "data": {
      "image/png": "[encoded data removed]",
      "text/plain": [
       "<Figure size 432x288 with 1 Axes>"
      ]
     },
     "metadata": {
      "needs_background": "light"
     },
     "output_type": "display_data"
    }
   ],
   "source": [
    "#Run Model on Test Data\n",
    "status, artifact = ds.run_model(\"Crime_Reports_Test.csv\", model)\n",
    "sleep(1)\n",
    "ds.wait_for_job(artifact['job_name'])\n",
    "\n",
    "status, prediction = ds.download_artifact(artifact['artifact_name'])\n",
    "df = pd.read_csv(\"Crime_Reports_Test.csv\")\n",
    "unq = prediction[target].unique()[::-1]\n",
    "p = np.zeros((len(prediction),))\n",
    "a = np.zeros((len(prediction),))\n",
    "for i,q in enumerate(unq):\n",
    "    p += i*(prediction[target] == q).values\n",
    "    a += i*(df[target] == q).values\n",
    "#Plot predictions vs actual\n",
    "plt.plot(a)\n",
    "plt.plot(p)\n",
    "plt.legend(['Actual','Predicted'])\n",
    "plt.yticks([i for i in range(len(unq))],[q for q in unq]);\n",
    "print(classification_report(df[target], prediction[target]))"
   ]
  },
  {
   "cell_type": "code",
   "execution_count": 12,
   "metadata": {},
   "outputs": [
    {
     "name": "stdout",
     "output_type": "stream",
     "text": [
      "{'type': 'XGBClassifier', 'parameters': {'base_score': 0.5, 'colsample_bylevel': 1, 'colsample_bytree': 1, 'gamma': 0, 'learning_rate': 0.268008771835894, 'max_delta_step': 0, 'max_depth': 9, 'min_child_weight': 8, 'n_estimators': 141, 'n_jobs': -1, 'reg_alpha': 0, 'reg_lambda': 1, 'scale_pos_weight': 1, 'subsample': 0.9920498303538875}}\n"
     ]
    }
   ],
   "source": [
    "status, model_type = ds.lookup_model_name(model)\n",
    "print(model_type['description']['best_genome'])"
   ]
  },
  {
   "cell_type": "code",
   "execution_count": null,
   "metadata": {},
   "outputs": [],
   "source": []
  }
 ],
 "metadata": {
  "kernelspec": {
   "display_name": "Python 3",
   "language": "python",
   "name": "python3"
  },
  "language_info": {
   "codemirror_mode": {
    "name": "ipython",
    "version": 3
   },
   "file_extension": ".py",
   "mimetype": "text/x-python",
   "name": "python",
   "nbconvert_exporter": "python",
   "pygments_lexer": "ipython3",
   "version": "3.7.1"
  }
 },
 "nbformat": 4,
 "nbformat_minor": 2
}
