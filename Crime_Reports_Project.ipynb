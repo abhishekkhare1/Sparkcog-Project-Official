{
 "cells": [
  {
   "cell_type": "markdown",
   "metadata": {},
   "source": [
    "# Police Dispatch Optimization using Machine Learning\n",
    "\n",
    "##### Avner Khan, Kiran Raja, Abhishek Khare, Joshua Deng"
   ]
  },
  {
   "cell_type": "markdown",
   "metadata": {},
   "source": [
    "## Imports and Connecting to Darwin\n",
    "\n",
    "In the below cells, we define all of the our imports that we utilize in our project and login to darwin."
   ]
  },
  {
   "cell_type": "code",
   "execution_count": 1,
   "metadata": {},
   "outputs": [],
   "source": [
    "\n",
    "import matplotlib.pyplot as plt\n",
    "from amb_sdk.sdk import DarwinSdk\n",
    "from time import sleep\n",
    "import pandas as pd\n",
    "import numpy as np\n",
    "import sklearn.model_selection as ms\n",
    "from sklearn.metrics import classification_report\n",
    "import datetime\n",
    "\n",
    "ds = DarwinSdk()\n",
    "ds.set_url('https://amb-demo-api.sparkcognition.com/v1/')\n",
    "ts = '{:%Y%m%d%H%M%S}'.format(datetime.datetime.now())\n"
   ]
  },
  {
   "cell_type": "code",
   "execution_count": 2,
   "metadata": {},
   "outputs": [
    {
     "name": "stdout",
     "output_type": "stream",
     "text": [
      "True\n"
     ]
    }
   ],
   "source": [
    "#Create a new user\n",
    "status, msg = ds.auth_login_user('KIRAN.RAJA22@GMAIL.COM', 'EgN5NagB3D')\n",
    "if not status:\n",
    "    print(msg)\n",
    "print(status)"
   ]
  },
  {
   "cell_type": "markdown",
   "metadata": {},
   "source": [
    "## Feature Engineering\n",
    "\n",
    "In the below cells, we feature engineer by turning features \"Occured Date\", \"Occured Time\", \"Report Date\", and \"Report Time\" into a single feature \"Elapsed Time\". We also drop features such as \"Location\", \"Category Description\", \"UCR Category\", \"PRA\", \"APD District\". Lastly, we use list-wise deletion to clear any NaN entries."
   ]
  },
  {
   "cell_type": "code",
   "execution_count": 3,
   "metadata": {},
   "outputs": [
    {
     "name": "stderr",
     "output_type": "stream",
     "text": [
      "C:\\Users\\kiran\\Anaconda3\\lib\\site-packages\\IPython\\core\\interactiveshell.py:3020: DtypeWarning: Columns (16) have mixed types. Specify dtype option on import or set low_memory=False.\n",
      "  interactivity=interactivity, compiler=compiler, result=result)\n"
     ]
    },
    {
     "name": "stdout",
     "output_type": "stream",
     "text": [
      "Original Length: 2124418\n",
      "Original Features: ['Incident Number', 'Highest Offense Description', 'Highest Offense Code', 'Family Violence', 'Occurred Date Time', 'Occurred Date', 'Occurred Time', 'Report Date Time', 'Report Date', 'Report Time', 'Location Type', 'Address', 'Zip Code', 'Council District', 'APD Sector', 'APD District', 'PRA', 'Census Tract', 'Clearance Status', 'Clearance Date', 'UCR Category', 'Category Description', 'X-coordinate', 'Y-coordinate', 'Latitude', 'Longitude', 'Location', 'Zip Codes', 'Single Member Council Districts', 'BOUNDARIES_single_member_districts', 'Zoning Review Cases_data']\n",
      "\n",
      "Cleaned Length: 1208611\n",
      "Remaining Features: ['Highest Offense Code', 'Family Violence', 'Location Type', 'Census Tract', 'Clearance Status', 'Zip Codes', 'Elapsed Time', 'DOW']\n",
      "    Highest Offense Code Family Violence                 Location Type  \\\n",
      "2                   2716               N                   RESTAURANTS   \n",
      "3                   2716               N   DEPARTMENT / DISCOUNT STORE   \n",
      "19                  1818               N  STREETS / HWY / ROAD / ALLEY   \n",
      "40                  1803               N  STREETS / HWY / ROAD / ALLEY   \n",
      "44                  3295               N  STREETS / HWY / ROAD / ALLEY   \n",
      "\n",
      "    Census Tract Clearance Status  Zip Codes  Elapsed Time  DOW  \n",
      "2          24.22                C     3259.0           0.0  5.0  \n",
      "3          18.13                C     3642.0           1.0  4.0  \n",
      "19         11.00                C     2856.0           0.0  4.0  \n",
      "40         13.08                C     2859.0           0.0  3.0  \n",
      "44         11.00                C     2856.0           0.0  3.0  \n"
     ]
    }
   ],
   "source": [
    "def elapsed_time(oc_date, oc_time, rep_date, rep_time):\n",
    "    oc_date_split_arr = oc_date.split(\"/\")\n",
    "    oc_date_month = oc_date_split_arr[0]\n",
    "    oc_date_day = oc_date_split_arr[1]\n",
    "    oc_date_year = oc_date_split_arr[2]\n",
    "    oc_hr = int(oc_time // 100)\n",
    "    if (oc_hr > 23):\n",
    "        oc_hr = 23\n",
    "    elif (oc_hr < 0):\n",
    "        oc_hr = 0\n",
    "    oc_min = int(oc_time % 100)\n",
    "    if (oc_min > 59):\n",
    "        oc_min = 59\n",
    "    elif (oc_min < 0):\n",
    "        oc_min = 0\n",
    "    oc_datetime = datetime.datetime(int(oc_date_year), int(oc_date_month), int(oc_date_day), oc_hr, oc_min)\n",
    "    rep_date_split_arr = rep_date.split(\"/\")\n",
    "    rep_date_month = rep_date_split_arr[0]\n",
    "    rep_date_day = rep_date_split_arr[1]\n",
    "    rep_date_year = rep_date_split_arr[2]\n",
    "    rep_hr = int(rep_time // 100)\n",
    "    if (rep_hr > 23):\n",
    "        rep_hr = 23\n",
    "    elif (rep_hr < 0):\n",
    "        rep_hr = 0\n",
    "    rep_min = int(rep_time % 100)\n",
    "    if (rep_min > 59):\n",
    "        rep_min = 59\n",
    "    elif (rep_min < 0):\n",
    "        rep_min = 0\n",
    "    rep_datetime = datetime.datetime(int(rep_date_year), int(rep_date_month), int(rep_date_day), rep_hr, rep_min)\n",
    "    elapsed = rep_datetime - oc_datetime\n",
    "    return (elapsed.total_seconds() / 3600), oc_datetime.weekday()\n",
    "\n",
    "#Load data\n",
    "dataset = pd.read_csv(\"Crime_Reports_Fixed_Labels.csv\")\n",
    "print('Original Length:', len(dataset))\n",
    "print('Original Features:', list(dataset))\n",
    "#Drop Unused Columns\n",
    "dataset = dataset.drop(columns=['Location', 'Category Description', 'UCR Category', 'PRA', 'APD Sector', 'APD District', 'Council District', 'Zip Code', 'Address', 'Incident Number', 'Highest Offense Description', 'Occurred Date Time', 'Report Date Time', 'Clearance Date', 'X-coordinate', 'Y-coordinate', 'Latitude', 'Longitude', 'Single Member Council Districts', 'BOUNDARIES_single_member_districts', 'Zoning Review Cases_data'])\n",
    "#Drop rows with missing data\n",
    "dataset = dataset.dropna()\n",
    "#Create Elapsed Time Field and add it to our data\n",
    "elapsed = []\n",
    "dow = []\n",
    "for index, row in dataset.iterrows():\n",
    "    el_time, day = elapsed_time(row['Occurred Date'], row['Occurred Time'], row['Report Date'], row['Report Time'])\n",
    "    elapsed.append(el_time)\n",
    "    dow.append(day)\n",
    "elapsed_df = pd.DataFrame(data=elapsed)\n",
    "dow_df = pd.DataFrame(data=dow)\n",
    "dataset['Elapsed Time'] = elapsed_df\n",
    "dataset['DOW'] = dow_df\n",
    "dataset = dataset.drop(columns=['Occurred Date', 'Occurred Time', 'Report Date', 'Report Time'])\n",
    "#Drop rows with missing data\n",
    "dataset = dataset.dropna()\n",
    "#Print Cleaned Data and save it as csv\n",
    "print()\n",
    "print('Cleaned Length:', len(dataset))\n",
    "print('Remaining Features:', list(dataset))\n",
    "print(dataset.head())\n",
    "dataset.to_csv(\"Crime_Reports_Clean.csv\", index=False)"
   ]
  },
  {
   "cell_type": "markdown",
   "metadata": {},
   "source": [
    "## Train/Test Splitting\n",
    "\n",
    "In the code block below, we split our data into a training set and test set, with 80 percent being allocated to training and 20 percent being allocated to testing. We also export these into seperate CSVs for Darwin later on."
   ]
  },
  {
   "cell_type": "code",
   "execution_count": 4,
   "metadata": {},
   "outputs": [
    {
     "name": "stdout",
     "output_type": "stream",
     "text": [
      "Train Data: 966888\n",
      "        Highest Offense Code Family Violence                 Location Type  \\\n",
      "477158                  2010               N         PARKING LOTS / GARAGE   \n",
      "575285                  3200               N  STREETS / HWY / ROAD / ALLEY   \n",
      "908532                   900               N              BAR / NIGHT CLUB   \n",
      "912709                  3299               N  STREETS / HWY / ROAD / ALLEY   \n",
      "911911                   604               N         PARKING LOTS / GARAGE   \n",
      "\n",
      "        Census Tract Clearance Status  Zip Codes  Elapsed Time  DOW  \n",
      "477158         18.39                N     3642.0      2.066667  3.0  \n",
      "575285         17.54                N     3647.0      1.633333  4.0  \n",
      "908532         23.10                N     3257.0      0.966667  4.0  \n",
      "912709         11.00                C     2856.0      0.000000  4.0  \n",
      "911911          3.07                N     2865.0      0.000000  6.0  \n",
      "\n",
      "Test Data: 241723\n",
      "         Highest Offense Code Family Violence  \\\n",
      "596864                    600               N   \n",
      "1054714                  3299               N   \n",
      "592306                   1803               N   \n",
      "875173                    500               N   \n",
      "191688                    500               N   \n",
      "\n",
      "                                Location Type  Census Tract Clearance Status  \\\n",
      "596864   CHURCH / SYNAGOGUE / TEMPLE / MOSQUE         15.04                N   \n",
      "1054714          STREETS / HWY / ROAD / ALLEY         11.00                C   \n",
      "592306           STREETS / HWY / ROAD / ALLEY         17.50                C   \n",
      "875173                       RESIDENCE / HOME         24.21                N   \n",
      "191688                       RESIDENCE / HOME         15.04                N   \n",
      "\n",
      "         Zip Codes  Elapsed Time  DOW  \n",
      "596864      3645.0     32.650000  6.0  \n",
      "1054714     2856.0     13.883333  4.0  \n",
      "592306      3259.0      0.000000  0.0  \n",
      "875173      3637.0      1.233333  4.0  \n",
      "191688      3645.0      0.950000  3.0  \n"
     ]
    }
   ],
   "source": [
    "#Split and Save Train and Test Data\n",
    "dataset = pd.read_csv(\"Crime_Reports_Clean.csv\")\n",
    "dataset = dataset.sample(frac=1)\n",
    "train_data = dataset.iloc[:int(len(dataset)*.8)]\n",
    "test_data = dataset.iloc[int(len(dataset)*.8):]\n",
    "print('Train Data:', len(train_data))\n",
    "print(train_data.head())\n",
    "print()\n",
    "print('Test Data:', len(test_data))\n",
    "print(test_data.head())\n",
    "train_data.to_csv(\"Crime_Reports_Train.csv\", index=False)\n",
    "test_data.to_csv(\"Crime_Reports_Test.csv\", index=False)"
   ]
  },
  {
   "cell_type": "markdown",
   "metadata": {},
   "source": [
    "## Upload Training Data \n",
    "\n",
    "Before we upload our data to Darwin, we delete the dataset to make sure there isn't a duplicate already running. After this, we upload and clean the training data with Darwin."
   ]
  },
  {
   "cell_type": "code",
   "execution_count": 5,
   "metadata": {},
   "outputs": [
    {
     "name": "stdout",
     "output_type": "stream",
     "text": [
      "True None\n",
      "{'status': 'Requested', 'starttime': '2019-04-22T15:09:10.266842', 'endtime': None, 'percent_complete': 0, 'job_type': 'CleanDataTiny', 'loss': None, 'generations': None, 'dataset_names': ['Crime_Reports_Train.csv'], 'artifact_names': ['9a3f69cf0db0496db3286e7fa1b08b6d'], 'model_name': None, 'job_error': None}\n",
      "{'status': 'Running', 'starttime': '2019-04-22T15:09:10.266842', 'endtime': None, 'percent_complete': 0, 'job_type': 'CleanDataTiny', 'loss': None, 'generations': None, 'dataset_names': ['Crime_Reports_Train.csv'], 'artifact_names': ['9a3f69cf0db0496db3286e7fa1b08b6d'], 'model_name': None, 'job_error': ''}\n",
      "{'status': 'Running', 'starttime': '2019-04-22T15:09:10.266842', 'endtime': None, 'percent_complete': 0, 'job_type': 'CleanDataTiny', 'loss': None, 'generations': None, 'dataset_names': ['Crime_Reports_Train.csv'], 'artifact_names': ['9a3f69cf0db0496db3286e7fa1b08b6d'], 'model_name': None, 'job_error': ''}\n",
      "{'status': 'Running', 'starttime': '2019-04-22T15:09:10.266842', 'endtime': None, 'percent_complete': 0, 'job_type': 'CleanDataTiny', 'loss': None, 'generations': None, 'dataset_names': ['Crime_Reports_Train.csv'], 'artifact_names': ['9a3f69cf0db0496db3286e7fa1b08b6d'], 'model_name': None, 'job_error': ''}\n",
      "{'status': 'Running', 'starttime': '2019-04-22T15:09:10.266842', 'endtime': None, 'percent_complete': 0, 'job_type': 'CleanDataTiny', 'loss': None, 'generations': None, 'dataset_names': ['Crime_Reports_Train.csv'], 'artifact_names': ['9a3f69cf0db0496db3286e7fa1b08b6d'], 'model_name': None, 'job_error': ''}\n",
      "{'status': 'Running', 'starttime': '2019-04-22T15:09:10.266842', 'endtime': None, 'percent_complete': 0, 'job_type': 'CleanDataTiny', 'loss': None, 'generations': None, 'dataset_names': ['Crime_Reports_Train.csv'], 'artifact_names': ['9a3f69cf0db0496db3286e7fa1b08b6d'], 'model_name': None, 'job_error': ''}\n",
      "{'status': 'Running', 'starttime': '2019-04-22T15:09:10.266842', 'endtime': None, 'percent_complete': 0, 'job_type': 'CleanDataTiny', 'loss': None, 'generations': None, 'dataset_names': ['Crime_Reports_Train.csv'], 'artifact_names': ['9a3f69cf0db0496db3286e7fa1b08b6d'], 'model_name': None, 'job_error': ''}\n",
      "{'status': 'Running', 'starttime': '2019-04-22T15:09:10.266842', 'endtime': None, 'percent_complete': 0, 'job_type': 'CleanDataTiny', 'loss': None, 'generations': None, 'dataset_names': ['Crime_Reports_Train.csv'], 'artifact_names': ['9a3f69cf0db0496db3286e7fa1b08b6d'], 'model_name': None, 'job_error': ''}\n",
      "{'status': 'Complete', 'starttime': '2019-04-22T15:09:10.266842', 'endtime': '2019-04-22T15:11:05.724097', 'percent_complete': 100, 'job_type': 'CleanDataTiny', 'loss': None, 'generations': None, 'dataset_names': ['Crime_Reports_Train.csv'], 'artifact_names': ['9a3f69cf0db0496db3286e7fa1b08b6d'], 'model_name': None, 'job_error': ''}\n"
     ]
    }
   ],
   "source": [
    "#Upload Train Data\n",
    "status, message = ds.delete_dataset(\"Crime_Reports_Train.csv\")\n",
    "print(status, message)\n",
    "status, uploaded_dataset = ds.upload_dataset(\"Crime_Reports_Train.csv\")\n",
    "if not status:\n",
    "    print(uploaded_dataset)\n",
    "\n",
    "#Clean Train Data\n",
    "target = \"Clearance Status\"\n",
    "status, job_id = ds.clean_data(\"Crime_Reports_Train.csv\", target = target)\n",
    "if status:\n",
    "    ds.wait_for_job(job_id['job_name'])\n",
    "else:\n",
    "    print(job_id)"
   ]
  },
  {
   "cell_type": "markdown",
   "metadata": {},
   "source": [
    "## Model Creation\n",
    "\n",
    "We create a unique identifier for our model using a timestamp, and then create a model based on the dataset we uploaded earlier. We trained this model from anywhere from 10 minutes to 1 hour."
   ]
  },
  {
   "cell_type": "code",
   "execution_count": 6,
   "metadata": {},
   "outputs": [
    {
     "name": "stdout",
     "output_type": "stream",
     "text": [
      "False 400: BAD REQUEST - {\"message\": \"Model does not exist\"}\n",
      "\n",
      "{'status': 'Requested', 'starttime': '2019-04-22T15:12:48.293183', 'endtime': None, 'percent_complete': 0, 'job_type': 'TrainModel', 'loss': None, 'generations': 0, 'dataset_names': ['Crime_Reports_Train.csv'], 'artifact_names': None, 'model_name': 'Clearance Status_model20190422150542', 'job_error': None}\n",
      "{'status': 'Running', 'starttime': '2019-04-22T15:12:48.293183', 'endtime': None, 'percent_complete': 0, 'job_type': 'TrainModel', 'loss': None, 'generations': 0, 'dataset_names': ['Crime_Reports_Train.csv'], 'artifact_names': None, 'model_name': 'Clearance Status_model20190422150542', 'job_error': ''}\n",
      "{'status': 'Running', 'starttime': '2019-04-22T15:12:48.293183', 'endtime': None, 'percent_complete': 0, 'job_type': 'TrainModel', 'loss': None, 'generations': 0, 'dataset_names': ['Crime_Reports_Train.csv'], 'artifact_names': None, 'model_name': 'Clearance Status_model20190422150542', 'job_error': ''}\n",
      "{'status': 'Running', 'starttime': '2019-04-22T15:12:48.293183', 'endtime': None, 'percent_complete': 0, 'job_type': 'TrainModel', 'loss': None, 'generations': 0, 'dataset_names': ['Crime_Reports_Train.csv'], 'artifact_names': None, 'model_name': 'Clearance Status_model20190422150542', 'job_error': ''}\n",
      "{'status': 'Running', 'starttime': '2019-04-22T15:12:48.293183', 'endtime': None, 'percent_complete': 0, 'job_type': 'TrainModel', 'loss': None, 'generations': 0, 'dataset_names': ['Crime_Reports_Train.csv'], 'artifact_names': None, 'model_name': 'Clearance Status_model20190422150542', 'job_error': ''}\n",
      "{'status': 'Running', 'starttime': '2019-04-22T15:12:48.293183', 'endtime': None, 'percent_complete': 0, 'job_type': 'TrainModel', 'loss': None, 'generations': 0, 'dataset_names': ['Crime_Reports_Train.csv'], 'artifact_names': None, 'model_name': 'Clearance Status_model20190422150542', 'job_error': ''}\n",
      "{'status': 'Running', 'starttime': '2019-04-22T15:12:48.293183', 'endtime': None, 'percent_complete': 0, 'job_type': 'TrainModel', 'loss': None, 'generations': 0, 'dataset_names': ['Crime_Reports_Train.csv'], 'artifact_names': None, 'model_name': 'Clearance Status_model20190422150542', 'job_error': ''}\n",
      "{'status': 'Running', 'starttime': '2019-04-22T15:12:48.293183', 'endtime': None, 'percent_complete': 0, 'job_type': 'TrainModel', 'loss': None, 'generations': 0, 'dataset_names': ['Crime_Reports_Train.csv'], 'artifact_names': None, 'model_name': 'Clearance Status_model20190422150542', 'job_error': ''}\n",
      "{'status': 'Running', 'starttime': '2019-04-22T15:12:48.293183', 'endtime': None, 'percent_complete': 0, 'job_type': 'TrainModel', 'loss': None, 'generations': 0, 'dataset_names': ['Crime_Reports_Train.csv'], 'artifact_names': None, 'model_name': 'Clearance Status_model20190422150542', 'job_error': ''}\n",
      "{'status': 'Running', 'starttime': '2019-04-22T15:12:48.293183', 'endtime': None, 'percent_complete': 0, 'job_type': 'TrainModel', 'loss': None, 'generations': 0, 'dataset_names': ['Crime_Reports_Train.csv'], 'artifact_names': None, 'model_name': 'Clearance Status_model20190422150542', 'job_error': ''}\n",
      "{'status': 'Running', 'starttime': '2019-04-22T15:12:48.293183', 'endtime': None, 'percent_complete': 3, 'job_type': 'TrainModel', 'loss': 0.4467881917953491, 'generations': 0, 'dataset_names': ['Crime_Reports_Train.csv'], 'artifact_names': None, 'model_name': 'Clearance Status_model20190422150542', 'job_error': ''}\n",
      "{'status': 'Running', 'starttime': '2019-04-22T15:12:48.293183', 'endtime': None, 'percent_complete': 3, 'job_type': 'TrainModel', 'loss': 0.4467881917953491, 'generations': 0, 'dataset_names': ['Crime_Reports_Train.csv'], 'artifact_names': None, 'model_name': 'Clearance Status_model20190422150542', 'job_error': ''}\n",
      "{'status': 'Running', 'starttime': '2019-04-22T15:12:48.293183', 'endtime': None, 'percent_complete': 3, 'job_type': 'TrainModel', 'loss': 0.4467881917953491, 'generations': 0, 'dataset_names': ['Crime_Reports_Train.csv'], 'artifact_names': None, 'model_name': 'Clearance Status_model20190422150542', 'job_error': ''}\n",
      "{'status': 'Running', 'starttime': '2019-04-22T15:12:48.293183', 'endtime': None, 'percent_complete': 3, 'job_type': 'TrainModel', 'loss': 0.4467881917953491, 'generations': 0, 'dataset_names': ['Crime_Reports_Train.csv'], 'artifact_names': None, 'model_name': 'Clearance Status_model20190422150542', 'job_error': ''}\n",
      "{'status': 'Running', 'starttime': '2019-04-22T15:12:48.293183', 'endtime': None, 'percent_complete': 3, 'job_type': 'TrainModel', 'loss': 0.4467881917953491, 'generations': 0, 'dataset_names': ['Crime_Reports_Train.csv'], 'artifact_names': None, 'model_name': 'Clearance Status_model20190422150542', 'job_error': ''}\n",
      "{'status': 'Running', 'starttime': '2019-04-22T15:12:48.293183', 'endtime': None, 'percent_complete': 3, 'job_type': 'TrainModel', 'loss': 0.4467881917953491, 'generations': 0, 'dataset_names': ['Crime_Reports_Train.csv'], 'artifact_names': None, 'model_name': 'Clearance Status_model20190422150542', 'job_error': ''}\n",
      "{'status': 'Running', 'starttime': '2019-04-22T15:12:48.293183', 'endtime': None, 'percent_complete': 3, 'job_type': 'TrainModel', 'loss': 0.4467881917953491, 'generations': 0, 'dataset_names': ['Crime_Reports_Train.csv'], 'artifact_names': None, 'model_name': 'Clearance Status_model20190422150542', 'job_error': ''}\n",
      "{'status': 'Running', 'starttime': '2019-04-22T15:12:48.293183', 'endtime': None, 'percent_complete': 3, 'job_type': 'TrainModel', 'loss': 0.4467881917953491, 'generations': 0, 'dataset_names': ['Crime_Reports_Train.csv'], 'artifact_names': None, 'model_name': 'Clearance Status_model20190422150542', 'job_error': ''}\n",
      "{'status': 'Running', 'starttime': '2019-04-22T15:12:48.293183', 'endtime': None, 'percent_complete': 3, 'job_type': 'TrainModel', 'loss': 0.4467881917953491, 'generations': 0, 'dataset_names': ['Crime_Reports_Train.csv'], 'artifact_names': None, 'model_name': 'Clearance Status_model20190422150542', 'job_error': ''}\n",
      "{'status': 'Running', 'starttime': '2019-04-22T15:12:48.293183', 'endtime': None, 'percent_complete': 3, 'job_type': 'TrainModel', 'loss': 0.4467881917953491, 'generations': 0, 'dataset_names': ['Crime_Reports_Train.csv'], 'artifact_names': None, 'model_name': 'Clearance Status_model20190422150542', 'job_error': ''}\n",
      "{'status': 'Running', 'starttime': '2019-04-22T15:12:48.293183', 'endtime': None, 'percent_complete': 3, 'job_type': 'TrainModel', 'loss': 0.4467881917953491, 'generations': 0, 'dataset_names': ['Crime_Reports_Train.csv'], 'artifact_names': None, 'model_name': 'Clearance Status_model20190422150542', 'job_error': ''}\n",
      "{'status': 'Running', 'starttime': '2019-04-22T15:12:48.293183', 'endtime': None, 'percent_complete': 3, 'job_type': 'TrainModel', 'loss': 0.4467881917953491, 'generations': 0, 'dataset_names': ['Crime_Reports_Train.csv'], 'artifact_names': None, 'model_name': 'Clearance Status_model20190422150542', 'job_error': ''}\n",
      "{'status': 'Running', 'starttime': '2019-04-22T15:12:48.293183', 'endtime': None, 'percent_complete': 3, 'job_type': 'TrainModel', 'loss': 0.4467881917953491, 'generations': 0, 'dataset_names': ['Crime_Reports_Train.csv'], 'artifact_names': None, 'model_name': 'Clearance Status_model20190422150542', 'job_error': ''}\n",
      "{'status': 'Running', 'starttime': '2019-04-22T15:12:48.293183', 'endtime': None, 'percent_complete': 3, 'job_type': 'TrainModel', 'loss': 0.4467881917953491, 'generations': 0, 'dataset_names': ['Crime_Reports_Train.csv'], 'artifact_names': None, 'model_name': 'Clearance Status_model20190422150542', 'job_error': ''}\n",
      "{'status': 'Running', 'starttime': '2019-04-22T15:12:48.293183', 'endtime': None, 'percent_complete': 3, 'job_type': 'TrainModel', 'loss': 0.4467881917953491, 'generations': 0, 'dataset_names': ['Crime_Reports_Train.csv'], 'artifact_names': None, 'model_name': 'Clearance Status_model20190422150542', 'job_error': ''}\n",
      "{'status': 'Running', 'starttime': '2019-04-22T15:12:48.293183', 'endtime': None, 'percent_complete': 3, 'job_type': 'TrainModel', 'loss': 0.4467881917953491, 'generations': 0, 'dataset_names': ['Crime_Reports_Train.csv'], 'artifact_names': None, 'model_name': 'Clearance Status_model20190422150542', 'job_error': ''}\n"
     ]
    },
    {
     "name": "stdout",
     "output_type": "stream",
     "text": [
      "{'status': 'Running', 'starttime': '2019-04-22T15:12:48.293183', 'endtime': None, 'percent_complete': 3, 'job_type': 'TrainModel', 'loss': 0.4467881917953491, 'generations': 0, 'dataset_names': ['Crime_Reports_Train.csv'], 'artifact_names': None, 'model_name': 'Clearance Status_model20190422150542', 'job_error': ''}\n",
      "{'status': 'Running', 'starttime': '2019-04-22T15:12:48.293183', 'endtime': None, 'percent_complete': 10, 'job_type': 'TrainModel', 'loss': 0.42655763030052185, 'generations': 1, 'dataset_names': ['Crime_Reports_Train.csv'], 'artifact_names': None, 'model_name': 'Clearance Status_model20190422150542', 'job_error': ''}\n",
      "{'status': 'Running', 'starttime': '2019-04-22T15:12:48.293183', 'endtime': None, 'percent_complete': 10, 'job_type': 'TrainModel', 'loss': 0.42655763030052185, 'generations': 1, 'dataset_names': ['Crime_Reports_Train.csv'], 'artifact_names': None, 'model_name': 'Clearance Status_model20190422150542', 'job_error': ''}\n",
      "{'status': 'Running', 'starttime': '2019-04-22T15:12:48.293183', 'endtime': None, 'percent_complete': 10, 'job_type': 'TrainModel', 'loss': 0.42655763030052185, 'generations': 1, 'dataset_names': ['Crime_Reports_Train.csv'], 'artifact_names': None, 'model_name': 'Clearance Status_model20190422150542', 'job_error': ''}\n",
      "{'status': 'Running', 'starttime': '2019-04-22T15:12:48.293183', 'endtime': None, 'percent_complete': 10, 'job_type': 'TrainModel', 'loss': 0.42655763030052185, 'generations': 1, 'dataset_names': ['Crime_Reports_Train.csv'], 'artifact_names': None, 'model_name': 'Clearance Status_model20190422150542', 'job_error': ''}\n",
      "{'status': 'Running', 'starttime': '2019-04-22T15:12:48.293183', 'endtime': None, 'percent_complete': 10, 'job_type': 'TrainModel', 'loss': 0.42655763030052185, 'generations': 1, 'dataset_names': ['Crime_Reports_Train.csv'], 'artifact_names': None, 'model_name': 'Clearance Status_model20190422150542', 'job_error': ''}\n",
      "{'status': 'Running', 'starttime': '2019-04-22T15:12:48.293183', 'endtime': None, 'percent_complete': 10, 'job_type': 'TrainModel', 'loss': 0.42655763030052185, 'generations': 1, 'dataset_names': ['Crime_Reports_Train.csv'], 'artifact_names': None, 'model_name': 'Clearance Status_model20190422150542', 'job_error': ''}\n",
      "{'status': 'Running', 'starttime': '2019-04-22T15:12:48.293183', 'endtime': None, 'percent_complete': 10, 'job_type': 'TrainModel', 'loss': 0.42655763030052185, 'generations': 1, 'dataset_names': ['Crime_Reports_Train.csv'], 'artifact_names': None, 'model_name': 'Clearance Status_model20190422150542', 'job_error': ''}\n",
      "{'status': 'Running', 'starttime': '2019-04-22T15:12:48.293183', 'endtime': None, 'percent_complete': 10, 'job_type': 'TrainModel', 'loss': 0.42655763030052185, 'generations': 1, 'dataset_names': ['Crime_Reports_Train.csv'], 'artifact_names': None, 'model_name': 'Clearance Status_model20190422150542', 'job_error': ''}\n",
      "{'status': 'Running', 'starttime': '2019-04-22T15:12:48.293183', 'endtime': None, 'percent_complete': 10, 'job_type': 'TrainModel', 'loss': 0.42655763030052185, 'generations': 1, 'dataset_names': ['Crime_Reports_Train.csv'], 'artifact_names': None, 'model_name': 'Clearance Status_model20190422150542', 'job_error': ''}\n",
      "{'status': 'Running', 'starttime': '2019-04-22T15:12:48.293183', 'endtime': None, 'percent_complete': 10, 'job_type': 'TrainModel', 'loss': 0.42655763030052185, 'generations': 1, 'dataset_names': ['Crime_Reports_Train.csv'], 'artifact_names': None, 'model_name': 'Clearance Status_model20190422150542', 'job_error': ''}\n",
      "{'status': 'Running', 'starttime': '2019-04-22T15:12:48.293183', 'endtime': None, 'percent_complete': 10, 'job_type': 'TrainModel', 'loss': 0.42655763030052185, 'generations': 1, 'dataset_names': ['Crime_Reports_Train.csv'], 'artifact_names': None, 'model_name': 'Clearance Status_model20190422150542', 'job_error': ''}\n",
      "{'status': 'Running', 'starttime': '2019-04-22T15:12:48.293183', 'endtime': None, 'percent_complete': 10, 'job_type': 'TrainModel', 'loss': 0.42655763030052185, 'generations': 1, 'dataset_names': ['Crime_Reports_Train.csv'], 'artifact_names': None, 'model_name': 'Clearance Status_model20190422150542', 'job_error': ''}\n",
      "{'status': 'Running', 'starttime': '2019-04-22T15:12:48.293183', 'endtime': None, 'percent_complete': 10, 'job_type': 'TrainModel', 'loss': 0.42655763030052185, 'generations': 1, 'dataset_names': ['Crime_Reports_Train.csv'], 'artifact_names': None, 'model_name': 'Clearance Status_model20190422150542', 'job_error': ''}\n",
      "{'status': 'Running', 'starttime': '2019-04-22T15:12:48.293183', 'endtime': None, 'percent_complete': 10, 'job_type': 'TrainModel', 'loss': 0.42655763030052185, 'generations': 1, 'dataset_names': ['Crime_Reports_Train.csv'], 'artifact_names': None, 'model_name': 'Clearance Status_model20190422150542', 'job_error': ''}\n"
     ]
    }
   ],
   "source": [
    "#Creating Model\n",
    "model = target + \"_model\" + ts\n",
    "status, message = ds.delete_model(model)\n",
    "print(status, message)\n",
    "status, job_id = ds.create_model(dataset_names = \"Crime_Reports_Train.csv\", \\\n",
    "                                 model_name =  model, \\\n",
    "                                 max_train_time = '01:00')\n",
    "if status:\n",
    "    ds.wait_for_job(job_id['job_name'])\n",
    "else:\n",
    "    print(job_id)\n",
    "    "
   ]
  },
  {
   "cell_type": "markdown",
   "metadata": {},
   "source": [
    "## Feature lmportance\n",
    "\n",
    "Once we create our model, we get our feature importance which we can use to further analyze our model."
   ]
  },
  {
   "cell_type": "code",
   "execution_count": 8,
   "metadata": {},
   "outputs": [
    {
     "name": "stdout",
     "output_type": "stream",
     "text": [
      "{'status': 'Requested', 'starttime': '2019-04-22T16:27:17.047551', 'endtime': None, 'percent_complete': 0, 'job_type': 'AnalyzeModel', 'loss': 0.41930097341537476, 'generations': 8, 'dataset_names': None, 'artifact_names': ['0618f9b8c6644901a6d34bd0133251df'], 'model_name': 'Clearance Status_model20190422150542', 'job_error': None}\n",
      "{'status': 'Requested', 'starttime': '2019-04-22T16:27:17.047551', 'endtime': None, 'percent_complete': 0, 'job_type': 'AnalyzeModel', 'loss': 0.41930097341537476, 'generations': 8, 'dataset_names': None, 'artifact_names': ['0618f9b8c6644901a6d34bd0133251df'], 'model_name': 'Clearance Status_model20190422150542', 'job_error': None}\n",
      "{'status': 'Requested', 'starttime': '2019-04-22T16:27:17.047551', 'endtime': None, 'percent_complete': 0, 'job_type': 'AnalyzeModel', 'loss': 0.41930097341537476, 'generations': 8, 'dataset_names': None, 'artifact_names': ['0618f9b8c6644901a6d34bd0133251df'], 'model_name': 'Clearance Status_model20190422150542', 'job_error': None}\n",
      "{'status': 'Requested', 'starttime': '2019-04-22T16:27:17.047551', 'endtime': None, 'percent_complete': 0, 'job_type': 'AnalyzeModel', 'loss': 0.41930097341537476, 'generations': 8, 'dataset_names': None, 'artifact_names': ['0618f9b8c6644901a6d34bd0133251df'], 'model_name': 'Clearance Status_model20190422150542', 'job_error': None}\n",
      "{'status': 'Requested', 'starttime': '2019-04-22T16:27:17.047551', 'endtime': None, 'percent_complete': 0, 'job_type': 'AnalyzeModel', 'loss': 0.41930097341537476, 'generations': 8, 'dataset_names': None, 'artifact_names': ['0618f9b8c6644901a6d34bd0133251df'], 'model_name': 'Clearance Status_model20190422150542', 'job_error': None}\n",
      "{'status': 'Requested', 'starttime': '2019-04-22T16:27:17.047551', 'endtime': None, 'percent_complete': 0, 'job_type': 'AnalyzeModel', 'loss': 0.41930097341537476, 'generations': 8, 'dataset_names': None, 'artifact_names': ['0618f9b8c6644901a6d34bd0133251df'], 'model_name': 'Clearance Status_model20190422150542', 'job_error': None}\n",
      "{'status': 'Requested', 'starttime': '2019-04-22T16:27:17.047551', 'endtime': None, 'percent_complete': 0, 'job_type': 'AnalyzeModel', 'loss': 0.41930097341537476, 'generations': 8, 'dataset_names': None, 'artifact_names': ['0618f9b8c6644901a6d34bd0133251df'], 'model_name': 'Clearance Status_model20190422150542', 'job_error': None}\n",
      "{'status': 'Requested', 'starttime': '2019-04-22T16:27:17.047551', 'endtime': None, 'percent_complete': 0, 'job_type': 'AnalyzeModel', 'loss': 0.41930097341537476, 'generations': 8, 'dataset_names': None, 'artifact_names': ['0618f9b8c6644901a6d34bd0133251df'], 'model_name': 'Clearance Status_model20190422150542', 'job_error': None}\n",
      "{'status': 'Requested', 'starttime': '2019-04-22T16:27:17.047551', 'endtime': None, 'percent_complete': 0, 'job_type': 'AnalyzeModel', 'loss': 0.41930097341537476, 'generations': 8, 'dataset_names': None, 'artifact_names': ['0618f9b8c6644901a6d34bd0133251df'], 'model_name': 'Clearance Status_model20190422150542', 'job_error': None}\n",
      "{'status': 'Requested', 'starttime': '2019-04-22T16:27:17.047551', 'endtime': None, 'percent_complete': 0, 'job_type': 'AnalyzeModel', 'loss': 0.41930097341537476, 'generations': 8, 'dataset_names': None, 'artifact_names': ['0618f9b8c6644901a6d34bd0133251df'], 'model_name': 'Clearance Status_model20190422150542', 'job_error': None}\n",
      "{'status': 'Requested', 'starttime': '2019-04-22T16:27:17.047551', 'endtime': None, 'percent_complete': 0, 'job_type': 'AnalyzeModel', 'loss': 0.41930097341537476, 'generations': 8, 'dataset_names': None, 'artifact_names': ['0618f9b8c6644901a6d34bd0133251df'], 'model_name': 'Clearance Status_model20190422150542', 'job_error': None}\n",
      "{'status': 'Requested', 'starttime': '2019-04-22T16:27:17.047551', 'endtime': None, 'percent_complete': 0, 'job_type': 'AnalyzeModel', 'loss': 0.41930097341537476, 'generations': 8, 'dataset_names': None, 'artifact_names': ['0618f9b8c6644901a6d34bd0133251df'], 'model_name': 'Clearance Status_model20190422150542', 'job_error': None}\n",
      "{'status': 'Requested', 'starttime': '2019-04-22T16:27:17.047551', 'endtime': None, 'percent_complete': 0, 'job_type': 'AnalyzeModel', 'loss': 0.41930097341537476, 'generations': 8, 'dataset_names': None, 'artifact_names': ['0618f9b8c6644901a6d34bd0133251df'], 'model_name': 'Clearance Status_model20190422150542', 'job_error': None}\n",
      "{'status': 'Requested', 'starttime': '2019-04-22T16:27:17.047551', 'endtime': None, 'percent_complete': 0, 'job_type': 'AnalyzeModel', 'loss': 0.41930097341537476, 'generations': 8, 'dataset_names': None, 'artifact_names': ['0618f9b8c6644901a6d34bd0133251df'], 'model_name': 'Clearance Status_model20190422150542', 'job_error': None}\n",
      "{'status': 'Requested', 'starttime': '2019-04-22T16:27:17.047551', 'endtime': None, 'percent_complete': 0, 'job_type': 'AnalyzeModel', 'loss': 0.41930097341537476, 'generations': 8, 'dataset_names': None, 'artifact_names': ['0618f9b8c6644901a6d34bd0133251df'], 'model_name': 'Clearance Status_model20190422150542', 'job_error': None}\n",
      "{'status': 'Requested', 'starttime': '2019-04-22T16:27:17.047551', 'endtime': None, 'percent_complete': 0, 'job_type': 'AnalyzeModel', 'loss': 0.41930097341537476, 'generations': 8, 'dataset_names': None, 'artifact_names': ['0618f9b8c6644901a6d34bd0133251df'], 'model_name': 'Clearance Status_model20190422150542', 'job_error': None}\n",
      "{'status': 'Requested', 'starttime': '2019-04-22T16:27:17.047551', 'endtime': None, 'percent_complete': 0, 'job_type': 'AnalyzeModel', 'loss': 0.41930097341537476, 'generations': 8, 'dataset_names': None, 'artifact_names': ['0618f9b8c6644901a6d34bd0133251df'], 'model_name': 'Clearance Status_model20190422150542', 'job_error': None}\n",
      "{'status': 'Requested', 'starttime': '2019-04-22T16:27:17.047551', 'endtime': None, 'percent_complete': 0, 'job_type': 'AnalyzeModel', 'loss': 0.41930097341537476, 'generations': 8, 'dataset_names': None, 'artifact_names': ['0618f9b8c6644901a6d34bd0133251df'], 'model_name': 'Clearance Status_model20190422150542', 'job_error': None}\n",
      "{'status': 'Requested', 'starttime': '2019-04-22T16:27:17.047551', 'endtime': None, 'percent_complete': 0, 'job_type': 'AnalyzeModel', 'loss': 0.41930097341537476, 'generations': 8, 'dataset_names': None, 'artifact_names': ['0618f9b8c6644901a6d34bd0133251df'], 'model_name': 'Clearance Status_model20190422150542', 'job_error': None}\n",
      "{'status': 'Requested', 'starttime': '2019-04-22T16:27:17.047551', 'endtime': None, 'percent_complete': 0, 'job_type': 'AnalyzeModel', 'loss': 0.41930097341537476, 'generations': 8, 'dataset_names': None, 'artifact_names': ['0618f9b8c6644901a6d34bd0133251df'], 'model_name': 'Clearance Status_model20190422150542', 'job_error': None}\n",
      "{'status': 'Requested', 'starttime': '2019-04-22T16:27:17.047551', 'endtime': None, 'percent_complete': 0, 'job_type': 'AnalyzeModel', 'loss': 0.41930097341537476, 'generations': 8, 'dataset_names': None, 'artifact_names': ['0618f9b8c6644901a6d34bd0133251df'], 'model_name': 'Clearance Status_model20190422150542', 'job_error': None}\n",
      "{'status': 'Running', 'starttime': '2019-04-22T16:27:17.047551', 'endtime': None, 'percent_complete': 0, 'job_type': 'AnalyzeModel', 'loss': 0.41930097341537476, 'generations': 8, 'dataset_names': None, 'artifact_names': ['0618f9b8c6644901a6d34bd0133251df'], 'model_name': 'Clearance Status_model20190422150542', 'job_error': ''}\n",
      "{'status': 'Running', 'starttime': '2019-04-22T16:27:17.047551', 'endtime': None, 'percent_complete': 0, 'job_type': 'AnalyzeModel', 'loss': 0.41930097341537476, 'generations': 8, 'dataset_names': None, 'artifact_names': ['0618f9b8c6644901a6d34bd0133251df'], 'model_name': 'Clearance Status_model20190422150542', 'job_error': ''}\n",
      "{'status': 'Running', 'starttime': '2019-04-22T16:27:17.047551', 'endtime': None, 'percent_complete': 0, 'job_type': 'AnalyzeModel', 'loss': 0.41930097341537476, 'generations': 8, 'dataset_names': None, 'artifact_names': ['0618f9b8c6644901a6d34bd0133251df'], 'model_name': 'Clearance Status_model20190422150542', 'job_error': ''}\n",
      "{'status': 'Complete', 'starttime': '2019-04-22T16:27:17.047551', 'endtime': '2019-04-22T16:33:18.278432', 'percent_complete': 100, 'job_type': 'AnalyzeModel', 'loss': 0.41930097341537476, 'generations': 8, 'dataset_names': None, 'artifact_names': ['0618f9b8c6644901a6d34bd0133251df'], 'model_name': 'Clearance Status_model20190422150542', 'job_error': ''}\n"
     ]
    }
   ],
   "source": [
    "#Analyzing Models\n",
    "# model = 'Clearance Status_model20190422150542'\n",
    "status, artifact = ds.analyze_model(model)\n",
    "sleep(1)\n",
    "if status:\n",
    "    ds.wait_for_job(artifact['job_name'])\n",
    "else:\n",
    "    print(artifact)\n",
    "status, feature_importance = ds.download_artifact(artifact['artifact_name'])"
   ]
  },
  {
   "cell_type": "code",
   "execution_count": 62,
   "metadata": {
    "scrolled": false
   },
   "outputs": [
    {
     "data": {
      "image/png": "[encoded data removed]",
      "text/plain": [
       "<Figure size 432x288 with 1 Axes>"
      ]
     },
     "metadata": {},
     "output_type": "display_data"
    }
   ],
   "source": [
    "x=feature_importance[:9].append(pd.Series(sum(feature_importance[9:])))\n",
    "labels=feature_importance.index[:9].append(pd.Index([\"Others\"]))\n",
    "plt.pie(x, labels=labels, rotatelabels=False)\n",
    "plt.show()"
   ]
  },
  {
   "cell_type": "code",
   "execution_count": null,
   "metadata": {},
   "outputs": [],
   "source": []
  },
  {
   "cell_type": "markdown",
   "metadata": {},
   "source": [
    "## Upload Test Data\n",
    "\n",
    "We follow the same process that we used for uploading our training data, but instead, we are uploading the dataset that Darwin will use to test our data."
   ]
  },
  {
   "cell_type": "code",
   "execution_count": 12,
   "metadata": {},
   "outputs": [
    {
     "name": "stdout",
     "output_type": "stream",
     "text": [
      "True None\n",
      "{'status': 'Requested', 'starttime': '2019-04-22T17:11:56.839285', 'endtime': None, 'percent_complete': 0, 'job_type': 'CleanDataTiny', 'loss': None, 'generations': None, 'dataset_names': ['Crime_Reports_Test.csv'], 'artifact_names': ['71b3c2f2cc3a4863bd35ce72b15681ee'], 'model_name': None, 'job_error': None}\n",
      "{'status': 'Requested', 'starttime': '2019-04-22T17:11:56.839285', 'endtime': None, 'percent_complete': 0, 'job_type': 'CleanDataTiny', 'loss': None, 'generations': None, 'dataset_names': ['Crime_Reports_Test.csv'], 'artifact_names': ['71b3c2f2cc3a4863bd35ce72b15681ee'], 'model_name': None, 'job_error': None}\n",
      "{'status': 'Requested', 'starttime': '2019-04-22T17:11:56.839285', 'endtime': None, 'percent_complete': 0, 'job_type': 'CleanDataTiny', 'loss': None, 'generations': None, 'dataset_names': ['Crime_Reports_Test.csv'], 'artifact_names': ['71b3c2f2cc3a4863bd35ce72b15681ee'], 'model_name': None, 'job_error': None}\n",
      "{'status': 'Requested', 'starttime': '2019-04-22T17:11:56.839285', 'endtime': None, 'percent_complete': 0, 'job_type': 'CleanDataTiny', 'loss': None, 'generations': None, 'dataset_names': ['Crime_Reports_Test.csv'], 'artifact_names': ['71b3c2f2cc3a4863bd35ce72b15681ee'], 'model_name': None, 'job_error': None}\n",
      "{'status': 'Requested', 'starttime': '2019-04-22T17:11:56.839285', 'endtime': None, 'percent_complete': 0, 'job_type': 'CleanDataTiny', 'loss': None, 'generations': None, 'dataset_names': ['Crime_Reports_Test.csv'], 'artifact_names': ['71b3c2f2cc3a4863bd35ce72b15681ee'], 'model_name': None, 'job_error': None}\n",
      "{'status': 'Requested', 'starttime': '2019-04-22T17:11:56.839285', 'endtime': None, 'percent_complete': 0, 'job_type': 'CleanDataTiny', 'loss': None, 'generations': None, 'dataset_names': ['Crime_Reports_Test.csv'], 'artifact_names': ['71b3c2f2cc3a4863bd35ce72b15681ee'], 'model_name': None, 'job_error': None}\n",
      "{'status': 'Requested', 'starttime': '2019-04-22T17:11:56.839285', 'endtime': None, 'percent_complete': 0, 'job_type': 'CleanDataTiny', 'loss': None, 'generations': None, 'dataset_names': ['Crime_Reports_Test.csv'], 'artifact_names': ['71b3c2f2cc3a4863bd35ce72b15681ee'], 'model_name': None, 'job_error': None}\n",
      "{'status': 'Requested', 'starttime': '2019-04-22T17:11:56.839285', 'endtime': None, 'percent_complete': 0, 'job_type': 'CleanDataTiny', 'loss': None, 'generations': None, 'dataset_names': ['Crime_Reports_Test.csv'], 'artifact_names': ['71b3c2f2cc3a4863bd35ce72b15681ee'], 'model_name': None, 'job_error': None}\n",
      "{'status': 'Requested', 'starttime': '2019-04-22T17:11:56.839285', 'endtime': None, 'percent_complete': 0, 'job_type': 'CleanDataTiny', 'loss': None, 'generations': None, 'dataset_names': ['Crime_Reports_Test.csv'], 'artifact_names': ['71b3c2f2cc3a4863bd35ce72b15681ee'], 'model_name': None, 'job_error': None}\n",
      "{'status': 'Requested', 'starttime': '2019-04-22T17:11:56.839285', 'endtime': None, 'percent_complete': 0, 'job_type': 'CleanDataTiny', 'loss': None, 'generations': None, 'dataset_names': ['Crime_Reports_Test.csv'], 'artifact_names': ['71b3c2f2cc3a4863bd35ce72b15681ee'], 'model_name': None, 'job_error': None}\n",
      "{'status': 'Requested', 'starttime': '2019-04-22T17:11:56.839285', 'endtime': None, 'percent_complete': 0, 'job_type': 'CleanDataTiny', 'loss': None, 'generations': None, 'dataset_names': ['Crime_Reports_Test.csv'], 'artifact_names': ['71b3c2f2cc3a4863bd35ce72b15681ee'], 'model_name': None, 'job_error': None}\n",
      "{'status': 'Requested', 'starttime': '2019-04-22T17:11:56.839285', 'endtime': None, 'percent_complete': 0, 'job_type': 'CleanDataTiny', 'loss': None, 'generations': None, 'dataset_names': ['Crime_Reports_Test.csv'], 'artifact_names': ['71b3c2f2cc3a4863bd35ce72b15681ee'], 'model_name': None, 'job_error': None}\n",
      "{'status': 'Requested', 'starttime': '2019-04-22T17:11:56.839285', 'endtime': None, 'percent_complete': 0, 'job_type': 'CleanDataTiny', 'loss': None, 'generations': None, 'dataset_names': ['Crime_Reports_Test.csv'], 'artifact_names': ['71b3c2f2cc3a4863bd35ce72b15681ee'], 'model_name': None, 'job_error': None}\n",
      "{'status': 'Requested', 'starttime': '2019-04-22T17:11:56.839285', 'endtime': None, 'percent_complete': 0, 'job_type': 'CleanDataTiny', 'loss': None, 'generations': None, 'dataset_names': ['Crime_Reports_Test.csv'], 'artifact_names': ['71b3c2f2cc3a4863bd35ce72b15681ee'], 'model_name': None, 'job_error': None}\n",
      "{'status': 'Requested', 'starttime': '2019-04-22T17:11:56.839285', 'endtime': None, 'percent_complete': 0, 'job_type': 'CleanDataTiny', 'loss': None, 'generations': None, 'dataset_names': ['Crime_Reports_Test.csv'], 'artifact_names': ['71b3c2f2cc3a4863bd35ce72b15681ee'], 'model_name': None, 'job_error': None}\n",
      "{'status': 'Requested', 'starttime': '2019-04-22T17:11:56.839285', 'endtime': None, 'percent_complete': 0, 'job_type': 'CleanDataTiny', 'loss': None, 'generations': None, 'dataset_names': ['Crime_Reports_Test.csv'], 'artifact_names': ['71b3c2f2cc3a4863bd35ce72b15681ee'], 'model_name': None, 'job_error': None}\n",
      "{'status': 'Requested', 'starttime': '2019-04-22T17:11:56.839285', 'endtime': None, 'percent_complete': 0, 'job_type': 'CleanDataTiny', 'loss': None, 'generations': None, 'dataset_names': ['Crime_Reports_Test.csv'], 'artifact_names': ['71b3c2f2cc3a4863bd35ce72b15681ee'], 'model_name': None, 'job_error': None}\n",
      "{'status': 'Requested', 'starttime': '2019-04-22T17:11:56.839285', 'endtime': None, 'percent_complete': 0, 'job_type': 'CleanDataTiny', 'loss': None, 'generations': None, 'dataset_names': ['Crime_Reports_Test.csv'], 'artifact_names': ['71b3c2f2cc3a4863bd35ce72b15681ee'], 'model_name': None, 'job_error': None}\n",
      "{'status': 'Requested', 'starttime': '2019-04-22T17:11:56.839285', 'endtime': None, 'percent_complete': 0, 'job_type': 'CleanDataTiny', 'loss': None, 'generations': None, 'dataset_names': ['Crime_Reports_Test.csv'], 'artifact_names': ['71b3c2f2cc3a4863bd35ce72b15681ee'], 'model_name': None, 'job_error': None}\n",
      "{'status': 'Requested', 'starttime': '2019-04-22T17:11:56.839285', 'endtime': None, 'percent_complete': 0, 'job_type': 'CleanDataTiny', 'loss': None, 'generations': None, 'dataset_names': ['Crime_Reports_Test.csv'], 'artifact_names': ['71b3c2f2cc3a4863bd35ce72b15681ee'], 'model_name': None, 'job_error': None}\n",
      "{'status': 'Requested', 'starttime': '2019-04-22T17:11:56.839285', 'endtime': None, 'percent_complete': 0, 'job_type': 'CleanDataTiny', 'loss': None, 'generations': None, 'dataset_names': ['Crime_Reports_Test.csv'], 'artifact_names': ['71b3c2f2cc3a4863bd35ce72b15681ee'], 'model_name': None, 'job_error': None}\n",
      "{'status': 'Requested', 'starttime': '2019-04-22T17:11:56.839285', 'endtime': None, 'percent_complete': 0, 'job_type': 'CleanDataTiny', 'loss': None, 'generations': None, 'dataset_names': ['Crime_Reports_Test.csv'], 'artifact_names': ['71b3c2f2cc3a4863bd35ce72b15681ee'], 'model_name': None, 'job_error': None}\n",
      "{'status': 'Requested', 'starttime': '2019-04-22T17:11:56.839285', 'endtime': None, 'percent_complete': 0, 'job_type': 'CleanDataTiny', 'loss': None, 'generations': None, 'dataset_names': ['Crime_Reports_Test.csv'], 'artifact_names': ['71b3c2f2cc3a4863bd35ce72b15681ee'], 'model_name': None, 'job_error': None}\n",
      "{'status': 'Requested', 'starttime': '2019-04-22T17:11:56.839285', 'endtime': None, 'percent_complete': 0, 'job_type': 'CleanDataTiny', 'loss': None, 'generations': None, 'dataset_names': ['Crime_Reports_Test.csv'], 'artifact_names': ['71b3c2f2cc3a4863bd35ce72b15681ee'], 'model_name': None, 'job_error': None}\n",
      "{'status': 'Requested', 'starttime': '2019-04-22T17:11:56.839285', 'endtime': None, 'percent_complete': 0, 'job_type': 'CleanDataTiny', 'loss': None, 'generations': None, 'dataset_names': ['Crime_Reports_Test.csv'], 'artifact_names': ['71b3c2f2cc3a4863bd35ce72b15681ee'], 'model_name': None, 'job_error': None}\n",
      "{'status': 'Requested', 'starttime': '2019-04-22T17:11:56.839285', 'endtime': None, 'percent_complete': 0, 'job_type': 'CleanDataTiny', 'loss': None, 'generations': None, 'dataset_names': ['Crime_Reports_Test.csv'], 'artifact_names': ['71b3c2f2cc3a4863bd35ce72b15681ee'], 'model_name': None, 'job_error': None}\n",
      "{'status': 'Requested', 'starttime': '2019-04-22T17:11:56.839285', 'endtime': None, 'percent_complete': 0, 'job_type': 'CleanDataTiny', 'loss': None, 'generations': None, 'dataset_names': ['Crime_Reports_Test.csv'], 'artifact_names': ['71b3c2f2cc3a4863bd35ce72b15681ee'], 'model_name': None, 'job_error': None}\n"
     ]
    },
    {
     "name": "stdout",
     "output_type": "stream",
     "text": [
      "{'status': 'Requested', 'starttime': '2019-04-22T17:11:56.839285', 'endtime': None, 'percent_complete': 0, 'job_type': 'CleanDataTiny', 'loss': None, 'generations': None, 'dataset_names': ['Crime_Reports_Test.csv'], 'artifact_names': ['71b3c2f2cc3a4863bd35ce72b15681ee'], 'model_name': None, 'job_error': None}\n",
      "{'status': 'Requested', 'starttime': '2019-04-22T17:11:56.839285', 'endtime': None, 'percent_complete': 0, 'job_type': 'CleanDataTiny', 'loss': None, 'generations': None, 'dataset_names': ['Crime_Reports_Test.csv'], 'artifact_names': ['71b3c2f2cc3a4863bd35ce72b15681ee'], 'model_name': None, 'job_error': None}\n",
      "{'status': 'Requested', 'starttime': '2019-04-22T17:11:56.839285', 'endtime': None, 'percent_complete': 0, 'job_type': 'CleanDataTiny', 'loss': None, 'generations': None, 'dataset_names': ['Crime_Reports_Test.csv'], 'artifact_names': ['71b3c2f2cc3a4863bd35ce72b15681ee'], 'model_name': None, 'job_error': None}\n",
      "{'status': 'Requested', 'starttime': '2019-04-22T17:11:56.839285', 'endtime': None, 'percent_complete': 0, 'job_type': 'CleanDataTiny', 'loss': None, 'generations': None, 'dataset_names': ['Crime_Reports_Test.csv'], 'artifact_names': ['71b3c2f2cc3a4863bd35ce72b15681ee'], 'model_name': None, 'job_error': None}\n",
      "{'status': 'Requested', 'starttime': '2019-04-22T17:11:56.839285', 'endtime': None, 'percent_complete': 0, 'job_type': 'CleanDataTiny', 'loss': None, 'generations': None, 'dataset_names': ['Crime_Reports_Test.csv'], 'artifact_names': ['71b3c2f2cc3a4863bd35ce72b15681ee'], 'model_name': None, 'job_error': None}\n",
      "{'status': 'Requested', 'starttime': '2019-04-22T17:11:56.839285', 'endtime': None, 'percent_complete': 0, 'job_type': 'CleanDataTiny', 'loss': None, 'generations': None, 'dataset_names': ['Crime_Reports_Test.csv'], 'artifact_names': ['71b3c2f2cc3a4863bd35ce72b15681ee'], 'model_name': None, 'job_error': None}\n",
      "{'status': 'Requested', 'starttime': '2019-04-22T17:11:56.839285', 'endtime': None, 'percent_complete': 0, 'job_type': 'CleanDataTiny', 'loss': None, 'generations': None, 'dataset_names': ['Crime_Reports_Test.csv'], 'artifact_names': ['71b3c2f2cc3a4863bd35ce72b15681ee'], 'model_name': None, 'job_error': None}\n",
      "{'status': 'Requested', 'starttime': '2019-04-22T17:11:56.839285', 'endtime': None, 'percent_complete': 0, 'job_type': 'CleanDataTiny', 'loss': None, 'generations': None, 'dataset_names': ['Crime_Reports_Test.csv'], 'artifact_names': ['71b3c2f2cc3a4863bd35ce72b15681ee'], 'model_name': None, 'job_error': None}\n",
      "{'status': 'Requested', 'starttime': '2019-04-22T17:11:56.839285', 'endtime': None, 'percent_complete': 0, 'job_type': 'CleanDataTiny', 'loss': None, 'generations': None, 'dataset_names': ['Crime_Reports_Test.csv'], 'artifact_names': ['71b3c2f2cc3a4863bd35ce72b15681ee'], 'model_name': None, 'job_error': None}\n",
      "{'status': 'Requested', 'starttime': '2019-04-22T17:11:56.839285', 'endtime': None, 'percent_complete': 0, 'job_type': 'CleanDataTiny', 'loss': None, 'generations': None, 'dataset_names': ['Crime_Reports_Test.csv'], 'artifact_names': ['71b3c2f2cc3a4863bd35ce72b15681ee'], 'model_name': None, 'job_error': None}\n",
      "{'status': 'Requested', 'starttime': '2019-04-22T17:11:56.839285', 'endtime': None, 'percent_complete': 0, 'job_type': 'CleanDataTiny', 'loss': None, 'generations': None, 'dataset_names': ['Crime_Reports_Test.csv'], 'artifact_names': ['71b3c2f2cc3a4863bd35ce72b15681ee'], 'model_name': None, 'job_error': None}\n",
      "{'status': 'Requested', 'starttime': '2019-04-22T17:11:56.839285', 'endtime': None, 'percent_complete': 0, 'job_type': 'CleanDataTiny', 'loss': None, 'generations': None, 'dataset_names': ['Crime_Reports_Test.csv'], 'artifact_names': ['71b3c2f2cc3a4863bd35ce72b15681ee'], 'model_name': None, 'job_error': None}\n",
      "{'status': 'Requested', 'starttime': '2019-04-22T17:11:56.839285', 'endtime': None, 'percent_complete': 0, 'job_type': 'CleanDataTiny', 'loss': None, 'generations': None, 'dataset_names': ['Crime_Reports_Test.csv'], 'artifact_names': ['71b3c2f2cc3a4863bd35ce72b15681ee'], 'model_name': None, 'job_error': None}\n",
      "{'status': 'Running', 'starttime': '2019-04-22T17:11:56.839285', 'endtime': None, 'percent_complete': 0, 'job_type': 'CleanDataTiny', 'loss': None, 'generations': None, 'dataset_names': ['Crime_Reports_Test.csv'], 'artifact_names': ['71b3c2f2cc3a4863bd35ce72b15681ee'], 'model_name': None, 'job_error': ''}\n"
     ]
    }
   ],
   "source": [
    "#Upload Test Data\n",
    "status, message = ds.delete_dataset(\"Crime_Reports_Test.csv\")\n",
    "print(status, message)\n",
    "status, dataset = ds.upload_dataset(\"Crime_Reports_Test.csv\")\n",
    "if not status:\n",
    "    print(dataset)\n",
    "    \n",
    "#Clean Test Data\n",
    "status, job_id = ds.clean_data(\"Crime_Reports_Test.csv\", target = target, model_name = model)\n",
    "if status:\n",
    "    ds.wait_for_job(job_id['job_name'])\n",
    "else:\n",
    "    print(job_id)"
   ]
  },
  {
   "cell_type": "markdown",
   "metadata": {},
   "source": [
    "## Run Model and Results\n",
    "\n",
    "We run our model on our test data, and receive our results. Our results include precision, recall, and f1-score. We also check out which model Darwin decided "
   ]
  },
  {
   "cell_type": "code",
   "execution_count": 14,
   "metadata": {},
   "outputs": [
    {
     "name": "stdout",
     "output_type": "stream",
     "text": [
      "{'status': 'Requested', 'starttime': '2019-04-22T17:37:46.219795', 'endtime': None, 'percent_complete': 0, 'job_type': 'RunModel', 'loss': 0.41930097341537476, 'generations': 8, 'dataset_names': ['Crime_Reports_Test.csv'], 'artifact_names': ['af1109bbe68a47e4a52dedd9ec9c9a0b'], 'model_name': 'Clearance Status_model20190422150542', 'job_error': None}\n",
      "{'status': 'Requested', 'starttime': '2019-04-22T17:37:46.219795', 'endtime': None, 'percent_complete': 0, 'job_type': 'RunModel', 'loss': 0.41930097341537476, 'generations': 8, 'dataset_names': ['Crime_Reports_Test.csv'], 'artifact_names': ['af1109bbe68a47e4a52dedd9ec9c9a0b'], 'model_name': 'Clearance Status_model20190422150542', 'job_error': None}\n",
      "{'status': 'Requested', 'starttime': '2019-04-22T17:37:46.219795', 'endtime': None, 'percent_complete': 0, 'job_type': 'RunModel', 'loss': 0.41930097341537476, 'generations': 8, 'dataset_names': ['Crime_Reports_Test.csv'], 'artifact_names': ['af1109bbe68a47e4a52dedd9ec9c9a0b'], 'model_name': 'Clearance Status_model20190422150542', 'job_error': None}\n",
      "{'status': 'Requested', 'starttime': '2019-04-22T17:37:46.219795', 'endtime': None, 'percent_complete': 0, 'job_type': 'RunModel', 'loss': 0.41930097341537476, 'generations': 8, 'dataset_names': ['Crime_Reports_Test.csv'], 'artifact_names': ['af1109bbe68a47e4a52dedd9ec9c9a0b'], 'model_name': 'Clearance Status_model20190422150542', 'job_error': None}\n",
      "{'status': 'Requested', 'starttime': '2019-04-22T17:37:46.219795', 'endtime': None, 'percent_complete': 0, 'job_type': 'RunModel', 'loss': 0.41930097341537476, 'generations': 8, 'dataset_names': ['Crime_Reports_Test.csv'], 'artifact_names': ['af1109bbe68a47e4a52dedd9ec9c9a0b'], 'model_name': 'Clearance Status_model20190422150542', 'job_error': None}\n",
      "{'status': 'Requested', 'starttime': '2019-04-22T17:37:46.219795', 'endtime': None, 'percent_complete': 0, 'job_type': 'RunModel', 'loss': 0.41930097341537476, 'generations': 8, 'dataset_names': ['Crime_Reports_Test.csv'], 'artifact_names': ['af1109bbe68a47e4a52dedd9ec9c9a0b'], 'model_name': 'Clearance Status_model20190422150542', 'job_error': None}\n",
      "{'status': 'Requested', 'starttime': '2019-04-22T17:37:46.219795', 'endtime': None, 'percent_complete': 0, 'job_type': 'RunModel', 'loss': 0.41930097341537476, 'generations': 8, 'dataset_names': ['Crime_Reports_Test.csv'], 'artifact_names': ['af1109bbe68a47e4a52dedd9ec9c9a0b'], 'model_name': 'Clearance Status_model20190422150542', 'job_error': None}\n",
      "{'status': 'Requested', 'starttime': '2019-04-22T17:37:46.219795', 'endtime': None, 'percent_complete': 0, 'job_type': 'RunModel', 'loss': 0.41930097341537476, 'generations': 8, 'dataset_names': ['Crime_Reports_Test.csv'], 'artifact_names': ['af1109bbe68a47e4a52dedd9ec9c9a0b'], 'model_name': 'Clearance Status_model20190422150542', 'job_error': None}\n",
      "{'status': 'Requested', 'starttime': '2019-04-22T17:37:46.219795', 'endtime': None, 'percent_complete': 0, 'job_type': 'RunModel', 'loss': 0.41930097341537476, 'generations': 8, 'dataset_names': ['Crime_Reports_Test.csv'], 'artifact_names': ['af1109bbe68a47e4a52dedd9ec9c9a0b'], 'model_name': 'Clearance Status_model20190422150542', 'job_error': None}\n",
      "{'status': 'Requested', 'starttime': '2019-04-22T17:37:46.219795', 'endtime': None, 'percent_complete': 0, 'job_type': 'RunModel', 'loss': 0.41930097341537476, 'generations': 8, 'dataset_names': ['Crime_Reports_Test.csv'], 'artifact_names': ['af1109bbe68a47e4a52dedd9ec9c9a0b'], 'model_name': 'Clearance Status_model20190422150542', 'job_error': None}\n",
      "{'status': 'Requested', 'starttime': '2019-04-22T17:37:46.219795', 'endtime': None, 'percent_complete': 0, 'job_type': 'RunModel', 'loss': 0.41930097341537476, 'generations': 8, 'dataset_names': ['Crime_Reports_Test.csv'], 'artifact_names': ['af1109bbe68a47e4a52dedd9ec9c9a0b'], 'model_name': 'Clearance Status_model20190422150542', 'job_error': None}\n",
      "{'status': 'Requested', 'starttime': '2019-04-22T17:37:46.219795', 'endtime': None, 'percent_complete': 0, 'job_type': 'RunModel', 'loss': 0.41930097341537476, 'generations': 8, 'dataset_names': ['Crime_Reports_Test.csv'], 'artifact_names': ['af1109bbe68a47e4a52dedd9ec9c9a0b'], 'model_name': 'Clearance Status_model20190422150542', 'job_error': None}\n",
      "{'status': 'Requested', 'starttime': '2019-04-22T17:37:46.219795', 'endtime': None, 'percent_complete': 0, 'job_type': 'RunModel', 'loss': 0.41930097341537476, 'generations': 8, 'dataset_names': ['Crime_Reports_Test.csv'], 'artifact_names': ['af1109bbe68a47e4a52dedd9ec9c9a0b'], 'model_name': 'Clearance Status_model20190422150542', 'job_error': None}\n",
      "{'status': 'Requested', 'starttime': '2019-04-22T17:37:46.219795', 'endtime': None, 'percent_complete': 0, 'job_type': 'RunModel', 'loss': 0.41930097341537476, 'generations': 8, 'dataset_names': ['Crime_Reports_Test.csv'], 'artifact_names': ['af1109bbe68a47e4a52dedd9ec9c9a0b'], 'model_name': 'Clearance Status_model20190422150542', 'job_error': None}\n",
      "{'status': 'Requested', 'starttime': '2019-04-22T17:37:46.219795', 'endtime': None, 'percent_complete': 0, 'job_type': 'RunModel', 'loss': 0.41930097341537476, 'generations': 8, 'dataset_names': ['Crime_Reports_Test.csv'], 'artifact_names': ['af1109bbe68a47e4a52dedd9ec9c9a0b'], 'model_name': 'Clearance Status_model20190422150542', 'job_error': None}\n",
      "{'status': 'Requested', 'starttime': '2019-04-22T17:37:46.219795', 'endtime': None, 'percent_complete': 0, 'job_type': 'RunModel', 'loss': 0.41930097341537476, 'generations': 8, 'dataset_names': ['Crime_Reports_Test.csv'], 'artifact_names': ['af1109bbe68a47e4a52dedd9ec9c9a0b'], 'model_name': 'Clearance Status_model20190422150542', 'job_error': None}\n",
      "{'status': 'Requested', 'starttime': '2019-04-22T17:37:46.219795', 'endtime': None, 'percent_complete': 0, 'job_type': 'RunModel', 'loss': 0.41930097341537476, 'generations': 8, 'dataset_names': ['Crime_Reports_Test.csv'], 'artifact_names': ['af1109bbe68a47e4a52dedd9ec9c9a0b'], 'model_name': 'Clearance Status_model20190422150542', 'job_error': None}\n",
      "{'status': 'Requested', 'starttime': '2019-04-22T17:37:46.219795', 'endtime': None, 'percent_complete': 0, 'job_type': 'RunModel', 'loss': 0.41930097341537476, 'generations': 8, 'dataset_names': ['Crime_Reports_Test.csv'], 'artifact_names': ['af1109bbe68a47e4a52dedd9ec9c9a0b'], 'model_name': 'Clearance Status_model20190422150542', 'job_error': None}\n",
      "{'status': 'Requested', 'starttime': '2019-04-22T17:37:46.219795', 'endtime': None, 'percent_complete': 0, 'job_type': 'RunModel', 'loss': 0.41930097341537476, 'generations': 8, 'dataset_names': ['Crime_Reports_Test.csv'], 'artifact_names': ['af1109bbe68a47e4a52dedd9ec9c9a0b'], 'model_name': 'Clearance Status_model20190422150542', 'job_error': None}\n",
      "{'status': 'Requested', 'starttime': '2019-04-22T17:37:46.219795', 'endtime': None, 'percent_complete': 0, 'job_type': 'RunModel', 'loss': 0.41930097341537476, 'generations': 8, 'dataset_names': ['Crime_Reports_Test.csv'], 'artifact_names': ['af1109bbe68a47e4a52dedd9ec9c9a0b'], 'model_name': 'Clearance Status_model20190422150542', 'job_error': None}\n",
      "{'status': 'Requested', 'starttime': '2019-04-22T17:37:46.219795', 'endtime': None, 'percent_complete': 0, 'job_type': 'RunModel', 'loss': 0.41930097341537476, 'generations': 8, 'dataset_names': ['Crime_Reports_Test.csv'], 'artifact_names': ['af1109bbe68a47e4a52dedd9ec9c9a0b'], 'model_name': 'Clearance Status_model20190422150542', 'job_error': None}\n",
      "{'status': 'Requested', 'starttime': '2019-04-22T17:37:46.219795', 'endtime': None, 'percent_complete': 0, 'job_type': 'RunModel', 'loss': 0.41930097341537476, 'generations': 8, 'dataset_names': ['Crime_Reports_Test.csv'], 'artifact_names': ['af1109bbe68a47e4a52dedd9ec9c9a0b'], 'model_name': 'Clearance Status_model20190422150542', 'job_error': None}\n",
      "{'status': 'Requested', 'starttime': '2019-04-22T17:37:46.219795', 'endtime': None, 'percent_complete': 0, 'job_type': 'RunModel', 'loss': 0.41930097341537476, 'generations': 8, 'dataset_names': ['Crime_Reports_Test.csv'], 'artifact_names': ['af1109bbe68a47e4a52dedd9ec9c9a0b'], 'model_name': 'Clearance Status_model20190422150542', 'job_error': None}\n",
      "{'status': 'Requested', 'starttime': '2019-04-22T17:37:46.219795', 'endtime': None, 'percent_complete': 0, 'job_type': 'RunModel', 'loss': 0.41930097341537476, 'generations': 8, 'dataset_names': ['Crime_Reports_Test.csv'], 'artifact_names': ['af1109bbe68a47e4a52dedd9ec9c9a0b'], 'model_name': 'Clearance Status_model20190422150542', 'job_error': None}\n"
     ]
    },
    {
     "name": "stdout",
     "output_type": "stream",
     "text": [
      "{'status': 'Requested', 'starttime': '2019-04-22T17:37:46.219795', 'endtime': None, 'percent_complete': 0, 'job_type': 'RunModel', 'loss': 0.41930097341537476, 'generations': 8, 'dataset_names': ['Crime_Reports_Test.csv'], 'artifact_names': ['af1109bbe68a47e4a52dedd9ec9c9a0b'], 'model_name': 'Clearance Status_model20190422150542', 'job_error': None}\n",
      "{'status': 'Requested', 'starttime': '2019-04-22T17:37:46.219795', 'endtime': None, 'percent_complete': 0, 'job_type': 'RunModel', 'loss': 0.41930097341537476, 'generations': 8, 'dataset_names': ['Crime_Reports_Test.csv'], 'artifact_names': ['af1109bbe68a47e4a52dedd9ec9c9a0b'], 'model_name': 'Clearance Status_model20190422150542', 'job_error': None}\n",
      "{'status': 'Requested', 'starttime': '2019-04-22T17:37:46.219795', 'endtime': None, 'percent_complete': 0, 'job_type': 'RunModel', 'loss': 0.41930097341537476, 'generations': 8, 'dataset_names': ['Crime_Reports_Test.csv'], 'artifact_names': ['af1109bbe68a47e4a52dedd9ec9c9a0b'], 'model_name': 'Clearance Status_model20190422150542', 'job_error': None}\n",
      "{'status': 'Requested', 'starttime': '2019-04-22T17:37:46.219795', 'endtime': None, 'percent_complete': 0, 'job_type': 'RunModel', 'loss': 0.41930097341537476, 'generations': 8, 'dataset_names': ['Crime_Reports_Test.csv'], 'artifact_names': ['af1109bbe68a47e4a52dedd9ec9c9a0b'], 'model_name': 'Clearance Status_model20190422150542', 'job_error': None}\n",
      "{'status': 'Requested', 'starttime': '2019-04-22T17:37:46.219795', 'endtime': None, 'percent_complete': 0, 'job_type': 'RunModel', 'loss': 0.41930097341537476, 'generations': 8, 'dataset_names': ['Crime_Reports_Test.csv'], 'artifact_names': ['af1109bbe68a47e4a52dedd9ec9c9a0b'], 'model_name': 'Clearance Status_model20190422150542', 'job_error': None}\n",
      "{'status': 'Requested', 'starttime': '2019-04-22T17:37:46.219795', 'endtime': None, 'percent_complete': 0, 'job_type': 'RunModel', 'loss': 0.41930097341537476, 'generations': 8, 'dataset_names': ['Crime_Reports_Test.csv'], 'artifact_names': ['af1109bbe68a47e4a52dedd9ec9c9a0b'], 'model_name': 'Clearance Status_model20190422150542', 'job_error': None}\n",
      "{'status': 'Complete', 'starttime': '2019-04-22T17:37:46.219795', 'endtime': '2019-04-22T17:45:16.100964', 'percent_complete': 100, 'job_type': 'RunModel', 'loss': 0.41930097341537476, 'generations': 8, 'dataset_names': ['Crime_Reports_Test.csv'], 'artifact_names': ['af1109bbe68a47e4a52dedd9ec9c9a0b'], 'model_name': 'Clearance Status_model20190422150542', 'job_error': ''}\n",
      "              precision    recall  f1-score   support\n",
      "\n",
      "           C       0.87      0.82      0.84     73659\n",
      "           N       0.92      0.95      0.93    168064\n",
      "\n",
      "   micro avg       0.91      0.91      0.91    241723\n",
      "   macro avg       0.89      0.88      0.89    241723\n",
      "weighted avg       0.91      0.91      0.91    241723\n",
      "\n"
     ]
    },
    {
     "data": {
      "image/png": "[encoded data removed]",
      "text/plain": [
       "<Figure size 432x288 with 1 Axes>"
      ]
     },
     "metadata": {
      "needs_background": "light"
     },
     "output_type": "display_data"
    }
   ],
   "source": [
    "#Run Model on Test Data\n",
    "status, artifact = ds.run_model(\"Crime_Reports_Test.csv\", model)\n",
    "sleep(1)\n",
    "ds.wait_for_job(artifact['job_name'])\n",
    "\n",
    "status, prediction = ds.download_artifact(artifact['artifact_name'])\n",
    "df = pd.read_csv(\"Crime_Reports_Test.csv\")\n",
    "unq = prediction[target].unique()[::-1]\n",
    "p = np.zeros((len(prediction),))\n",
    "a = np.zeros((len(prediction),))\n",
    "for i,q in enumerate(unq):\n",
    "    p += i*(prediction[target] == q).values\n",
    "    a += i*(df[target] == q).values\n",
    "#Plot predictions vs actual\n",
    "plt.plot(a)\n",
    "plt.plot(p)\n",
    "plt.legend(['Actual','Predicted'])\n",
    "plt.yticks([i for i in range(len(unq))],[q for q in unq]);\n",
    "print(classification_report(df[target], prediction[target]))"
   ]
  },
  {
   "cell_type": "code",
   "execution_count": 15,
   "metadata": {},
   "outputs": [
    {
     "name": "stdout",
     "output_type": "stream",
     "text": [
      "{'type': 'XGBClassifier', 'parameters': {'base_score': 0.5, 'colsample_bylevel': 1, 'colsample_bytree': 1, 'gamma': 0, 'learning_rate': 0.4929151042161634, 'max_delta_step': 0, 'max_depth': 6, 'min_child_weight': 13, 'n_estimators': 350, 'n_jobs': -1, 'reg_alpha': 0, 'reg_lambda': 1, 'scale_pos_weight': 1, 'subsample': 0.9147648101716959}}\n"
     ]
    }
   ],
   "source": [
    "status, model_type = ds.lookup_model_name(model)\n",
    "print(model_type['description']['best_genome'])"
   ]
  },
  {
   "cell_type": "code",
   "execution_count": null,
   "metadata": {},
   "outputs": [],
   "source": []
  }
 ],
 "metadata": {
  "kernelspec": {
   "display_name": "Python 3",
   "language": "python",
   "name": "python3"
  },
  "language_info": {
   "codemirror_mode": {
    "name": "ipython",
    "version": 3
   },
   "file_extension": ".py",
   "mimetype": "text/x-python",
   "name": "python",
   "nbconvert_exporter": "python",
   "pygments_lexer": "ipython3",
   "version": "3.7.1"
  }
 },
 "nbformat": 4,
 "nbformat_minor": 2
}
